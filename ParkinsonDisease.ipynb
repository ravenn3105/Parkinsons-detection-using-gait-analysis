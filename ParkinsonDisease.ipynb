{
  "cells": [
    {
      "cell_type": "markdown",
      "metadata": {
        "id": "AWFpWc8IaSc4"
      },
      "source": [
        "\n",
        "\n",
        "\n",
        "# **Data Description**\n",
        "Parkinson's disease (PD) is one of the most common movement disorders, affecting approximately 1 million Americans (estimates range between 4 and 6.5 million people worldwide) and about 1% of older adults.\n",
        "\n",
        "This database contains measures of gait from 93 patients with idiopathic PD (mean age: 66.3 years; 63% men), and 73 healthy controls (mean age: 66.3 years; 55% men).\n",
        " Underneath each foot were 8 sensors that measure force (in Newtons) as a function of time."
      ]
    },
    {
      "cell_type": "markdown",
      "metadata": {
        "id": "_sG5dffFfc6l"
      },
      "source": [
        "# Significant components (2D)"
      ]
    },
    {
      "cell_type": "code",
      "execution_count": null,
      "metadata": {
        "id": "OiuqM30_aHfU"
      },
      "outputs": [],
      "source": [
        "import pandas as pd\n",
        "import numpy as np\n",
        "import matplotlib.pyplot as plt\n",
        "from sklearn.preprocessing import PolynomialFeatures\n",
        "from sklearn import decomposition\n",
        "from mpl_toolkits.mplot3d import Axes3D\n",
        "import os\n",
        "%matplotlib notebook"
      ]
    },
    {
      "cell_type": "code",
      "execution_count": null,
      "metadata": {
        "id": "scCnp5KPmI8u"
      },
      "outputs": [],
      "source": [
        "ds_co = pd.read_csv('https://raw.githubusercontent.com/mittrayash/Parkinson-s-Disease-Detection-using-Gait-Analysis/master/Combined%20Datasets/Co_final.csv')\n",
        "ds_pt = pd.read_csv('https://raw.githubusercontent.com/mittrayash/Parkinson-s-Disease-Detection-using-Gait-Analysis/master/Combined%20Datasets/Pt_final.csv')"
      ]
    },
    {
      "cell_type": "code",
      "execution_count": null,
      "metadata": {
        "id": "gB76BqYlnBB1"
      },
      "outputs": [],
      "source": [
        "ds_co = ds_co.iloc[:, 1:-2]\n",
        "ds_pt = ds_pt.iloc[:, 1:-2]"
      ]
    },
    {
      "cell_type": "code",
      "execution_count": null,
      "metadata": {
        "id": "7Uh9vCXqnIHg"
      },
      "outputs": [],
      "source": [
        "# Creating a Polynomial Features object\n",
        "\n",
        "\"\"\"poly = PolynomialFeatures(degree=2)\n",
        "ds_co_poly = poly.fit_transform(ds_co)\n",
        "ds_pt_poly = poly.fit_transform(ds_pt)\"\"\"\n",
        "ds_co_poly = ds_co\n",
        "ds_pt_poly = ds_pt"
      ]
    },
    {
      "cell_type": "code",
      "execution_count": null,
      "metadata": {
        "colab": {
          "base_uri": "https://localhost:8080/"
        },
        "id": "k9L5OFRwkm-P",
        "outputId": "6f5c8d4a-eebf-41fc-837a-05ba6d55a77c"
      },
      "outputs": [
        {
          "ename": "ValueError",
          "evalue": "at least one array or dtype is required",
          "output_type": "error",
          "traceback": [
            "\u001b[0;31m---------------------------------------------------------------------------\u001b[0m",
            "\u001b[0;31mValueError\u001b[0m                                Traceback (most recent call last)",
            "\u001b[0;32m<ipython-input-6-6ca18faa4b71>\u001b[0m in \u001b[0;36m<cell line: 3>\u001b[0;34m()\u001b[0m\n\u001b[1;32m      1\u001b[0m \u001b[0mpca1\u001b[0m \u001b[0;34m=\u001b[0m \u001b[0mdecomposition\u001b[0m\u001b[0;34m.\u001b[0m\u001b[0mPCA\u001b[0m\u001b[0;34m(\u001b[0m\u001b[0mn_components\u001b[0m\u001b[0;34m=\u001b[0m\u001b[0;36m2\u001b[0m\u001b[0;34m)\u001b[0m\u001b[0;34m\u001b[0m\u001b[0;34m\u001b[0m\u001b[0m\n\u001b[1;32m      2\u001b[0m \u001b[0mds_co_poly_pca\u001b[0m \u001b[0;34m=\u001b[0m \u001b[0mpca1\u001b[0m\u001b[0;34m.\u001b[0m\u001b[0mfit_transform\u001b[0m\u001b[0;34m(\u001b[0m\u001b[0mds_co_poly\u001b[0m\u001b[0;34m)\u001b[0m\u001b[0;34m\u001b[0m\u001b[0;34m\u001b[0m\u001b[0m\n\u001b[0;32m----> 3\u001b[0;31m \u001b[0mds_pt_poly_pca\u001b[0m \u001b[0;34m=\u001b[0m \u001b[0mpca1\u001b[0m\u001b[0;34m.\u001b[0m\u001b[0mfit_transform\u001b[0m\u001b[0;34m(\u001b[0m\u001b[0mds_pt_poly\u001b[0m\u001b[0;34m)\u001b[0m\u001b[0;34m\u001b[0m\u001b[0;34m\u001b[0m\u001b[0m\n\u001b[0m",
            "\u001b[0;32m/usr/local/lib/python3.10/dist-packages/sklearn/utils/_set_output.py\u001b[0m in \u001b[0;36mwrapped\u001b[0;34m(self, X, *args, **kwargs)\u001b[0m\n\u001b[1;32m    138\u001b[0m     \u001b[0;34m@\u001b[0m\u001b[0mwraps\u001b[0m\u001b[0;34m(\u001b[0m\u001b[0mf\u001b[0m\u001b[0;34m)\u001b[0m\u001b[0;34m\u001b[0m\u001b[0;34m\u001b[0m\u001b[0m\n\u001b[1;32m    139\u001b[0m     \u001b[0;32mdef\u001b[0m \u001b[0mwrapped\u001b[0m\u001b[0;34m(\u001b[0m\u001b[0mself\u001b[0m\u001b[0;34m,\u001b[0m \u001b[0mX\u001b[0m\u001b[0;34m,\u001b[0m \u001b[0;34m*\u001b[0m\u001b[0margs\u001b[0m\u001b[0;34m,\u001b[0m \u001b[0;34m**\u001b[0m\u001b[0mkwargs\u001b[0m\u001b[0;34m)\u001b[0m\u001b[0;34m:\u001b[0m\u001b[0;34m\u001b[0m\u001b[0;34m\u001b[0m\u001b[0m\n\u001b[0;32m--> 140\u001b[0;31m         \u001b[0mdata_to_wrap\u001b[0m \u001b[0;34m=\u001b[0m \u001b[0mf\u001b[0m\u001b[0;34m(\u001b[0m\u001b[0mself\u001b[0m\u001b[0;34m,\u001b[0m \u001b[0mX\u001b[0m\u001b[0;34m,\u001b[0m \u001b[0;34m*\u001b[0m\u001b[0margs\u001b[0m\u001b[0;34m,\u001b[0m \u001b[0;34m**\u001b[0m\u001b[0mkwargs\u001b[0m\u001b[0;34m)\u001b[0m\u001b[0;34m\u001b[0m\u001b[0;34m\u001b[0m\u001b[0m\n\u001b[0m\u001b[1;32m    141\u001b[0m         \u001b[0;32mif\u001b[0m \u001b[0misinstance\u001b[0m\u001b[0;34m(\u001b[0m\u001b[0mdata_to_wrap\u001b[0m\u001b[0;34m,\u001b[0m \u001b[0mtuple\u001b[0m\u001b[0;34m)\u001b[0m\u001b[0;34m:\u001b[0m\u001b[0;34m\u001b[0m\u001b[0;34m\u001b[0m\u001b[0m\n\u001b[1;32m    142\u001b[0m             \u001b[0;31m# only wrap the first output for cross decomposition\u001b[0m\u001b[0;34m\u001b[0m\u001b[0;34m\u001b[0m\u001b[0m\n",
            "\u001b[0;32m/usr/local/lib/python3.10/dist-packages/sklearn/decomposition/_pca.py\u001b[0m in \u001b[0;36mfit_transform\u001b[0;34m(self, X, y)\u001b[0m\n\u001b[1;32m    460\u001b[0m         \u001b[0mself\u001b[0m\u001b[0;34m.\u001b[0m\u001b[0m_validate_params\u001b[0m\u001b[0;34m(\u001b[0m\u001b[0;34m)\u001b[0m\u001b[0;34m\u001b[0m\u001b[0;34m\u001b[0m\u001b[0m\n\u001b[1;32m    461\u001b[0m \u001b[0;34m\u001b[0m\u001b[0m\n\u001b[0;32m--> 462\u001b[0;31m         \u001b[0mU\u001b[0m\u001b[0;34m,\u001b[0m \u001b[0mS\u001b[0m\u001b[0;34m,\u001b[0m \u001b[0mVt\u001b[0m \u001b[0;34m=\u001b[0m \u001b[0mself\u001b[0m\u001b[0;34m.\u001b[0m\u001b[0m_fit\u001b[0m\u001b[0;34m(\u001b[0m\u001b[0mX\u001b[0m\u001b[0;34m)\u001b[0m\u001b[0;34m\u001b[0m\u001b[0;34m\u001b[0m\u001b[0m\n\u001b[0m\u001b[1;32m    463\u001b[0m         \u001b[0mU\u001b[0m \u001b[0;34m=\u001b[0m \u001b[0mU\u001b[0m\u001b[0;34m[\u001b[0m\u001b[0;34m:\u001b[0m\u001b[0;34m,\u001b[0m \u001b[0;34m:\u001b[0m \u001b[0mself\u001b[0m\u001b[0;34m.\u001b[0m\u001b[0mn_components_\u001b[0m\u001b[0;34m]\u001b[0m\u001b[0;34m\u001b[0m\u001b[0;34m\u001b[0m\u001b[0m\n\u001b[1;32m    464\u001b[0m \u001b[0;34m\u001b[0m\u001b[0m\n",
            "\u001b[0;32m/usr/local/lib/python3.10/dist-packages/sklearn/decomposition/_pca.py\u001b[0m in \u001b[0;36m_fit\u001b[0;34m(self, X)\u001b[0m\n\u001b[1;32m    483\u001b[0m             )\n\u001b[1;32m    484\u001b[0m \u001b[0;34m\u001b[0m\u001b[0m\n\u001b[0;32m--> 485\u001b[0;31m         X = self._validate_data(\n\u001b[0m\u001b[1;32m    486\u001b[0m             \u001b[0mX\u001b[0m\u001b[0;34m,\u001b[0m \u001b[0mdtype\u001b[0m\u001b[0;34m=\u001b[0m\u001b[0;34m[\u001b[0m\u001b[0mnp\u001b[0m\u001b[0;34m.\u001b[0m\u001b[0mfloat64\u001b[0m\u001b[0;34m,\u001b[0m \u001b[0mnp\u001b[0m\u001b[0;34m.\u001b[0m\u001b[0mfloat32\u001b[0m\u001b[0;34m]\u001b[0m\u001b[0;34m,\u001b[0m \u001b[0mensure_2d\u001b[0m\u001b[0;34m=\u001b[0m\u001b[0;32mTrue\u001b[0m\u001b[0;34m,\u001b[0m \u001b[0mcopy\u001b[0m\u001b[0;34m=\u001b[0m\u001b[0mself\u001b[0m\u001b[0;34m.\u001b[0m\u001b[0mcopy\u001b[0m\u001b[0;34m\u001b[0m\u001b[0;34m\u001b[0m\u001b[0m\n\u001b[1;32m    487\u001b[0m         )\n",
            "\u001b[0;32m/usr/local/lib/python3.10/dist-packages/sklearn/base.py\u001b[0m in \u001b[0;36m_validate_data\u001b[0;34m(self, X, y, reset, validate_separately, **check_params)\u001b[0m\n\u001b[1;32m    563\u001b[0m             \u001b[0;32mraise\u001b[0m \u001b[0mValueError\u001b[0m\u001b[0;34m(\u001b[0m\u001b[0;34m\"Validation should be done on X, y or both.\"\u001b[0m\u001b[0;34m)\u001b[0m\u001b[0;34m\u001b[0m\u001b[0;34m\u001b[0m\u001b[0m\n\u001b[1;32m    564\u001b[0m         \u001b[0;32melif\u001b[0m \u001b[0;32mnot\u001b[0m \u001b[0mno_val_X\u001b[0m \u001b[0;32mand\u001b[0m \u001b[0mno_val_y\u001b[0m\u001b[0;34m:\u001b[0m\u001b[0;34m\u001b[0m\u001b[0;34m\u001b[0m\u001b[0m\n\u001b[0;32m--> 565\u001b[0;31m             \u001b[0mX\u001b[0m \u001b[0;34m=\u001b[0m \u001b[0mcheck_array\u001b[0m\u001b[0;34m(\u001b[0m\u001b[0mX\u001b[0m\u001b[0;34m,\u001b[0m \u001b[0minput_name\u001b[0m\u001b[0;34m=\u001b[0m\u001b[0;34m\"X\"\u001b[0m\u001b[0;34m,\u001b[0m \u001b[0;34m**\u001b[0m\u001b[0mcheck_params\u001b[0m\u001b[0;34m)\u001b[0m\u001b[0;34m\u001b[0m\u001b[0;34m\u001b[0m\u001b[0m\n\u001b[0m\u001b[1;32m    566\u001b[0m             \u001b[0mout\u001b[0m \u001b[0;34m=\u001b[0m \u001b[0mX\u001b[0m\u001b[0;34m\u001b[0m\u001b[0;34m\u001b[0m\u001b[0m\n\u001b[1;32m    567\u001b[0m         \u001b[0;32melif\u001b[0m \u001b[0mno_val_X\u001b[0m \u001b[0;32mand\u001b[0m \u001b[0;32mnot\u001b[0m \u001b[0mno_val_y\u001b[0m\u001b[0;34m:\u001b[0m\u001b[0;34m\u001b[0m\u001b[0;34m\u001b[0m\u001b[0m\n",
            "\u001b[0;32m/usr/local/lib/python3.10/dist-packages/sklearn/utils/validation.py\u001b[0m in \u001b[0;36mcheck_array\u001b[0;34m(array, accept_sparse, accept_large_sparse, dtype, order, copy, force_all_finite, ensure_2d, allow_nd, ensure_min_samples, ensure_min_features, estimator, input_name)\u001b[0m\n\u001b[1;32m    776\u001b[0m         )\n\u001b[1;32m    777\u001b[0m         \u001b[0;32mif\u001b[0m \u001b[0mall\u001b[0m\u001b[0;34m(\u001b[0m\u001b[0misinstance\u001b[0m\u001b[0;34m(\u001b[0m\u001b[0mdtype_iter\u001b[0m\u001b[0;34m,\u001b[0m \u001b[0mnp\u001b[0m\u001b[0;34m.\u001b[0m\u001b[0mdtype\u001b[0m\u001b[0;34m)\u001b[0m \u001b[0;32mfor\u001b[0m \u001b[0mdtype_iter\u001b[0m \u001b[0;32min\u001b[0m \u001b[0mdtypes_orig\u001b[0m\u001b[0;34m)\u001b[0m\u001b[0;34m:\u001b[0m\u001b[0;34m\u001b[0m\u001b[0;34m\u001b[0m\u001b[0m\n\u001b[0;32m--> 778\u001b[0;31m             \u001b[0mdtype_orig\u001b[0m \u001b[0;34m=\u001b[0m \u001b[0mnp\u001b[0m\u001b[0;34m.\u001b[0m\u001b[0mresult_type\u001b[0m\u001b[0;34m(\u001b[0m\u001b[0;34m*\u001b[0m\u001b[0mdtypes_orig\u001b[0m\u001b[0;34m)\u001b[0m\u001b[0;34m\u001b[0m\u001b[0;34m\u001b[0m\u001b[0m\n\u001b[0m\u001b[1;32m    779\u001b[0m \u001b[0;34m\u001b[0m\u001b[0m\n\u001b[1;32m    780\u001b[0m     \u001b[0;32melif\u001b[0m \u001b[0mhasattr\u001b[0m\u001b[0;34m(\u001b[0m\u001b[0marray\u001b[0m\u001b[0;34m,\u001b[0m \u001b[0;34m\"iloc\"\u001b[0m\u001b[0;34m)\u001b[0m \u001b[0;32mand\u001b[0m \u001b[0mhasattr\u001b[0m\u001b[0;34m(\u001b[0m\u001b[0marray\u001b[0m\u001b[0;34m,\u001b[0m \u001b[0;34m\"dtype\"\u001b[0m\u001b[0;34m)\u001b[0m\u001b[0;34m:\u001b[0m\u001b[0;34m\u001b[0m\u001b[0;34m\u001b[0m\u001b[0m\n",
            "\u001b[0;31mValueError\u001b[0m: at least one array or dtype is required"
          ]
        }
      ],
      "source": [
        "pca1 = decomposition.PCA(n_components=2)\n",
        "ds_co_poly_pca = pca1.fit_transform(ds_co_poly)\n",
        "ds_pt_poly_pca = pca1.fit_transform(ds_pt_poly)"
      ]
    },
    {
      "cell_type": "code",
      "execution_count": null,
      "metadata": {
        "id": "mb8_9K5YnTkC"
      },
      "outputs": [],
      "source": [
        "# Dataframe consisting of significance of components of Polynomial Features\n",
        "df_pca1 = pd.DataFrame(pca1.components_)\n",
        "df_pca1.shape"
      ]
    },
    {
      "cell_type": "code",
      "execution_count": null,
      "metadata": {
        "id": "bI3dO5T9nT03"
      },
      "outputs": [],
      "source": [
        "# Retrieving the most significant component's values\n",
        "\n",
        "pd.DataFrame(pca1.components_).apply((lambda x: x.nlargest(3)), axis=1)"
      ]
    },
    {
      "cell_type": "code",
      "execution_count": null,
      "metadata": {
        "id": "BmI5Qxr9nUEy"
      },
      "outputs": [],
      "source": [
        "# Retrieving the most significant component's index\n",
        "pd.DataFrame(pca1.components_).apply((lambda x: x.argmax()), axis=1)"
      ]
    },
    {
      "cell_type": "markdown",
      "metadata": {
        "id": "SOt98jjsaRsM"
      },
      "source": [
        "# Significant Component (3D)"
      ]
    },
    {
      "cell_type": "code",
      "execution_count": null,
      "metadata": {
        "id": "rd8AzaVko6UV"
      },
      "outputs": [],
      "source": [
        "# Importing files with data for affected and non-affected test subjects.\n",
        "GaCo02_01='https://raw.githubusercontent.com/mittrayash/Parkinson-s-Disease-Detection-using-Gait-Analysis/master/CSV/GaCo02_01.csv'\n",
        "GaPt04_01='https://raw.githubusercontent.com/mittrayash/Parkinson-s-Disease-Detection-using-Gait-Analysis/master/CSV/GaPt04_01.csv'\n",
        "ds_co_3d = pd.read_csv(GaCo02_01)\n",
        "ds_pt_3d = pd.read_csv(GaPt04_01)"
      ]
    },
    {
      "cell_type": "code",
      "execution_count": null,
      "metadata": {
        "id": "8oM5D9hBnuJV"
      },
      "outputs": [],
      "source": [
        "ds_co_3d = ds_co_3d.iloc[:, 1:-2]\n",
        "ds_pt_3d = ds_pt_3d.iloc[:, 1:-2]"
      ]
    },
    {
      "cell_type": "code",
      "execution_count": null,
      "metadata": {
        "id": "ZUxQtdU3nzMe"
      },
      "outputs": [],
      "source": [
        "\n",
        "# Creating a Polynomial Features object of degree 2\n",
        "\n",
        "poly = PolynomialFeatures(degree=2)\n",
        "\n",
        "# Transforming data using polynomial Features object\n",
        "ds_co_poly_3d = poly.fit_transform(ds_co_3d)\n",
        "ds_pt_poly_3d = poly.fit_transform(ds_pt_3d)"
      ]
    },
    {
      "cell_type": "code",
      "execution_count": null,
      "metadata": {
        "id": "6wA27VFrn1Z7"
      },
      "outputs": [],
      "source": [
        "# Apllied PCA to reduce data to 3 dimensions\n",
        "\n",
        "pca2 = decomposition.PCA(n_components=3)\n",
        "ds_co_poly_pca_3d = pca2.fit_transform(ds_co_poly_3d)\n",
        "ds_pt_poly_pca_3d = pca2.fit_transform(ds_pt_poly_3d)"
      ]
    },
    {
      "cell_type": "code",
      "execution_count": null,
      "metadata": {
        "colab": {
          "base_uri": "https://localhost:8080/"
        },
        "id": "q93QKax5n1mm",
        "outputId": "36db9b4b-7301-4d57-a03d-b3cec3a07883"
      },
      "outputs": [
        {
          "data": {
            "text/plain": [
              "(3, 153)"
            ]
          },
          "execution_count": 11,
          "metadata": {},
          "output_type": "execute_result"
        }
      ],
      "source": [
        "# Dataframe consisting of significance values of components of Polynomial Features\n",
        "\n",
        "df_pca2 = pd.DataFrame(pca2.components_)\n",
        "df_pca2.shape"
      ]
    },
    {
      "cell_type": "code",
      "execution_count": null,
      "metadata": {
        "colab": {
          "base_uri": "https://localhost:8080/"
        },
        "id": "QxMoixD-n1zj",
        "outputId": "ba24f18b-3bc1-45a9-f61d-f7861df7c352"
      },
      "outputs": [
        {
          "data": {
            "application/vnd.google.colaboratory.intrinsic+json": {
              "summary": "{\n  \"name\": \"pd\",\n  \"rows\": 3,\n  \"fields\": [\n    {\n      \"column\": 17,\n      \"properties\": {\n        \"dtype\": \"number\",\n        \"std\": NaN,\n        \"min\": 0.41932742437853615,\n        \"max\": 0.41932742437853615,\n        \"samples\": [\n          0.41932742437853615\n        ],\n        \"num_unique_values\": 1,\n        \"semantic_type\": \"\",\n        \"description\": \"\"\n      }\n    },\n    {\n      \"column\": 18,\n      \"properties\": {\n        \"dtype\": \"number\",\n        \"std\": NaN,\n        \"min\": 0.21121718964847383,\n        \"max\": 0.21121718964847383,\n        \"samples\": [\n          0.21121718964847383\n        ],\n        \"num_unique_values\": 1,\n        \"semantic_type\": \"\",\n        \"description\": \"\"\n      }\n    },\n    {\n      \"column\": 32,\n      \"properties\": {\n        \"dtype\": \"number\",\n        \"std\": NaN,\n        \"min\": 0.20453944769893118,\n        \"max\": 0.20453944769893118,\n        \"samples\": [\n          0.20453944769893118\n        ],\n        \"num_unique_values\": 1,\n        \"semantic_type\": \"\",\n        \"description\": \"\"\n      }\n    },\n    {\n      \"column\": 88,\n      \"properties\": {\n        \"dtype\": \"number\",\n        \"std\": NaN,\n        \"min\": 0.200693779670845,\n        \"max\": 0.200693779670845,\n        \"samples\": [\n          0.200693779670845\n        ],\n        \"num_unique_values\": 1,\n        \"semantic_type\": \"\",\n        \"description\": \"\"\n      }\n    },\n    {\n      \"column\": 98,\n      \"properties\": {\n        \"dtype\": \"number\",\n        \"std\": NaN,\n        \"min\": 0.36740253466598954,\n        \"max\": 0.36740253466598954,\n        \"samples\": [\n          0.36740253466598954\n        ],\n        \"num_unique_values\": 1,\n        \"semantic_type\": \"\",\n        \"description\": \"\"\n      }\n    },\n    {\n      \"column\": 138,\n      \"properties\": {\n        \"dtype\": \"number\",\n        \"std\": NaN,\n        \"min\": 0.19821647633973963,\n        \"max\": 0.19821647633973963,\n        \"samples\": [\n          0.19821647633973963\n        ],\n        \"num_unique_values\": 1,\n        \"semantic_type\": \"\",\n        \"description\": \"\"\n      }\n    },\n    {\n      \"column\": 140,\n      \"properties\": {\n        \"dtype\": \"number\",\n        \"std\": NaN,\n        \"min\": 0.1898261869803879,\n        \"max\": 0.1898261869803879,\n        \"samples\": [\n          0.1898261869803879\n        ],\n        \"num_unique_values\": 1,\n        \"semantic_type\": \"\",\n        \"description\": \"\"\n      }\n    },\n    {\n      \"column\": 147,\n      \"properties\": {\n        \"dtype\": \"number\",\n        \"std\": 0.007324932942060785,\n        \"min\": 0.1919746845956158,\n        \"max\": 0.20233370410575163,\n        \"samples\": [\n          0.20233370410575163\n        ],\n        \"num_unique_values\": 2,\n        \"semantic_type\": \"\",\n        \"description\": \"\"\n      }\n    }\n  ]\n}",
              "type": "dataframe"
            },
            "text/html": [
              "\n",
              "  <div id=\"df-f8193d83-adfc-4c7f-835b-910e4ef6d177\" class=\"colab-df-container\">\n",
              "    <div>\n",
              "<style scoped>\n",
              "    .dataframe tbody tr th:only-of-type {\n",
              "        vertical-align: middle;\n",
              "    }\n",
              "\n",
              "    .dataframe tbody tr th {\n",
              "        vertical-align: top;\n",
              "    }\n",
              "\n",
              "    .dataframe thead th {\n",
              "        text-align: right;\n",
              "    }\n",
              "</style>\n",
              "<table border=\"1\" class=\"dataframe\">\n",
              "  <thead>\n",
              "    <tr style=\"text-align: right;\">\n",
              "      <th></th>\n",
              "      <th>17</th>\n",
              "      <th>18</th>\n",
              "      <th>32</th>\n",
              "      <th>88</th>\n",
              "      <th>98</th>\n",
              "      <th>138</th>\n",
              "      <th>140</th>\n",
              "      <th>147</th>\n",
              "    </tr>\n",
              "  </thead>\n",
              "  <tbody>\n",
              "    <tr>\n",
              "      <th>0</th>\n",
              "      <td>NaN</td>\n",
              "      <td>NaN</td>\n",
              "      <td>NaN</td>\n",
              "      <td>NaN</td>\n",
              "      <td>NaN</td>\n",
              "      <td>0.198216</td>\n",
              "      <td>0.189826</td>\n",
              "      <td>0.191975</td>\n",
              "    </tr>\n",
              "    <tr>\n",
              "      <th>1</th>\n",
              "      <td>0.419327</td>\n",
              "      <td>0.211217</td>\n",
              "      <td>0.204539</td>\n",
              "      <td>NaN</td>\n",
              "      <td>NaN</td>\n",
              "      <td>NaN</td>\n",
              "      <td>NaN</td>\n",
              "      <td>NaN</td>\n",
              "    </tr>\n",
              "    <tr>\n",
              "      <th>2</th>\n",
              "      <td>NaN</td>\n",
              "      <td>NaN</td>\n",
              "      <td>NaN</td>\n",
              "      <td>0.200694</td>\n",
              "      <td>0.367403</td>\n",
              "      <td>NaN</td>\n",
              "      <td>NaN</td>\n",
              "      <td>0.202334</td>\n",
              "    </tr>\n",
              "  </tbody>\n",
              "</table>\n",
              "</div>\n",
              "    <div class=\"colab-df-buttons\">\n",
              "\n",
              "  <div class=\"colab-df-container\">\n",
              "    <button class=\"colab-df-convert\" onclick=\"convertToInteractive('df-f8193d83-adfc-4c7f-835b-910e4ef6d177')\"\n",
              "            title=\"Convert this dataframe to an interactive table.\"\n",
              "            style=\"display:none;\">\n",
              "\n",
              "  <svg xmlns=\"http://www.w3.org/2000/svg\" height=\"24px\" viewBox=\"0 -960 960 960\">\n",
              "    <path d=\"M120-120v-720h720v720H120Zm60-500h600v-160H180v160Zm220 220h160v-160H400v160Zm0 220h160v-160H400v160ZM180-400h160v-160H180v160Zm440 0h160v-160H620v160ZM180-180h160v-160H180v160Zm440 0h160v-160H620v160Z\"/>\n",
              "  </svg>\n",
              "    </button>\n",
              "\n",
              "  <style>\n",
              "    .colab-df-container {\n",
              "      display:flex;\n",
              "      gap: 12px;\n",
              "    }\n",
              "\n",
              "    .colab-df-convert {\n",
              "      background-color: #E8F0FE;\n",
              "      border: none;\n",
              "      border-radius: 50%;\n",
              "      cursor: pointer;\n",
              "      display: none;\n",
              "      fill: #1967D2;\n",
              "      height: 32px;\n",
              "      padding: 0 0 0 0;\n",
              "      width: 32px;\n",
              "    }\n",
              "\n",
              "    .colab-df-convert:hover {\n",
              "      background-color: #E2EBFA;\n",
              "      box-shadow: 0px 1px 2px rgba(60, 64, 67, 0.3), 0px 1px 3px 1px rgba(60, 64, 67, 0.15);\n",
              "      fill: #174EA6;\n",
              "    }\n",
              "\n",
              "    .colab-df-buttons div {\n",
              "      margin-bottom: 4px;\n",
              "    }\n",
              "\n",
              "    [theme=dark] .colab-df-convert {\n",
              "      background-color: #3B4455;\n",
              "      fill: #D2E3FC;\n",
              "    }\n",
              "\n",
              "    [theme=dark] .colab-df-convert:hover {\n",
              "      background-color: #434B5C;\n",
              "      box-shadow: 0px 1px 3px 1px rgba(0, 0, 0, 0.15);\n",
              "      filter: drop-shadow(0px 1px 2px rgba(0, 0, 0, 0.3));\n",
              "      fill: #FFFFFF;\n",
              "    }\n",
              "  </style>\n",
              "\n",
              "    <script>\n",
              "      const buttonEl =\n",
              "        document.querySelector('#df-f8193d83-adfc-4c7f-835b-910e4ef6d177 button.colab-df-convert');\n",
              "      buttonEl.style.display =\n",
              "        google.colab.kernel.accessAllowed ? 'block' : 'none';\n",
              "\n",
              "      async function convertToInteractive(key) {\n",
              "        const element = document.querySelector('#df-f8193d83-adfc-4c7f-835b-910e4ef6d177');\n",
              "        const dataTable =\n",
              "          await google.colab.kernel.invokeFunction('convertToInteractive',\n",
              "                                                    [key], {});\n",
              "        if (!dataTable) return;\n",
              "\n",
              "        const docLinkHtml = 'Like what you see? Visit the ' +\n",
              "          '<a target=\"_blank\" href=https://colab.research.google.com/notebooks/data_table.ipynb>data table notebook</a>'\n",
              "          + ' to learn more about interactive tables.';\n",
              "        element.innerHTML = '';\n",
              "        dataTable['output_type'] = 'display_data';\n",
              "        await google.colab.output.renderOutput(dataTable, element);\n",
              "        const docLink = document.createElement('div');\n",
              "        docLink.innerHTML = docLinkHtml;\n",
              "        element.appendChild(docLink);\n",
              "      }\n",
              "    </script>\n",
              "  </div>\n",
              "\n",
              "\n",
              "<div id=\"df-968949e2-fd68-4b25-980b-78fa92c43ed6\">\n",
              "  <button class=\"colab-df-quickchart\" onclick=\"quickchart('df-968949e2-fd68-4b25-980b-78fa92c43ed6')\"\n",
              "            title=\"Suggest charts\"\n",
              "            style=\"display:none;\">\n",
              "\n",
              "<svg xmlns=\"http://www.w3.org/2000/svg\" height=\"24px\"viewBox=\"0 0 24 24\"\n",
              "     width=\"24px\">\n",
              "    <g>\n",
              "        <path d=\"M19 3H5c-1.1 0-2 .9-2 2v14c0 1.1.9 2 2 2h14c1.1 0 2-.9 2-2V5c0-1.1-.9-2-2-2zM9 17H7v-7h2v7zm4 0h-2V7h2v10zm4 0h-2v-4h2v4z\"/>\n",
              "    </g>\n",
              "</svg>\n",
              "  </button>\n",
              "\n",
              "<style>\n",
              "  .colab-df-quickchart {\n",
              "      --bg-color: #E8F0FE;\n",
              "      --fill-color: #1967D2;\n",
              "      --hover-bg-color: #E2EBFA;\n",
              "      --hover-fill-color: #174EA6;\n",
              "      --disabled-fill-color: #AAA;\n",
              "      --disabled-bg-color: #DDD;\n",
              "  }\n",
              "\n",
              "  [theme=dark] .colab-df-quickchart {\n",
              "      --bg-color: #3B4455;\n",
              "      --fill-color: #D2E3FC;\n",
              "      --hover-bg-color: #434B5C;\n",
              "      --hover-fill-color: #FFFFFF;\n",
              "      --disabled-bg-color: #3B4455;\n",
              "      --disabled-fill-color: #666;\n",
              "  }\n",
              "\n",
              "  .colab-df-quickchart {\n",
              "    background-color: var(--bg-color);\n",
              "    border: none;\n",
              "    border-radius: 50%;\n",
              "    cursor: pointer;\n",
              "    display: none;\n",
              "    fill: var(--fill-color);\n",
              "    height: 32px;\n",
              "    padding: 0;\n",
              "    width: 32px;\n",
              "  }\n",
              "\n",
              "  .colab-df-quickchart:hover {\n",
              "    background-color: var(--hover-bg-color);\n",
              "    box-shadow: 0 1px 2px rgba(60, 64, 67, 0.3), 0 1px 3px 1px rgba(60, 64, 67, 0.15);\n",
              "    fill: var(--button-hover-fill-color);\n",
              "  }\n",
              "\n",
              "  .colab-df-quickchart-complete:disabled,\n",
              "  .colab-df-quickchart-complete:disabled:hover {\n",
              "    background-color: var(--disabled-bg-color);\n",
              "    fill: var(--disabled-fill-color);\n",
              "    box-shadow: none;\n",
              "  }\n",
              "\n",
              "  .colab-df-spinner {\n",
              "    border: 2px solid var(--fill-color);\n",
              "    border-color: transparent;\n",
              "    border-bottom-color: var(--fill-color);\n",
              "    animation:\n",
              "      spin 1s steps(1) infinite;\n",
              "  }\n",
              "\n",
              "  @keyframes spin {\n",
              "    0% {\n",
              "      border-color: transparent;\n",
              "      border-bottom-color: var(--fill-color);\n",
              "      border-left-color: var(--fill-color);\n",
              "    }\n",
              "    20% {\n",
              "      border-color: transparent;\n",
              "      border-left-color: var(--fill-color);\n",
              "      border-top-color: var(--fill-color);\n",
              "    }\n",
              "    30% {\n",
              "      border-color: transparent;\n",
              "      border-left-color: var(--fill-color);\n",
              "      border-top-color: var(--fill-color);\n",
              "      border-right-color: var(--fill-color);\n",
              "    }\n",
              "    40% {\n",
              "      border-color: transparent;\n",
              "      border-right-color: var(--fill-color);\n",
              "      border-top-color: var(--fill-color);\n",
              "    }\n",
              "    60% {\n",
              "      border-color: transparent;\n",
              "      border-right-color: var(--fill-color);\n",
              "    }\n",
              "    80% {\n",
              "      border-color: transparent;\n",
              "      border-right-color: var(--fill-color);\n",
              "      border-bottom-color: var(--fill-color);\n",
              "    }\n",
              "    90% {\n",
              "      border-color: transparent;\n",
              "      border-bottom-color: var(--fill-color);\n",
              "    }\n",
              "  }\n",
              "</style>\n",
              "\n",
              "  <script>\n",
              "    async function quickchart(key) {\n",
              "      const quickchartButtonEl =\n",
              "        document.querySelector('#' + key + ' button');\n",
              "      quickchartButtonEl.disabled = true;  // To prevent multiple clicks.\n",
              "      quickchartButtonEl.classList.add('colab-df-spinner');\n",
              "      try {\n",
              "        const charts = await google.colab.kernel.invokeFunction(\n",
              "            'suggestCharts', [key], {});\n",
              "      } catch (error) {\n",
              "        console.error('Error during call to suggestCharts:', error);\n",
              "      }\n",
              "      quickchartButtonEl.classList.remove('colab-df-spinner');\n",
              "      quickchartButtonEl.classList.add('colab-df-quickchart-complete');\n",
              "    }\n",
              "    (() => {\n",
              "      let quickchartButtonEl =\n",
              "        document.querySelector('#df-968949e2-fd68-4b25-980b-78fa92c43ed6 button');\n",
              "      quickchartButtonEl.style.display =\n",
              "        google.colab.kernel.accessAllowed ? 'block' : 'none';\n",
              "    })();\n",
              "  </script>\n",
              "</div>\n",
              "\n",
              "    </div>\n",
              "  </div>\n"
            ],
            "text/plain": [
              "        17        18        32        88        98        138       140  \\\n",
              "0       NaN       NaN       NaN       NaN       NaN  0.198216  0.189826   \n",
              "1  0.419327  0.211217  0.204539       NaN       NaN       NaN       NaN   \n",
              "2       NaN       NaN       NaN  0.200694  0.367403       NaN       NaN   \n",
              "\n",
              "        147  \n",
              "0  0.191975  \n",
              "1       NaN  \n",
              "2  0.202334  "
            ]
          },
          "execution_count": 12,
          "metadata": {},
          "output_type": "execute_result"
        }
      ],
      "source": [
        "# Retrieving the most significant component's values along with their indices\n",
        "\n",
        "pd.DataFrame(pca2.components_).apply((lambda x: x.nlargest(3)), axis=1)"
      ]
    },
    {
      "cell_type": "code",
      "execution_count": null,
      "metadata": {
        "colab": {
          "base_uri": "https://localhost:8080/"
        },
        "id": "Psx5WLwUrGAo",
        "outputId": "d92091d0-627e-4cb7-9089-f320a7f2d2d7"
      },
      "outputs": [
        {
          "data": {
            "text/plain": [
              "0    8\n",
              "1    6\n",
              "dtype: int64"
            ]
          },
          "execution_count": 13,
          "metadata": {},
          "output_type": "execute_result"
        }
      ],
      "source": [
        "# Retrieving the most significant component's index\n",
        "\n",
        "pd.DataFrame(pca1.components_).apply((lambda x: x.argmax()), axis=1)"
      ]
    },
    {
      "cell_type": "code",
      "execution_count": null,
      "metadata": {
        "colab": {
          "base_uri": "https://localhost:8080/"
        },
        "id": "GU6yu9Lbn2pb",
        "outputId": "6a9020ff-49dd-410b-bea1-dbe827987b16"
      },
      "outputs": [
        {
          "name": "stdout",
          "output_type": "stream",
          "text": [
            "['VGRF_right_s4^2', 'VGRF_right_s6^2', 'VGRF_right_s4 VGRF_right_s6']\n",
            "\n",
            "\n",
            "['VGRF_left_s1^2', 'VGRF_left_s1 VGRF_left_s2', 'VGRF_left_s1 VGRF_right_s8']\n",
            "\n",
            "\n",
            "['VGRF_left_s7^2', 'VGRF_right_s6^2', 'VGRF_left_s6 VGRF_left_s7']\n",
            "\n",
            "\n"
          ]
        }
      ],
      "source": [
        "# Retrieving the 3 most significant component's name for PC1\n",
        "\n",
        "print([poly.get_feature_names_out(ds_co_3d.columns)[138],\n",
        "poly.get_feature_names_out(ds_co_3d.columns)[147],\n",
        "poly.get_feature_names_out(ds_co_3d.columns)[140]])\n",
        "print(\"\\n\")\n",
        "# Second most significant component's name for PC2\n",
        "\n",
        "print([poly.get_feature_names_out(ds_co_3d.columns)[17],poly.get_feature_names_out(ds_co_3d.columns)[18],poly.get_feature_names_out(ds_co_3d.columns)[32]])\n",
        "print(\"\\n\")\n",
        "# Third most significant component's name for PC3\n",
        "\n",
        "print([poly.get_feature_names_out(ds_co_3d.columns)[98],poly.get_feature_names_out(ds_co_3d.columns)[147],poly.get_feature_names_out(ds_co_3d.columns)[88]])\n",
        "print(\"\\n\")"
      ]
    },
    {
      "cell_type": "markdown",
      "metadata": {
        "id": "FJqxN9Om-Dyt"
      },
      "source": [
        "# KNN Model\n",
        "Using Transformed dataset\n",
        "([Transformed Data](https://github.com/mittrayash/Parkinson-s-Disease-Detection-using-Gait-Analysis/tree/master/Transformed%20Data ))\n",
        "\n",
        "Accuracy: 0.9090909090909091\n",
        "\n",
        "Precision: 0.7619047619047619\n",
        "\n",
        "Recall: 0.8888888888888888\n",
        "\n",
        "F1-Score: 0.8205128205128205"
      ]
    },
    {
      "cell_type": "code",
      "execution_count": null,
      "metadata": {
        "id": "y3goLCDX-UoB"
      },
      "outputs": [],
      "source": [
        "import pandas as pd\n",
        "import numpy as np\n",
        "# from sklearn.preprocessing import PolynomialFeatures\n",
        "from sklearn import decomposition\n",
        "import os\n",
        "import scipy.stats as sc\n",
        "from sklearn.model_selection import train_test_split\n",
        "from sklearn.preprocessing import MinMaxScaler\n",
        "from sklearn.neighbors import KNeighborsClassifier"
      ]
    },
    {
      "cell_type": "code",
      "execution_count": null,
      "metadata": {
        "id": "VyL4hAib-kX7"
      },
      "outputs": [],
      "source": [
        "Transformed_Co='https://raw.githubusercontent.com/mittrayash/Parkinson-s-Disease-Detection-using-Gait-Analysis/master/Transformed%20Data/Transformed_Co'\n",
        "Transformed_Pt='https://raw.githubusercontent.com/mittrayash/Parkinson-s-Disease-Detection-using-Gait-Analysis/master/Transformed%20Data/Transformed_Pt'\n",
        "df_co = pd.read_csv(Transformed_Co, index_col = 0)\n",
        "df_pt = pd.read_csv(Transformed_Pt , index_col = 0)"
      ]
    },
    {
      "cell_type": "code",
      "execution_count": null,
      "metadata": {
        "id": "7r0_3CxC_R3u"
      },
      "outputs": [],
      "source": [
        "df_co_len = df_co.shape[0]\n",
        "df_pt_len = df_pt.shape[0]"
      ]
    },
    {
      "cell_type": "code",
      "execution_count": null,
      "metadata": {
        "id": "0Z0ZWJ0r_Rwf"
      },
      "outputs": [],
      "source": [
        "df_co_pca = pd.DataFrame(df_co)\n",
        "df_pt_pca = pd.DataFrame(df_pt)"
      ]
    },
    {
      "cell_type": "code",
      "execution_count": null,
      "metadata": {
        "colab": {
          "base_uri": "https://localhost:8080/"
        },
        "id": "g0NPO-VZ_Rlr",
        "outputId": "8b97d527-d251-45a5-afb9-74a919ab7039"
      },
      "outputs": [
        {
          "name": "stdout",
          "output_type": "stream",
          "text": [
            "0     0\n",
            "1     0\n",
            "2     0\n",
            "3     0\n",
            "4     0\n",
            "     ..\n",
            "87    0\n",
            "88    0\n",
            "89    0\n",
            "90    0\n",
            "91    0\n",
            "Length: 92, dtype: int64\n"
          ]
        },
        {
          "data": {
            "text/plain": [
              "(92,)"
            ]
          },
          "execution_count": 5,
          "metadata": {},
          "output_type": "execute_result"
        }
      ],
      "source": [
        "y1 = pd.Series([0]*df_co_len)\n",
        "print(y1)\n",
        "y1.shape"
      ]
    },
    {
      "cell_type": "code",
      "execution_count": null,
      "metadata": {
        "colab": {
          "base_uri": "https://localhost:8080/"
        },
        "id": "qBQUG0ty_RTZ",
        "outputId": "262e8085-5dc6-4bc2-822b-ae511e832334"
      },
      "outputs": [
        {
          "name": "stdout",
          "output_type": "stream",
          "text": [
            "91     1\n",
            "92     1\n",
            "93     1\n",
            "94     1\n",
            "95     1\n",
            "      ..\n",
            "300    1\n",
            "301    1\n",
            "302    1\n",
            "303    1\n",
            "304    1\n",
            "Length: 214, dtype: int64\n"
          ]
        },
        {
          "data": {
            "text/plain": [
              "(214,)"
            ]
          },
          "execution_count": 22,
          "metadata": {},
          "output_type": "execute_result"
        }
      ],
      "source": [
        "y2 = pd.Series([1]*df_pt_len, index = range(df_co_len-1,(df_co_len + df_pt_len)-1))\n",
        "print(y2)\n",
        "y2.shape"
      ]
    },
    {
      "cell_type": "code",
      "execution_count": null,
      "metadata": {
        "colab": {
          "base_uri": "https://localhost:8080/"
        },
        "id": "upM41Jk__Q-x",
        "outputId": "cdb37b07-6546-43df-9472-ce5651a42c1f"
      },
      "outputs": [
        {
          "data": {
            "text/plain": [
              "(306,)"
            ]
          },
          "execution_count": 7,
          "metadata": {},
          "output_type": "execute_result"
        }
      ],
      "source": [
        "\n",
        "y = pd.concat([y1,y2])\n",
        "y.shape"
      ]
    },
    {
      "cell_type": "code",
      "execution_count": null,
      "metadata": {
        "id": "JfRGsurI_clX"
      },
      "outputs": [],
      "source": [
        "\n",
        "X = pd.concat([df_co_pca, df_pt_pca])"
      ]
    },
    {
      "cell_type": "code",
      "execution_count": null,
      "metadata": {
        "colab": {
          "base_uri": "https://localhost:8080/"
        },
        "id": "SXwC4d2Z_cjC",
        "outputId": "44813903-4df8-4941-babc-1019bd8837cb"
      },
      "outputs": [],
      "source": [
        "score_val = 0\n",
        "min_range = 0\n",
        "max_range = 1000\n",
        "state = 0\n",
        "neigh = 0\n",
        "\n",
        "for rand_state in range(min_range, max_range):\n",
        "    X_train, X_test, y_train1, y_test1 = train_test_split(X, y, random_state = rand_state)\n",
        "    y_train = pd.DataFrame(y_train1)\n",
        "    y_test = pd.DataFrame(y_test1)\n",
        "\n",
        "    scaler = MinMaxScaler().fit(X_train)\n",
        "    X_train = scaler.transform(X_train)\n",
        "    X_test = scaler.transform(X_test)\n",
        "\n",
        "\n",
        "    for neighbors in ([1, 3, 5, 10, 15, 20]):\n",
        "        knn = KNeighborsClassifier(n_neighbors = neighbors)\n",
        "        knn.fit(X_train, y_train)\n",
        "        score = knn.score(X_test, np.ravel(y_test))\n",
        "\n",
        "        if score > score_val:\n",
        "            neigh = neighbors\n",
        "            score_val = score\n",
        "            state = rand_state\n",
        "\n",
        "    print('{} out of {} done'.format(rand_state - min_range, max_range - min_range))\n",
        "print(\"Neighbors = {}, Score = {}, Random State = {}\".format(neigh, score_val, state))"
      ]
    },
    {
      "cell_type": "code",
      "execution_count": null,
      "metadata": {
        "id": "qb2rfxl5_cgf"
      },
      "outputs": [],
      "source": [
        "scaler = MinMaxScaler().fit(X_train)\n",
        "X_train = scaler.transform(X_train)\n",
        "X_test = scaler.transform(X_test)"
      ]
    },
    {
      "cell_type": "code",
      "execution_count": null,
      "metadata": {
        "colab": {
          "base_uri": "https://localhost:8080/"
        },
        "id": "6KZ7BuWj_cdy",
        "outputId": "22eec50e-ffb6-4105-e33c-39ea146adc89"
      },
      "outputs": [
        {
          "name": "stderr",
          "output_type": "stream",
          "text": [
            "/usr/local/lib/python3.10/dist-packages/sklearn/neighbors/_classification.py:215: DataConversionWarning: A column-vector y was passed when a 1d array was expected. Please change the shape of y to (n_samples,), for example using ravel().\n",
            "  return self._fit(X, y)\n"
          ]
        },
        {
          "name": "stdout",
          "output_type": "stream",
          "text": [
            "Neighbors = 1\n",
            "Accuracy of K-NN classifier on training set: 1.00\n"
          ]
        },
        {
          "name": "stderr",
          "output_type": "stream",
          "text": [
            "/usr/local/lib/python3.10/dist-packages/sklearn/neighbors/_classification.py:215: DataConversionWarning: A column-vector y was passed when a 1d array was expected. Please change the shape of y to (n_samples,), for example using ravel().\n",
            "  return self._fit(X, y)\n",
            "/usr/local/lib/python3.10/dist-packages/sklearn/neighbors/_classification.py:215: DataConversionWarning: A column-vector y was passed when a 1d array was expected. Please change the shape of y to (n_samples,), for example using ravel().\n",
            "  return self._fit(X, y)\n",
            "/usr/local/lib/python3.10/dist-packages/sklearn/neighbors/_classification.py:215: DataConversionWarning: A column-vector y was passed when a 1d array was expected. Please change the shape of y to (n_samples,), for example using ravel().\n",
            "  return self._fit(X, y)\n",
            "/usr/local/lib/python3.10/dist-packages/sklearn/neighbors/_classification.py:215: DataConversionWarning: A column-vector y was passed when a 1d array was expected. Please change the shape of y to (n_samples,), for example using ravel().\n",
            "  return self._fit(X, y)\n"
          ]
        },
        {
          "name": "stdout",
          "output_type": "stream",
          "text": [
            "Accuracy of K-NN classifier on test set: 0.92\n",
            "\n",
            "Neighbors = 3\n",
            "Accuracy of K-NN classifier on training set: 0.94\n",
            "Accuracy of K-NN classifier on test set: 0.84\n",
            "\n",
            "Neighbors = 5\n",
            "Accuracy of K-NN classifier on training set: 0.91\n",
            "Accuracy of K-NN classifier on test set: 0.82\n",
            "\n",
            "Neighbors = 10\n",
            "Accuracy of K-NN classifier on training set: 0.87\n",
            "Accuracy of K-NN classifier on test set: 0.75\n",
            "\n",
            "Neighbors = 15\n",
            "Accuracy of K-NN classifier on training set: 0.81\n",
            "Accuracy of K-NN classifier on test set: 0.77\n",
            "\n",
            "Neighbors = 20\n",
            "Accuracy of K-NN classifier on training set: 0.81\n",
            "Accuracy of K-NN classifier on test set: 0.78\n",
            "\n"
          ]
        },
        {
          "name": "stderr",
          "output_type": "stream",
          "text": [
            "/usr/local/lib/python3.10/dist-packages/sklearn/neighbors/_classification.py:215: DataConversionWarning: A column-vector y was passed when a 1d array was expected. Please change the shape of y to (n_samples,), for example using ravel().\n",
            "  return self._fit(X, y)\n"
          ]
        }
      ],
      "source": [
        "for neighbors in ([1, 3, 5, 10, 15, 20]):\n",
        "\n",
        "    knn = KNeighborsClassifier(n_neighbors = neighbors)\n",
        "    knn.fit(X_train, y_train)\n",
        "    print(\"Neighbors = {}\".format(neighbors))\n",
        "    print('Accuracy of K-NN classifier on training set: {:.2f}'.format(knn.score(X_train, y_train)))\n",
        "    print('Accuracy of K-NN classifier on test set: {:.2f}'.format(knn.score(X_test, y_test)))\n",
        "    print()"
      ]
    },
    {
      "cell_type": "code",
      "execution_count": null,
      "metadata": {
        "colab": {
          "base_uri": "https://localhost:8080/"
        },
        "id": "VRMuCorY_ca_",
        "outputId": "80cc4375-914e-41e9-f7fc-4bf4a5d8a62c"
      },
      "outputs": [
        {
          "name": "stdout",
          "output_type": "stream",
          "text": [
            "(229,)\n"
          ]
        }
      ],
      "source": [
        "\n",
        "print((y_train1).shape)"
      ]
    },
    {
      "cell_type": "code",
      "execution_count": null,
      "metadata": {
        "id": "Gp21jFCJ_cYN"
      },
      "outputs": [],
      "source": [
        "X_train, X_test, y_train1, y_test1 = train_test_split(X, y)\n",
        "knn = KNeighborsClassifier(n_neighbors = 1)"
      ]
    },
    {
      "cell_type": "code",
      "execution_count": null,
      "metadata": {
        "colab": {
          "base_uri": "https://localhost:8080/"
        },
        "id": "eUAyesqr_cUh",
        "outputId": "0c42e7e4-d6de-4591-d775-55d1e611186c"
      },
      "outputs": [
        {
          "name": "stdout",
          "output_type": "stream",
          "text": [
            "0.8557487922705315\n",
            "{'n_neighbors': 1}\n"
          ]
        }
      ],
      "source": [
        "max_score = 0\n",
        "best_param = []\n",
        "for i in range(0,1000):\n",
        "    from sklearn.model_selection import GridSearchCV\n",
        "\n",
        "    grid_values = {'n_neighbors': [1, 2, 5, 10, 20, 50, 70, 100]}\n",
        "\n",
        "    grid_lr = GridSearchCV(knn, param_grid = grid_values, scoring = 'accuracy')\n",
        "    grid_lr.fit(X_train, y_train1)\n",
        "    if max_score < grid_lr.best_score_:\n",
        "        max_score = grid_lr.best_score_\n",
        "        best_param = grid_lr.best_params_\n",
        "print( max_score)\n",
        "print( best_param)"
      ]
    },
    {
      "cell_type": "code",
      "execution_count": null,
      "metadata": {
        "colab": {
          "base_uri": "https://localhost:8080/"
        },
        "id": "rB9cHU88_cJo",
        "outputId": "eae24b02-4f5c-48bc-a087-2dc801892209"
      },
      "outputs": [
        {
          "name": "stdout",
          "output_type": "stream",
          "text": [
            "0.9358635752688172\n"
          ]
        }
      ],
      "source": [
        "from sklearn.model_selection import GridSearchCV\n",
        "from sklearn.metrics import accuracy_score, precision_score, recall_score, f1_score, auc, roc_curve\n",
        "best_score = 0\n",
        "for i in range(200):\n",
        "    X_train, X_test, y_train1, y_test1 = train_test_split(X, y)\n",
        "    y_train = pd.DataFrame(y_train1)\n",
        "    y_test = pd.DataFrame(y_test1)\n",
        "\n",
        "    scaler = MinMaxScaler().fit(X_train)\n",
        "    X_train = scaler.transform(X_train)\n",
        "    X_test = scaler.transform(X_test)\n",
        "\n",
        "    knn = KNeighborsClassifier()\n",
        "    knn.fit(X_train, np.ravel(y_train))\n",
        "\n",
        "    # print('gamma = {:.2f}, C = {:.2f}, accuracy = {}'.format(this_gamma, this_C, clf.score(X_test, np.ravel(y_test))))\n",
        "    grid_values = {'n_neighbors': [1, 2, 5, 10, 20, 50, 70, 100]}\n",
        "    grid_clf = GridSearchCV(knn, param_grid=grid_values, scoring='roc_auc')\n",
        "    grid_clf.fit(X_train, y_train1)\n",
        "    # decision_fn_scores = grid_clf.decision_function(X_test)\n",
        "\n",
        "    if best_score < grid_clf.best_score_:\n",
        "        best_score = grid_clf.best_score_\n",
        "        prediction = grid_clf.predict(X_test)\n",
        "\n",
        "\n",
        "        prec = precision_score(y_test, prediction)\n",
        "        rec = recall_score(y_test, prediction)\n",
        "        f1 = f1_score(y_test, prediction)\n",
        "\n",
        "y_true= y_test\n",
        "y_pred=knn.predict(X_test)\n",
        "print(best_score)"
      ]
    },
    {
      "cell_type": "code",
      "execution_count": null,
      "metadata": {
        "colab": {
          "base_uri": "https://localhost:8080/"
        },
        "id": "VKTc4P2WAopT",
        "outputId": "b654fa4d-6cfc-4b9c-913e-ba4aa2b47ebc"
      },
      "outputs": [
        {
          "data": {
            "text/plain": [
              "{'n_neighbors': 5}"
            ]
          },
          "execution_count": 16,
          "metadata": {},
          "output_type": "execute_result"
        }
      ],
      "source": [
        "grid_clf.best_params_"
      ]
    },
    {
      "cell_type": "code",
      "execution_count": null,
      "metadata": {
        "colab": {
          "base_uri": "https://localhost:8080/"
        },
        "id": "WhDSFvKAAs0c",
        "outputId": "c13a745a-5edc-482b-ecb1-78130e3527c0"
      },
      "outputs": [
        {
          "name": "stdout",
          "output_type": "stream",
          "text": [
            "Precision: 0.8545454545454545\n",
            "Recall: 0.8392857142857143\n",
            "F1: 0.8468468468468467\n"
          ]
        }
      ],
      "source": [
        "print(\"Precision: {}\".format(prec))\n",
        "print(\"Recall: {}\".format(rec))\n",
        "print(\"F1: {}\".format(f1))"
      ]
    },
    {
      "cell_type": "code",
      "execution_count": null,
      "metadata": {
        "colab": {
          "base_uri": "https://localhost:8080/",
          "height": 465
        },
        "id": "3vQw5VLkhBKE",
        "outputId": "cf1d8152-5f27-467e-ac85-74aed61b65d1"
      },
      "outputs": [
        {
          "data": {
            "image/png": "[encoded data removed]",
            "text/plain": [
              "<Figure size 500x500 with 2 Axes>"
            ]
          },
          "metadata": {},
          "output_type": "display_data"
        }
      ],
      "source": [
        "#confusion matrix\n",
        "import numpy as np # linear algebra\n",
        "import pandas as pd # data processing, CSV file I/O (e.g. pd.read_csv)\n",
        "import matplotlib.pyplot as plt\n",
        "from sklearn.metrics import confusion_matrix\n",
        "cm= confusion_matrix(y_true, y_pred)\n",
        "\n",
        "import seaborn as sns\n",
        "f, ax =plt.subplots(figsize = (5,5))\n",
        "\n",
        "sns.heatmap(cm,annot = True, linewidths= 0.5, linecolor=\"red\", fmt=\".0f\", ax=ax)\n",
        "plt.xlabel(\"y_pred\")\n",
        "plt.ylabel(\"y_true\")\n",
        "plt.show()"
      ]
    },
    {
      "cell_type": "code",
      "execution_count": null,
      "metadata": {
        "colab": {
          "base_uri": "https://localhost:8080/"
        },
        "id": "nIS5HvCYeCIS",
        "outputId": "f375ebca-5515-4b52-deb7-2f961306c368"
      },
      "outputs": [
        {
          "name": "stdout",
          "output_type": "stream",
          "text": [
            "Accuracy: 0.8311688311688312\n",
            "Precision: 0.6666666666666666\n",
            "Recall: 0.631578947368421\n",
            "F1-Score: 0.6486486486486486\n"
          ]
        }
      ],
      "source": [
        "tp = cm[0, 0]\n",
        "tn = cm[1, 1]\n",
        "fp = cm[1, 0]\n",
        "fn = cm[0, 1]\n",
        "\n",
        "accuracy = (tp + tn) / (tp + tn + fp + fn)\n",
        "precision = tp / (tp + fp)\n",
        "recall = tp / (tp + fn)\n",
        "f1_score = 2 * (precision * recall) / (precision + recall)\n",
        "\n",
        "print(\"Accuracy:\", accuracy)\n",
        "print(\"Precision:\", precision)\n",
        "print(\"Recall:\", recall)\n",
        "print(\"F1-Score:\", f1_score)"
      ]
    },
    {
      "cell_type": "markdown",
      "metadata": {
        "id": "Fdyw2bwiGUzi"
      },
      "source": [
        "#Logistic Regression\n",
        "Using Transformed dataset\n",
        "([Transformed Data](https://github.com/mittrayash/Parkinson-s-Disease-Detection-using-Gait-Analysis/tree/master/Transformed%20Data ))\n",
        "\n",
        "Accuracy: 0.8701298701298701\n",
        "\n",
        "Precision: 0.7368421052631579\n",
        "\n",
        "Recall: 0.7368421052631579\n",
        "\n",
        "F1-Score: 0.7368421052631579"
      ]
    },
    {
      "cell_type": "code",
      "execution_count": null,
      "metadata": {
        "id": "lj4ykx9VGjJZ"
      },
      "outputs": [],
      "source": [
        "import pandas as pd\n",
        "import numpy as np\n",
        "# from sklearn.preprocessing import PolynomialFeatures\n",
        "from sklearn import decomposition\n",
        "import os\n",
        "import scipy.stats as sc\n",
        "from sklearn.model_selection import train_test_split\n",
        "from sklearn.preprocessing import MinMaxScaler\n",
        "from sklearn.linear_model import LogisticRegression\n",
        "from sklearn.metrics import accuracy_score, precision_score, recall_score, f1_score\n",
        "from sklearn.metrics import roc_curve, auc\n",
        "from sklearn.model_selection import GridSearchCV"
      ]
    },
    {
      "cell_type": "code",
      "execution_count": null,
      "metadata": {
        "id": "70Rbqo_kGi-Z"
      },
      "outputs": [],
      "source": [
        "Transformed_Co='https://raw.githubusercontent.com/mittrayash/Parkinson-s-Disease-Detection-using-Gait-Analysis/master/Transformed%20Data/Transformed_Co'\n",
        "Transformed_Pt='https://raw.githubusercontent.com/mittrayash/Parkinson-s-Disease-Detection-using-Gait-Analysis/master/Transformed%20Data/Transformed_Pt'\n",
        "\n",
        "df_co = pd.read_csv(Transformed_Co, index_col = 0)\n",
        "df_pt = pd.read_csv(Transformed_Pt , index_col = 0)"
      ]
    },
    {
      "cell_type": "code",
      "execution_count": null,
      "metadata": {
        "id": "PY8DsdCtGi6x"
      },
      "outputs": [],
      "source": [
        "df_co_len = df_co.shape[0]\n",
        "df_pt_len = df_pt.shape[0]"
      ]
    },
    {
      "cell_type": "code",
      "execution_count": null,
      "metadata": {
        "id": "c9PFvZUoGi4G"
      },
      "outputs": [],
      "source": [
        "df_co_pca = pd.DataFrame(df_co)\n",
        "df_pt_pca = pd.DataFrame(df_pt)"
      ]
    },
    {
      "cell_type": "code",
      "execution_count": null,
      "metadata": {
        "colab": {
          "base_uri": "https://localhost:8080/"
        },
        "id": "jQNT6FoRGi1X",
        "outputId": "ca5cb959-1310-40f2-cfdd-e0ed91fca2f7"
      },
      "outputs": [
        {
          "data": {
            "text/plain": [
              "(92,)"
            ]
          },
          "execution_count": 28,
          "metadata": {},
          "output_type": "execute_result"
        }
      ],
      "source": [
        "y1 = pd.Series([0]*df_co_len)\n",
        "y1.shape"
      ]
    },
    {
      "cell_type": "code",
      "execution_count": null,
      "metadata": {
        "colab": {
          "base_uri": "https://localhost:8080/"
        },
        "id": "Iso7oaLMGiyG",
        "outputId": "b595b539-426f-4acc-aea2-24d2a0db4f27"
      },
      "outputs": [
        {
          "data": {
            "text/plain": [
              "(214,)"
            ]
          },
          "execution_count": 29,
          "metadata": {},
          "output_type": "execute_result"
        }
      ],
      "source": [
        "y2 = pd.Series([1]*df_pt_len, index = range(df_co_len-1,(df_co_len + df_pt_len)-1))\n",
        "y2.shape"
      ]
    },
    {
      "cell_type": "code",
      "execution_count": null,
      "metadata": {
        "colab": {
          "base_uri": "https://localhost:8080/"
        },
        "id": "XhkI6pBFGiu6",
        "outputId": "b460f079-499e-46ca-a370-bd0297792b05"
      },
      "outputs": [
        {
          "data": {
            "text/plain": [
              "(306,)"
            ]
          },
          "execution_count": 30,
          "metadata": {},
          "output_type": "execute_result"
        }
      ],
      "source": [
        "y = pd.concat([y1,y2])\n",
        "y.shape"
      ]
    },
    {
      "cell_type": "code",
      "execution_count": null,
      "metadata": {
        "id": "hRz9Z_dRGimk"
      },
      "outputs": [],
      "source": [
        "X = pd.concat([df_co_pca, df_pt_pca])"
      ]
    },
    {
      "cell_type": "code",
      "execution_count": null,
      "metadata": {
        "colab": {
          "base_uri": "https://localhost:8080/"
        },
        "id": "mK5DYoAujgPH",
        "outputId": "5f1cd78c-59a3-49f7-b4d5-c9aac275c823"
      },
      "outputs": [],
      "source": [
        "c_val = 0\n",
        "score_val = 0\n",
        "min_range = 0\n",
        "max_range = 200\n",
        "state = 0\n",
        "\n",
        "for rand_state in range(min_range, max_range):\n",
        "    X_train, X_test, y_train1, y_test1 = train_test_split(X, y, random_state = rand_state)\n",
        "    y_train = pd.DataFrame(y_train1)\n",
        "    y_test = pd.DataFrame(y_test1)\n",
        "\n",
        "    scaler = MinMaxScaler().fit(X_train)\n",
        "    X_train = scaler.transform(X_train)\n",
        "    X_test = scaler.transform(X_test)\n",
        "\n",
        "\n",
        "    for x in [1, 5, 10, 20, 100, 200, 400]:\n",
        "        clf = LogisticRegression(C=x).fit(X_train, np.ravel(y_train))\n",
        "        score = clf.score(X_test, np.ravel(y_test))\n",
        "\n",
        "        if score > score_val:\n",
        "            c_val = x\n",
        "            score_val = score\n",
        "            state = rand_state\n",
        "\n",
        "    print('{} out of {} done'.format(rand_state - min_range, max_range - min_range))\n",
        "print(\"C = {}, Score = {}, Random State = {}\".format(c_val, score_val, state))"
      ]
    },
    {
      "cell_type": "code",
      "execution_count": null,
      "metadata": {
        "colab": {
          "base_uri": "https://localhost:8080/"
        },
        "id": "GLUJh2dsjgK-",
        "outputId": "b9b67d0c-7864-4621-b395-b4b6f7e78212"
      },
      "outputs": [],
      "source": [
        "from sklearn.metrics import accuracy_score, precision_score, recall_score, f1_score, auc\n",
        "best_score = 0\n",
        "for i in range(200):\n",
        "    X_train, X_test, y_train1, y_test1 = train_test_split(X, y)\n",
        "    y_train = pd.DataFrame(y_train1)\n",
        "    y_test = pd.DataFrame(y_test1)\n",
        "\n",
        "    scaler = MinMaxScaler().fit(X_train)\n",
        "    X_train = scaler.transform(X_train)\n",
        "    X_test = scaler.transform(X_test)\n",
        "\n",
        "    clf = LogisticRegression().fit(X_train, np.ravel(y_train))\n",
        "\n",
        "\n",
        "    grid_vals = {'C': [0.1, 1, 5, 10, 12, 15, 20, 25, 50, 100, 250]}\n",
        "    grid_clf = GridSearchCV(clf, param_grid=grid_vals, scoring='accuracy')\n",
        "    grid_clf.fit(X_train, y_train1)\n",
        "    decision_fn_scores = grid_clf.decision_function(X_test)\n",
        "\n",
        "    if best_score < grid_clf.best_score_:\n",
        "        best_score = grid_clf.best_score_\n",
        "        best_params = grid_clf.best_params_\n",
        "        prediction = grid_clf.predict(X_test)\n",
        "        y_score = grid_clf.decision_function(X_test)\n",
        "        prec = precision_score(y_test, prediction)\n",
        "        rec = recall_score(y_test, prediction)\n",
        "        f1 = f1_score(y_test, prediction)\n",
        "        fpr, tpr, _ = roc_curve(y_test, y_score)\n",
        "        roc_auc = auc(fpr, tpr)\n",
        "\n",
        "y_true= y_test\n",
        "y_pred=clf.predict(X_test)\n",
        "\n",
        "print(best_score)\n",
        "print(best_params)"
      ]
    },
    {
      "cell_type": "code",
      "execution_count": null,
      "metadata": {
        "colab": {
          "base_uri": "https://localhost:8080/"
        },
        "id": "gEKtbQdbjgBu",
        "outputId": "8ee26adb-85cd-4746-feb6-22c79d19cf91"
      },
      "outputs": [
        {
          "name": "stdout",
          "output_type": "stream",
          "text": [
            "Precision: 0.7547\n",
            "Recall: 0.8333\n",
            "F1: 0.7921\n",
            "AUC: 0.8427\n"
          ]
        }
      ],
      "source": [
        "print('Precision: {:.4f}'.format(prec))\n",
        "print('Recall: {:.4f}'.format(rec))\n",
        "print('F1: {:.4f}'.format(f1))\n",
        "print('AUC: {:.4f}'.format(roc_auc))"
      ]
    },
    {
      "cell_type": "code",
      "execution_count": null,
      "metadata": {
        "colab": {
          "base_uri": "https://localhost:8080/",
          "height": 465
        },
        "id": "wGkLoWOAgAf5",
        "outputId": "b4e36acf-341a-4abc-c0ae-e7960845099d"
      },
      "outputs": [
        {
          "data": {
            "image/png": "[encoded data removed]",
            "text/plain": [
              "<Figure size 500x500 with 2 Axes>"
            ]
          },
          "metadata": {},
          "output_type": "display_data"
        }
      ],
      "source": [
        "import matplotlib.pyplot as plt\n",
        "import seaborn as sns\n",
        "from sklearn import metrics\n",
        "from sklearn.metrics import confusion_matrix\n",
        "y_true= y_test\n",
        "y_pred=clf.predict(X_test)\n",
        "cm= confusion_matrix(y_true, y_pred)\n",
        "\n",
        "f, ax =plt.subplots(figsize = (5,5))\n",
        "\n",
        "sns.heatmap(cm,annot = True, linewidths= 0.5, linecolor=\"red\", fmt=\".0f\", ax=ax)\n",
        "plt.xlabel(\"y_pred\")\n",
        "plt.ylabel(\"y_true\")\n",
        "plt.show()"
      ]
    },
    {
      "cell_type": "code",
      "execution_count": null,
      "metadata": {
        "colab": {
          "base_uri": "https://localhost:8080/"
        },
        "id": "z1mZqyV6vKUf",
        "outputId": "2f422915-c3c0-416f-d8da-15775384eba6"
      },
      "outputs": [
        {
          "name": "stdout",
          "output_type": "stream",
          "text": [
            "Accuracy: 0.8701298701298701\n",
            "Precision: 0.7368421052631579\n",
            "Recall: 0.7368421052631579\n",
            "F1-Score: 0.7368421052631579\n"
          ]
        }
      ],
      "source": [
        "tp = cm[0, 0]\n",
        "tn = cm[1, 1]\n",
        "fp = cm[1, 0]\n",
        "fn = cm[0, 1]\n",
        "\n",
        "accuracy = (tp + tn) / (tp + tn + fp + fn)\n",
        "precision = tp / (tp + fp)\n",
        "recall = tp / (tp + fn)\n",
        "f1_score = 2 * (precision * recall) / (precision + recall)\n",
        "\n",
        "print(\"Accuracy:\", accuracy)\n",
        "print(\"Precision:\", precision)\n",
        "print(\"Recall:\", recall)\n",
        "print(\"F1-Score:\", f1_score)"
      ]
    },
    {
      "cell_type": "markdown",
      "metadata": {
        "id": "FODGZSIkoIp3"
      },
      "source": [
        "# SVM- Linear Kernel\n",
        "Using Transformed dataset\n",
        "([Transformed Data](https://github.com/mittrayash/Parkinson-s-Disease-Detection-using-Gait-Analysis/tree/master/Transformed%20Data ))\n",
        "\n",
        "Accuracy: 0.8181818181818182\n",
        "\n",
        "Precision: 0.6923076923076923\n",
        "\n",
        "Recall: 0.75\n",
        "\n",
        "F1-Score: 0.7199999999999999"
      ]
    },
    {
      "cell_type": "code",
      "execution_count": null,
      "metadata": {
        "id": "3E1fWjJap22O"
      },
      "outputs": [],
      "source": [
        "import pandas as pd\n",
        "import numpy as np\n",
        "# from sklearn.preprocessing import PolynomialFeatures\n",
        "from sklearn import decomposition\n",
        "import os\n",
        "import scipy.stats as sc\n",
        "from sklearn.model_selection import train_test_split\n",
        "from sklearn.preprocessing import MinMaxScaler\n",
        "from sklearn.svm import SVC\n",
        "from sklearn.metrics import accuracy_score, precision_score, recall_score, f1_score\n",
        "from sklearn.metrics import roc_curve, auc\n",
        "from sklearn.model_selection import GridSearchCV"
      ]
    },
    {
      "cell_type": "code",
      "execution_count": null,
      "metadata": {
        "id": "iGssbrDWp2tL"
      },
      "outputs": [],
      "source": [
        "Transformed_Co='https://raw.githubusercontent.com/mittrayash/Parkinson-s-Disease-Detection-using-Gait-Analysis/master/Transformed%20Data/Transformed_Co'\n",
        "Transformed_Pt='https://raw.githubusercontent.com/mittrayash/Parkinson-s-Disease-Detection-using-Gait-Analysis/master/Transformed%20Data/Transformed_Pt'\n",
        "\n",
        "df_co = pd.read_csv(Transformed_Co, index_col = 0)\n",
        "df_pt = pd.read_csv(Transformed_Pt , index_col = 0)"
      ]
    },
    {
      "cell_type": "code",
      "execution_count": null,
      "metadata": {
        "id": "YuRNY3vyp2o9"
      },
      "outputs": [],
      "source": [
        "df_co_len = df_co.shape[0]\n",
        "df_pt_len = df_pt.shape[0]"
      ]
    },
    {
      "cell_type": "code",
      "execution_count": null,
      "metadata": {
        "id": "IxV6ygM8p2mI"
      },
      "outputs": [],
      "source": [
        "\n",
        "df_co_pca = pd.DataFrame(df_co)\n",
        "df_pt_pca = pd.DataFrame(df_pt)"
      ]
    },
    {
      "cell_type": "code",
      "execution_count": null,
      "metadata": {
        "colab": {
          "base_uri": "https://localhost:8080/"
        },
        "id": "QpVHtPlbp2jK",
        "outputId": "95f8eb38-22c6-4c66-86f1-6e1ac6dc3204"
      },
      "outputs": [
        {
          "data": {
            "text/plain": [
              "(92,)"
            ]
          },
          "execution_count": 41,
          "metadata": {},
          "output_type": "execute_result"
        }
      ],
      "source": [
        "y1 = pd.Series([0]*df_co_len)\n",
        "y1.shape"
      ]
    },
    {
      "cell_type": "code",
      "execution_count": null,
      "metadata": {
        "colab": {
          "base_uri": "https://localhost:8080/"
        },
        "id": "aBCkbF4Qp2gF",
        "outputId": "2f01253a-a820-49b1-8823-22df4c13cfce"
      },
      "outputs": [
        {
          "data": {
            "text/plain": [
              "(214,)"
            ]
          },
          "execution_count": 42,
          "metadata": {},
          "output_type": "execute_result"
        }
      ],
      "source": [
        "\n",
        "y2 = pd.Series([1]*df_pt_len, index = range(df_co_len-1,(df_co_len + df_pt_len)-1))\n",
        "y2.shape"
      ]
    },
    {
      "cell_type": "code",
      "execution_count": null,
      "metadata": {
        "colab": {
          "base_uri": "https://localhost:8080/"
        },
        "id": "-mIP_2bNp2c_",
        "outputId": "a25d0f75-fa0a-451f-ad24-f5353677a118"
      },
      "outputs": [
        {
          "data": {
            "text/plain": [
              "(306,)"
            ]
          },
          "execution_count": 43,
          "metadata": {},
          "output_type": "execute_result"
        }
      ],
      "source": [
        "y = pd.concat([y1,y2])\n",
        "y.shape"
      ]
    },
    {
      "cell_type": "code",
      "execution_count": null,
      "metadata": {
        "id": "DBcbbxkPp2Zw"
      },
      "outputs": [],
      "source": [
        "X = pd.concat([df_co_pca, df_pt_pca])"
      ]
    },
    {
      "cell_type": "code",
      "execution_count": null,
      "metadata": {
        "colab": {
          "base_uri": "https://localhost:8080/"
        },
        "id": "5vZTdfIPp2Wm",
        "outputId": "6e51ac8d-c358-4080-dc32-1b3c88430986"
      },
      "outputs": [
        {
          "name": "stdout",
          "output_type": "stream",
          "text": [
            "0.8822222222222222\n",
            "{'C': 1}\n"
          ]
        }
      ],
      "source": [
        "from sklearn.metrics import accuracy_score, precision_score, recall_score, f1_score, auc\n",
        "best_score = 0\n",
        "for i in range(200):\n",
        "    X_train, X_test, y_train1, y_test1 = train_test_split(X, y)\n",
        "    y_train = pd.DataFrame(y_train1)\n",
        "    y_test = pd.DataFrame(y_test1)\n",
        "\n",
        "    scaler = MinMaxScaler().fit(X_train)\n",
        "    X_train = scaler.transform(X_train)\n",
        "    X_test = scaler.transform(X_test)\n",
        "\n",
        "    clf = SVC(kernel = 'linear', C = 1).fit(X_train, np.ravel(y_train))\n",
        "    # print('gamma = {:.2f}, C = {:.2f}, accuracy = {}'.format(this_gamma, this_C, clf.score(X_test, np.ravel(y_test))))\n",
        "    grid_vals = {'C': [0.1, 1, 5, 10, 12, 15, 20, 25, 50, 100, 250]}\n",
        "    grid_clf = GridSearchCV(clf, param_grid=grid_vals, scoring='accuracy')\n",
        "    grid_clf.fit(X_train, y_train1)\n",
        "    decision_fn_scores = grid_clf.decision_function(X_test)\n",
        "\n",
        "    if best_score < grid_clf.best_score_:\n",
        "        best_score = grid_clf.best_score_\n",
        "        best_params = grid_clf.best_params_\n",
        "        prediction = grid_clf.predict(X_test)\n",
        "        y_score = grid_clf.decision_function(X_test)\n",
        "        prec = precision_score(y_test, prediction)\n",
        "        rec = recall_score(y_test, prediction)\n",
        "        f1 = f1_score(y_test, prediction)\n",
        "        fpr, tpr, _ = roc_curve(y_test, y_score)\n",
        "        roc_auc = auc(fpr, tpr)\n",
        "\n",
        "print(best_score)\n",
        "print(best_params)"
      ]
    },
    {
      "cell_type": "code",
      "execution_count": null,
      "metadata": {
        "colab": {
          "base_uri": "https://localhost:8080/"
        },
        "id": "_ZfoK3qSp2Q2",
        "outputId": "6c149f1e-4d79-4645-a5ac-a6facbe00058"
      },
      "outputs": [
        {
          "name": "stdout",
          "output_type": "stream",
          "text": [
            "Precision: 0.8333\n",
            "Recall: 0.9091\n",
            "F1: 0.8696\n",
            "AUC: 0.8281\n"
          ]
        }
      ],
      "source": [
        "\n",
        "print('Precision: {:.4f}'.format(prec))\n",
        "print('Recall: {:.4f}'.format(rec))\n",
        "print('F1: {:.4f}'.format(f1))\n",
        "print('AUC: {:.4f}'.format(roc_auc))"
      ]
    },
    {
      "cell_type": "code",
      "execution_count": null,
      "metadata": {
        "colab": {
          "base_uri": "https://localhost:8080/",
          "height": 470
        },
        "id": "ZYp3oxg8vd6S",
        "outputId": "7e3eb053-8e05-42c9-b25d-489f9d27a775"
      },
      "outputs": [
        {
          "data": {
            "image/png": "[encoded data removed]",
            "text/plain": [
              "<Figure size 500x500 with 2 Axes>"
            ]
          },
          "metadata": {},
          "output_type": "display_data"
        }
      ],
      "source": [
        "import matplotlib.pyplot as plt\n",
        "import seaborn as sns\n",
        "from sklearn import metrics\n",
        "from sklearn.metrics import confusion_matrix\n",
        "y_true= y_test\n",
        "y_pred=clf.predict(X_test)\n",
        "cm= confusion_matrix(y_true, y_pred)\n",
        "\n",
        "f, ax =plt.subplots(figsize = (5,5))\n",
        "\n",
        "sns.heatmap(cm,annot = True, linewidths= 0.5, linecolor=\"red\", fmt=\".0f\", ax=ax)\n",
        "plt.xlabel(\"y_pred\")\n",
        "plt.ylabel(\"y_true\")\n",
        "plt.show()"
      ]
    },
    {
      "cell_type": "code",
      "execution_count": null,
      "metadata": {
        "colab": {
          "base_uri": "https://localhost:8080/"
        },
        "id": "NnL9wcl9vj1Q",
        "outputId": "a3775b1b-de49-4f34-9d12-7b15de9595df"
      },
      "outputs": [
        {
          "name": "stdout",
          "output_type": "stream",
          "text": [
            "Accuracy: 0.8181818181818182\n",
            "Precision: 0.6923076923076923\n",
            "Recall: 0.75\n",
            "F1-Score: 0.7199999999999999\n"
          ]
        }
      ],
      "source": [
        "tp = cm[0, 0]\n",
        "tn = cm[1, 1]\n",
        "fp = cm[1, 0]\n",
        "fn = cm[0, 1]\n",
        "\n",
        "accuracy = (tp + tn) / (tp + tn + fp + fn)\n",
        "precision = tp / (tp + fp)\n",
        "recall = tp / (tp + fn)\n",
        "f1_score = 2 * (precision * recall) / (precision + recall)\n",
        "\n",
        "print(\"Accuracy:\", accuracy)\n",
        "print(\"Precision:\", precision)\n",
        "print(\"Recall:\", recall)\n",
        "print(\"F1-Score:\", f1_score)"
      ]
    },
    {
      "cell_type": "markdown",
      "metadata": {
        "id": "LGammXpgsc6h"
      },
      "source": [
        "# SVM- Sigmoid Kernel\n",
        "Using Transformed dataset\n",
        "([Transformed Data](https://github.com/mittrayash/Parkinson-s-Disease-Detection-using-Gait-Analysis/tree/master/Transformed%20Data ))\n",
        "\n",
        "Precision: 0.77"
      ]
    },
    {
      "cell_type": "code",
      "execution_count": null,
      "metadata": {
        "id": "TABUegbAp2Nq"
      },
      "outputs": [],
      "source": [
        "import pandas as pd\n",
        "import numpy as np\n",
        "# from sklearn.preprocessing import PolynomialFeatures\n",
        "from sklearn import decomposition\n",
        "import os\n",
        "import scipy.stats as sc\n",
        "from sklearn.model_selection import train_test_split\n",
        "from sklearn.preprocessing import MinMaxScaler\n",
        "from sklearn.svm import SVC"
      ]
    },
    {
      "cell_type": "code",
      "execution_count": null,
      "metadata": {
        "id": "hnYNRDfGp2Kg"
      },
      "outputs": [],
      "source": [
        "Transformed_Co='https://raw.githubusercontent.com/mittrayash/Parkinson-s-Disease-Detection-using-Gait-Analysis/master/Transformed%20Data/Transformed_Co'\n",
        "Transformed_Pt='https://raw.githubusercontent.com/mittrayash/Parkinson-s-Disease-Detection-using-Gait-Analysis/master/Transformed%20Data/Transformed_Pt'\n",
        "\n",
        "df_co = pd.read_csv(Transformed_Co, index_col = 0)\n",
        "df_pt = pd.read_csv(Transformed_Pt , index_col = 0)"
      ]
    },
    {
      "cell_type": "code",
      "execution_count": null,
      "metadata": {
        "colab": {
          "base_uri": "https://localhost:8080/",
          "height": 34
        },
        "id": "JJJ946Y4p2HZ",
        "outputId": "16258b94-202b-4d78-c1e3-c259525f1d14"
      },
      "outputs": [
        {
          "data": {
            "text/plain": [
              "(92,)"
            ]
          },
          "execution_count": 60,
          "metadata": {},
          "output_type": "execute_result"
        }
      ],
      "source": [
        "df_co_len = df_co.shape[0]\n",
        "df_pt_len = df_pt.shape[0]\n",
        "df_co_pca = pd.DataFrame(df_co)\n",
        "df_pt_pca = pd.DataFrame(df_pt)\n",
        "y1 = pd.Series([0]*df_co_len)\n",
        "y1.shape\n"
      ]
    },
    {
      "cell_type": "code",
      "execution_count": null,
      "metadata": {
        "colab": {
          "base_uri": "https://localhost:8080/",
          "height": 34
        },
        "id": "LfNPKzYwp2EM",
        "outputId": "ba73fdea-ce0d-4cbc-d12b-a10f378fef9b"
      },
      "outputs": [
        {
          "data": {
            "text/plain": [
              "(214,)"
            ]
          },
          "execution_count": 61,
          "metadata": {},
          "output_type": "execute_result"
        }
      ],
      "source": [
        "y2 = pd.Series([1]*df_pt_len, index = range(df_co_len-1,(df_co_len + df_pt_len)-1))\n",
        "y2.shape"
      ]
    },
    {
      "cell_type": "code",
      "execution_count": null,
      "metadata": {
        "colab": {
          "base_uri": "https://localhost:8080/",
          "height": 34
        },
        "id": "vlC4AB9Zp2A-",
        "outputId": "0e5d5630-281d-4aec-daf5-813ea81fe476"
      },
      "outputs": [
        {
          "data": {
            "text/plain": [
              "(306,)"
            ]
          },
          "execution_count": 62,
          "metadata": {},
          "output_type": "execute_result"
        }
      ],
      "source": [
        "y = pd.concat([y1,y2])\n",
        "y.shape"
      ]
    },
    {
      "cell_type": "code",
      "execution_count": null,
      "metadata": {
        "id": "LpIAJOX8p198"
      },
      "outputs": [],
      "source": [
        "X = pd.concat([df_co_pca, df_pt_pca])"
      ]
    },
    {
      "cell_type": "code",
      "execution_count": null,
      "metadata": {
        "colab": {
          "base_uri": "https://localhost:8080/",
          "height": 1000
        },
        "id": "EeVK_BKfp1I3",
        "outputId": "46a58411-c522-42e8-ccce-ac44cf519ebd"
      },
      "outputs": [
        {
          "name": "stdout",
          "output_type": "stream",
          "text": [
            "0 out of 500 done\n",
            "1 out of 500 done\n",
            "2 out of 500 done\n",
            "3 out of 500 done\n",
            "4 out of 500 done\n",
            "5 out of 500 done\n",
            "6 out of 500 done\n",
            "7 out of 500 done\n",
            "8 out of 500 done\n",
            "9 out of 500 done\n",
            "10 out of 500 done\n",
            "11 out of 500 done\n",
            "12 out of 500 done\n",
            "13 out of 500 done\n",
            "14 out of 500 done\n",
            "15 out of 500 done\n",
            "16 out of 500 done\n",
            "17 out of 500 done\n",
            "18 out of 500 done\n",
            "19 out of 500 done\n",
            "20 out of 500 done\n",
            "21 out of 500 done\n",
            "22 out of 500 done\n",
            "23 out of 500 done\n",
            "24 out of 500 done\n",
            "25 out of 500 done\n",
            "26 out of 500 done\n",
            "27 out of 500 done\n",
            "28 out of 500 done\n",
            "29 out of 500 done\n",
            "30 out of 500 done\n",
            "31 out of 500 done\n",
            "32 out of 500 done\n",
            "33 out of 500 done\n",
            "34 out of 500 done\n",
            "35 out of 500 done\n",
            "36 out of 500 done\n",
            "37 out of 500 done\n",
            "38 out of 500 done\n",
            "39 out of 500 done\n",
            "40 out of 500 done\n",
            "41 out of 500 done\n",
            "42 out of 500 done\n",
            "43 out of 500 done\n",
            "44 out of 500 done\n",
            "45 out of 500 done\n",
            "46 out of 500 done\n",
            "47 out of 500 done\n",
            "48 out of 500 done\n",
            "49 out of 500 done\n",
            "50 out of 500 done\n",
            "51 out of 500 done\n",
            "52 out of 500 done\n",
            "53 out of 500 done\n",
            "54 out of 500 done\n",
            "55 out of 500 done\n",
            "56 out of 500 done\n",
            "57 out of 500 done\n",
            "58 out of 500 done\n",
            "59 out of 500 done\n",
            "60 out of 500 done\n",
            "61 out of 500 done\n",
            "62 out of 500 done\n",
            "63 out of 500 done\n",
            "64 out of 500 done\n",
            "65 out of 500 done\n",
            "66 out of 500 done\n",
            "67 out of 500 done\n",
            "68 out of 500 done\n",
            "69 out of 500 done\n",
            "70 out of 500 done\n",
            "71 out of 500 done\n",
            "72 out of 500 done\n",
            "73 out of 500 done\n",
            "74 out of 500 done\n",
            "75 out of 500 done\n",
            "76 out of 500 done\n",
            "77 out of 500 done\n",
            "78 out of 500 done\n",
            "79 out of 500 done\n",
            "80 out of 500 done\n",
            "81 out of 500 done\n",
            "82 out of 500 done\n",
            "83 out of 500 done\n",
            "84 out of 500 done\n",
            "85 out of 500 done\n",
            "86 out of 500 done\n",
            "87 out of 500 done\n",
            "88 out of 500 done\n",
            "89 out of 500 done\n",
            "90 out of 500 done\n",
            "91 out of 500 done\n",
            "92 out of 500 done\n",
            "93 out of 500 done\n",
            "94 out of 500 done\n",
            "95 out of 500 done\n",
            "96 out of 500 done\n",
            "97 out of 500 done\n",
            "98 out of 500 done\n",
            "99 out of 500 done\n",
            "100 out of 500 done\n",
            "101 out of 500 done\n",
            "102 out of 500 done\n",
            "103 out of 500 done\n",
            "104 out of 500 done\n",
            "105 out of 500 done\n",
            "106 out of 500 done\n",
            "107 out of 500 done\n",
            "108 out of 500 done\n",
            "109 out of 500 done\n",
            "110 out of 500 done\n",
            "111 out of 500 done\n",
            "112 out of 500 done\n",
            "113 out of 500 done\n",
            "114 out of 500 done\n",
            "115 out of 500 done\n",
            "116 out of 500 done\n",
            "117 out of 500 done\n",
            "118 out of 500 done\n",
            "119 out of 500 done\n",
            "120 out of 500 done\n",
            "121 out of 500 done\n",
            "122 out of 500 done\n",
            "123 out of 500 done\n",
            "124 out of 500 done\n",
            "125 out of 500 done\n",
            "126 out of 500 done\n",
            "127 out of 500 done\n",
            "128 out of 500 done\n",
            "129 out of 500 done\n",
            "130 out of 500 done\n",
            "131 out of 500 done\n",
            "132 out of 500 done\n",
            "133 out of 500 done\n",
            "134 out of 500 done\n",
            "135 out of 500 done\n",
            "136 out of 500 done\n",
            "137 out of 500 done\n",
            "138 out of 500 done\n",
            "139 out of 500 done\n",
            "140 out of 500 done\n",
            "141 out of 500 done\n",
            "142 out of 500 done\n",
            "143 out of 500 done\n",
            "144 out of 500 done\n",
            "145 out of 500 done\n",
            "146 out of 500 done\n",
            "147 out of 500 done\n",
            "148 out of 500 done\n",
            "149 out of 500 done\n",
            "150 out of 500 done\n",
            "151 out of 500 done\n",
            "152 out of 500 done\n",
            "153 out of 500 done\n",
            "154 out of 500 done\n",
            "155 out of 500 done\n",
            "156 out of 500 done\n",
            "157 out of 500 done\n",
            "158 out of 500 done\n",
            "159 out of 500 done\n",
            "160 out of 500 done\n",
            "161 out of 500 done\n",
            "162 out of 500 done\n",
            "163 out of 500 done\n",
            "164 out of 500 done\n",
            "165 out of 500 done\n",
            "166 out of 500 done\n",
            "167 out of 500 done\n",
            "168 out of 500 done\n",
            "169 out of 500 done\n",
            "170 out of 500 done\n",
            "171 out of 500 done\n",
            "172 out of 500 done\n",
            "173 out of 500 done\n",
            "174 out of 500 done\n",
            "175 out of 500 done\n",
            "176 out of 500 done\n",
            "177 out of 500 done\n",
            "178 out of 500 done\n",
            "179 out of 500 done\n",
            "180 out of 500 done\n",
            "181 out of 500 done\n",
            "182 out of 500 done\n",
            "183 out of 500 done\n",
            "184 out of 500 done\n",
            "185 out of 500 done\n",
            "186 out of 500 done\n",
            "187 out of 500 done\n",
            "188 out of 500 done\n",
            "189 out of 500 done\n",
            "190 out of 500 done\n",
            "191 out of 500 done\n",
            "192 out of 500 done\n",
            "193 out of 500 done\n",
            "194 out of 500 done\n",
            "195 out of 500 done\n",
            "196 out of 500 done\n",
            "197 out of 500 done\n",
            "198 out of 500 done\n",
            "199 out of 500 done\n",
            "200 out of 500 done\n",
            "201 out of 500 done\n",
            "202 out of 500 done\n",
            "203 out of 500 done\n",
            "204 out of 500 done\n",
            "205 out of 500 done\n",
            "206 out of 500 done\n",
            "207 out of 500 done\n",
            "208 out of 500 done\n",
            "209 out of 500 done\n",
            "210 out of 500 done\n",
            "211 out of 500 done\n",
            "212 out of 500 done\n",
            "213 out of 500 done\n",
            "214 out of 500 done\n",
            "215 out of 500 done\n",
            "216 out of 500 done\n",
            "217 out of 500 done\n",
            "218 out of 500 done\n",
            "219 out of 500 done\n",
            "220 out of 500 done\n",
            "221 out of 500 done\n",
            "222 out of 500 done\n",
            "223 out of 500 done\n",
            "224 out of 500 done\n",
            "225 out of 500 done\n",
            "226 out of 500 done\n",
            "227 out of 500 done\n",
            "228 out of 500 done\n",
            "229 out of 500 done\n",
            "230 out of 500 done\n",
            "231 out of 500 done\n",
            "232 out of 500 done\n",
            "233 out of 500 done\n",
            "234 out of 500 done\n",
            "235 out of 500 done\n",
            "236 out of 500 done\n",
            "237 out of 500 done\n",
            "238 out of 500 done\n",
            "239 out of 500 done\n",
            "240 out of 500 done\n",
            "241 out of 500 done\n",
            "242 out of 500 done\n",
            "243 out of 500 done\n",
            "244 out of 500 done\n",
            "245 out of 500 done\n",
            "246 out of 500 done\n",
            "247 out of 500 done\n",
            "248 out of 500 done\n",
            "249 out of 500 done\n",
            "250 out of 500 done\n",
            "251 out of 500 done\n",
            "252 out of 500 done\n",
            "253 out of 500 done\n",
            "254 out of 500 done\n",
            "255 out of 500 done\n",
            "256 out of 500 done\n",
            "257 out of 500 done\n",
            "258 out of 500 done\n",
            "259 out of 500 done\n",
            "260 out of 500 done\n",
            "261 out of 500 done\n",
            "262 out of 500 done\n",
            "263 out of 500 done\n",
            "264 out of 500 done\n",
            "265 out of 500 done\n",
            "266 out of 500 done\n",
            "267 out of 500 done\n",
            "268 out of 500 done\n",
            "269 out of 500 done\n",
            "270 out of 500 done\n",
            "271 out of 500 done\n",
            "272 out of 500 done\n",
            "273 out of 500 done\n",
            "274 out of 500 done\n",
            "275 out of 500 done\n",
            "276 out of 500 done\n",
            "277 out of 500 done\n",
            "278 out of 500 done\n",
            "279 out of 500 done\n",
            "280 out of 500 done\n",
            "281 out of 500 done\n",
            "282 out of 500 done\n",
            "283 out of 500 done\n",
            "284 out of 500 done\n",
            "285 out of 500 done\n",
            "286 out of 500 done\n",
            "287 out of 500 done\n",
            "288 out of 500 done\n",
            "289 out of 500 done\n",
            "290 out of 500 done\n",
            "291 out of 500 done\n",
            "292 out of 500 done\n",
            "293 out of 500 done\n",
            "294 out of 500 done\n",
            "295 out of 500 done\n",
            "296 out of 500 done\n",
            "297 out of 500 done\n",
            "298 out of 500 done\n",
            "299 out of 500 done\n",
            "300 out of 500 done\n",
            "301 out of 500 done\n",
            "302 out of 500 done\n",
            "303 out of 500 done\n",
            "304 out of 500 done\n",
            "305 out of 500 done\n",
            "306 out of 500 done\n",
            "307 out of 500 done\n",
            "308 out of 500 done\n",
            "309 out of 500 done\n",
            "310 out of 500 done\n",
            "311 out of 500 done\n",
            "312 out of 500 done\n",
            "313 out of 500 done\n",
            "314 out of 500 done\n",
            "315 out of 500 done\n",
            "316 out of 500 done\n",
            "317 out of 500 done\n",
            "318 out of 500 done\n",
            "319 out of 500 done\n",
            "320 out of 500 done\n",
            "321 out of 500 done\n",
            "322 out of 500 done\n",
            "323 out of 500 done\n",
            "324 out of 500 done\n",
            "325 out of 500 done\n",
            "326 out of 500 done\n",
            "327 out of 500 done\n",
            "328 out of 500 done\n",
            "329 out of 500 done\n",
            "330 out of 500 done\n",
            "331 out of 500 done\n",
            "332 out of 500 done\n",
            "333 out of 500 done\n",
            "334 out of 500 done\n",
            "335 out of 500 done\n",
            "336 out of 500 done\n",
            "337 out of 500 done\n",
            "338 out of 500 done\n",
            "339 out of 500 done\n",
            "340 out of 500 done\n",
            "341 out of 500 done\n",
            "342 out of 500 done\n",
            "343 out of 500 done\n",
            "344 out of 500 done\n",
            "345 out of 500 done\n",
            "346 out of 500 done\n",
            "347 out of 500 done\n",
            "348 out of 500 done\n",
            "349 out of 500 done\n",
            "350 out of 500 done\n",
            "351 out of 500 done\n",
            "352 out of 500 done\n",
            "353 out of 500 done\n",
            "354 out of 500 done\n",
            "355 out of 500 done\n",
            "356 out of 500 done\n",
            "357 out of 500 done\n",
            "358 out of 500 done\n",
            "359 out of 500 done\n",
            "360 out of 500 done\n",
            "361 out of 500 done\n",
            "362 out of 500 done\n",
            "363 out of 500 done\n",
            "364 out of 500 done\n",
            "365 out of 500 done\n",
            "366 out of 500 done\n",
            "367 out of 500 done\n",
            "368 out of 500 done\n",
            "369 out of 500 done\n",
            "370 out of 500 done\n",
            "371 out of 500 done\n",
            "372 out of 500 done\n",
            "373 out of 500 done\n",
            "374 out of 500 done\n",
            "375 out of 500 done\n",
            "376 out of 500 done\n",
            "377 out of 500 done\n",
            "378 out of 500 done\n",
            "379 out of 500 done\n",
            "380 out of 500 done\n",
            "381 out of 500 done\n",
            "382 out of 500 done\n",
            "383 out of 500 done\n",
            "384 out of 500 done\n",
            "385 out of 500 done\n",
            "386 out of 500 done\n",
            "387 out of 500 done\n",
            "388 out of 500 done\n",
            "389 out of 500 done\n",
            "390 out of 500 done\n",
            "391 out of 500 done\n",
            "392 out of 500 done\n",
            "393 out of 500 done\n",
            "394 out of 500 done\n",
            "395 out of 500 done\n",
            "396 out of 500 done\n",
            "397 out of 500 done\n",
            "398 out of 500 done\n",
            "399 out of 500 done\n",
            "400 out of 500 done\n",
            "401 out of 500 done\n",
            "402 out of 500 done\n",
            "403 out of 500 done\n",
            "404 out of 500 done\n",
            "405 out of 500 done\n",
            "406 out of 500 done\n",
            "407 out of 500 done\n",
            "408 out of 500 done\n",
            "409 out of 500 done\n",
            "410 out of 500 done\n",
            "411 out of 500 done\n",
            "412 out of 500 done\n",
            "413 out of 500 done\n",
            "414 out of 500 done\n",
            "415 out of 500 done\n",
            "416 out of 500 done\n",
            "417 out of 500 done\n",
            "418 out of 500 done\n",
            "419 out of 500 done\n",
            "420 out of 500 done\n",
            "421 out of 500 done\n",
            "422 out of 500 done\n",
            "423 out of 500 done\n",
            "424 out of 500 done\n",
            "425 out of 500 done\n",
            "426 out of 500 done\n",
            "427 out of 500 done\n",
            "428 out of 500 done\n",
            "429 out of 500 done\n",
            "430 out of 500 done\n",
            "431 out of 500 done\n",
            "432 out of 500 done\n",
            "433 out of 500 done\n",
            "434 out of 500 done\n",
            "435 out of 500 done\n",
            "436 out of 500 done\n",
            "437 out of 500 done\n",
            "438 out of 500 done\n",
            "439 out of 500 done\n",
            "440 out of 500 done\n",
            "441 out of 500 done\n",
            "442 out of 500 done\n",
            "443 out of 500 done\n",
            "444 out of 500 done\n",
            "445 out of 500 done\n",
            "446 out of 500 done\n",
            "447 out of 500 done\n",
            "448 out of 500 done\n",
            "449 out of 500 done\n",
            "450 out of 500 done\n",
            "451 out of 500 done\n",
            "452 out of 500 done\n",
            "453 out of 500 done\n",
            "454 out of 500 done\n",
            "455 out of 500 done\n",
            "456 out of 500 done\n",
            "457 out of 500 done\n",
            "458 out of 500 done\n",
            "459 out of 500 done\n",
            "460 out of 500 done\n",
            "461 out of 500 done\n",
            "462 out of 500 done\n",
            "463 out of 500 done\n",
            "464 out of 500 done\n",
            "465 out of 500 done\n",
            "466 out of 500 done\n",
            "467 out of 500 done\n",
            "468 out of 500 done\n",
            "469 out of 500 done\n",
            "470 out of 500 done\n",
            "471 out of 500 done\n",
            "472 out of 500 done\n",
            "473 out of 500 done\n",
            "474 out of 500 done\n",
            "475 out of 500 done\n",
            "476 out of 500 done\n",
            "477 out of 500 done\n",
            "478 out of 500 done\n",
            "479 out of 500 done\n",
            "480 out of 500 done\n",
            "481 out of 500 done\n",
            "482 out of 500 done\n",
            "483 out of 500 done\n",
            "484 out of 500 done\n",
            "485 out of 500 done\n",
            "486 out of 500 done\n",
            "487 out of 500 done\n",
            "488 out of 500 done\n",
            "489 out of 500 done\n",
            "490 out of 500 done\n",
            "491 out of 500 done\n",
            "492 out of 500 done\n",
            "493 out of 500 done\n",
            "494 out of 500 done\n",
            "495 out of 500 done\n",
            "496 out of 500 done\n",
            "497 out of 500 done\n",
            "498 out of 500 done\n",
            "499 out of 500 done\n",
            "C = 5, Score = 0.8571428571428571, Random State = 231\n"
          ]
        }
      ],
      "source": [
        "c_val = 0\n",
        "score_val = 0\n",
        "min_range = 0\n",
        "max_range = 500\n",
        "state = 0\n",
        "\n",
        "for rand_state in range(min_range, max_range):\n",
        "    X_train, X_test, y_train1, y_test1 = train_test_split(X, y, random_state = rand_state)\n",
        "    y_train = pd.DataFrame(y_train1)\n",
        "    y_test = pd.DataFrame(y_test1)\n",
        "\n",
        "    scaler = MinMaxScaler().fit(X_train)\n",
        "    X_train = scaler.transform(X_train)\n",
        "    X_test = scaler.transform(X_test)\n",
        "\n",
        "\n",
        "    for x in [1, 5, 10, 20, 100, 200, 400]:\n",
        "        clf = SVC(kernel = 'sigmoid', C = x).fit(X_train, np.ravel(y_train))\n",
        "        score = clf.score(X_test, np.ravel(y_test))\n",
        "\n",
        "        if score > score_val:\n",
        "            c_val = x\n",
        "            score_val = score\n",
        "            state = rand_state\n",
        "\n",
        "    print('{} out of {} done'.format(rand_state - min_range, max_range - min_range))\n",
        "print(\"C = {}, Score = {}, Random State = {}\".format(c_val, score_val, state))"
      ]
    },
    {
      "cell_type": "code",
      "execution_count": null,
      "metadata": {
        "id": "z3_0H7wiuRLF"
      },
      "outputs": [],
      "source": [
        "max_score = 0\n",
        "best_param = []\n",
        "for i in range(0,1000):\n",
        "    from sklearn.model_selection import GridSearchCV\n",
        "    X_train, X_test, y_train, y_test = train_test_split(X, y)\n",
        "    clf = SVC(kernel = 'sigmoid', C = 1).fit(X_train, np.ravel(y_train))\n",
        "\n",
        "    grid_values = {'C': [1, 2, 5, 10, 15, 20, 25, 40, 50, 70, 100, 500, 1000]}\n",
        "\n",
        "    grid_lr = GridSearchCV(clf, param_grid = grid_values, scoring = 'accuracy')\n",
        "    grid_lr.fit(X_train, y_train)\n",
        "    if max_score < grid_lr.best_score_:\n",
        "        max_score = grid_lr.best_score_\n",
        "        best_param = grid_lr.best_params_"
      ]
    },
    {
      "cell_type": "code",
      "execution_count": null,
      "metadata": {
        "colab": {
          "base_uri": "https://localhost:8080/",
          "height": 52
        },
        "id": "v-Z9pgwyuQ7d",
        "outputId": "d2a9cbe7-ae8b-4cd2-884b-8eb1c3f36ecc"
      },
      "outputs": [
        {
          "name": "stdout",
          "output_type": "stream",
          "text": [
            "0.7687922705314009\n",
            "{'C': 2}\n"
          ]
        }
      ],
      "source": [
        "print( max_score)\n",
        "print( best_param)"
      ]
    },
    {
      "cell_type": "code",
      "execution_count": null,
      "metadata": {
        "colab": {
          "base_uri": "https://localhost:8080/",
          "height": 17
        },
        "id": "QwOiYoS93KCQ",
        "outputId": "29cb9b08-de3d-4b8b-c36f-997b9820cc2c"
      },
      "outputs": [
        {
          "data": {
            "application/javascript": "/* Put everything inside the global mpl namespace */\n/* global mpl */\nwindow.mpl = {};\n\nmpl.get_websocket_type = function () {\n    if (typeof WebSocket !== 'undefined') {\n        return WebSocket;\n    } else if (typeof MozWebSocket !== 'undefined') {\n        return MozWebSocket;\n    } else {\n        alert(\n            'Your browser does not have WebSocket support. ' +\n                'Please try Chrome, Safari or Firefox ≥ 6. ' +\n                'Firefox 4 and 5 are also supported but you ' +\n                'have to enable WebSockets in about:config.'\n        );\n    }\n};\n\nmpl.figure = function (figure_id, websocket, ondownload, parent_element) {\n    this.id = figure_id;\n\n    this.ws = websocket;\n\n    this.supports_binary = this.ws.binaryType !== undefined;\n\n    if (!this.supports_binary) {\n        var warnings = document.getElementById('mpl-warnings');\n        if (warnings) {\n            warnings.style.display = 'block';\n            warnings.textContent =\n                'This browser does not support binary websocket messages. ' +\n                'Performance may be slow.';\n        }\n    }\n\n    this.imageObj = new Image();\n\n    this.context = undefined;\n    this.message = undefined;\n    this.canvas = undefined;\n    this.rubberband_canvas = undefined;\n    this.rubberband_context = undefined;\n    this.format_dropdown = undefined;\n\n    this.image_mode = 'full';\n\n    this.root = document.createElement('div');\n    this.root.setAttribute('style', 'display: inline-block');\n    this._root_extra_style(this.root);\n\n    parent_element.appendChild(this.root);\n\n    this._init_header(this);\n    this._init_canvas(this);\n    this._init_toolbar(this);\n\n    var fig = this;\n\n    this.waiting = false;\n\n    this.ws.onopen = function () {\n        fig.send_message('supports_binary', { value: fig.supports_binary });\n        fig.send_message('send_image_mode', {});\n        if (fig.ratio !== 1) {\n            fig.send_message('set_device_pixel_ratio', {\n                device_pixel_ratio: fig.ratio,\n            });\n        }\n        fig.send_message('refresh', {});\n    };\n\n    this.imageObj.onload = function () {\n        if (fig.image_mode === 'full') {\n            // Full images could contain transparency (where diff images\n            // almost always do), so we need to clear the canvas so that\n            // there is no ghosting.\n            fig.context.clearRect(0, 0, fig.canvas.width, fig.canvas.height);\n        }\n        fig.context.drawImage(fig.imageObj, 0, 0);\n    };\n\n    this.imageObj.onunload = function () {\n        fig.ws.close();\n    };\n\n    this.ws.onmessage = this._make_on_message_function(this);\n\n    this.ondownload = ondownload;\n};\n\nmpl.figure.prototype._init_header = function () {\n    var titlebar = document.createElement('div');\n    titlebar.classList =\n        'ui-dialog-titlebar ui-widget-header ui-corner-all ui-helper-clearfix';\n    var titletext = document.createElement('div');\n    titletext.classList = 'ui-dialog-title';\n    titletext.setAttribute(\n        'style',\n        'width: 100%; text-align: center; padding: 3px;'\n    );\n    titlebar.appendChild(titletext);\n    this.root.appendChild(titlebar);\n    this.header = titletext;\n};\n\nmpl.figure.prototype._canvas_extra_style = function (_canvas_div) {};\n\nmpl.figure.prototype._root_extra_style = function (_canvas_div) {};\n\nmpl.figure.prototype._init_canvas = function () {\n    var fig = this;\n\n    var canvas_div = (this.canvas_div = document.createElement('div'));\n    canvas_div.setAttribute('tabindex', '0');\n    canvas_div.setAttribute(\n        'style',\n        'border: 1px solid #ddd;' +\n            'box-sizing: content-box;' +\n            'clear: both;' +\n            'min-height: 1px;' +\n            'min-width: 1px;' +\n            'outline: 0;' +\n            'overflow: hidden;' +\n            'position: relative;' +\n            'resize: both;' +\n            'z-index: 2;'\n    );\n\n    function on_keyboard_event_closure(name) {\n        return function (event) {\n            return fig.key_event(event, name);\n        };\n    }\n\n    canvas_div.addEventListener(\n        'keydown',\n        on_keyboard_event_closure('key_press')\n    );\n    canvas_div.addEventListener(\n        'keyup',\n        on_keyboard_event_closure('key_release')\n    );\n\n    this._canvas_extra_style(canvas_div);\n    this.root.appendChild(canvas_div);\n\n    var canvas = (this.canvas = document.createElement('canvas'));\n    canvas.classList.add('mpl-canvas');\n    canvas.setAttribute(\n        'style',\n        'box-sizing: content-box;' +\n            'pointer-events: none;' +\n            'position: relative;' +\n            'z-index: 0;'\n    );\n\n    this.context = canvas.getContext('2d');\n\n    var backingStore =\n        this.context.backingStorePixelRatio ||\n        this.context.webkitBackingStorePixelRatio ||\n        this.context.mozBackingStorePixelRatio ||\n        this.context.msBackingStorePixelRatio ||\n        this.context.oBackingStorePixelRatio ||\n        this.context.backingStorePixelRatio ||\n        1;\n\n    this.ratio = (window.devicePixelRatio || 1) / backingStore;\n\n    var rubberband_canvas = (this.rubberband_canvas = document.createElement(\n        'canvas'\n    ));\n    rubberband_canvas.setAttribute(\n        'style',\n        'box-sizing: content-box;' +\n            'left: 0;' +\n            'pointer-events: none;' +\n            'position: absolute;' +\n            'top: 0;' +\n            'z-index: 1;'\n    );\n\n    // Apply a ponyfill if ResizeObserver is not implemented by browser.\n    if (this.ResizeObserver === undefined) {\n        if (window.ResizeObserver !== undefined) {\n            this.ResizeObserver = window.ResizeObserver;\n        } else {\n            var obs = _JSXTOOLS_RESIZE_OBSERVER({});\n            this.ResizeObserver = obs.ResizeObserver;\n        }\n    }\n\n    this.resizeObserverInstance = new this.ResizeObserver(function (entries) {\n        var nentries = entries.length;\n        for (var i = 0; i < nentries; i++) {\n            var entry = entries[i];\n            var width, height;\n            if (entry.contentBoxSize) {\n                if (entry.contentBoxSize instanceof Array) {\n                    // Chrome 84 implements new version of spec.\n                    width = entry.contentBoxSize[0].inlineSize;\n                    height = entry.contentBoxSize[0].blockSize;\n                } else {\n                    // Firefox implements old version of spec.\n                    width = entry.contentBoxSize.inlineSize;\n                    height = entry.contentBoxSize.blockSize;\n                }\n            } else {\n                // Chrome <84 implements even older version of spec.\n                width = entry.contentRect.width;\n                height = entry.contentRect.height;\n            }\n\n            // Keep the size of the canvas and rubber band canvas in sync with\n            // the canvas container.\n            if (entry.devicePixelContentBoxSize) {\n                // Chrome 84 implements new version of spec.\n                canvas.setAttribute(\n                    'width',\n                    entry.devicePixelContentBoxSize[0].inlineSize\n                );\n                canvas.setAttribute(\n                    'height',\n                    entry.devicePixelContentBoxSize[0].blockSize\n                );\n            } else {\n                canvas.setAttribute('width', width * fig.ratio);\n                canvas.setAttribute('height', height * fig.ratio);\n            }\n            /* This rescales the canvas back to display pixels, so that it\n             * appears correct on HiDPI screens. */\n            canvas.style.width = width + 'px';\n            canvas.style.height = height + 'px';\n\n            rubberband_canvas.setAttribute('width', width);\n            rubberband_canvas.setAttribute('height', height);\n\n            // And update the size in Python. We ignore the initial 0/0 size\n            // that occurs as the element is placed into the DOM, which should\n            // otherwise not happen due to the minimum size styling.\n            if (fig.ws.readyState == 1 && width != 0 && height != 0) {\n                fig.request_resize(width, height);\n            }\n        }\n    });\n    this.resizeObserverInstance.observe(canvas_div);\n\n    function on_mouse_event_closure(name) {\n        /* User Agent sniffing is bad, but WebKit is busted:\n         * https://bugs.webkit.org/show_bug.cgi?id=144526\n         * https://bugs.webkit.org/show_bug.cgi?id=181818\n         * The worst that happens here is that they get an extra browser\n         * selection when dragging, if this check fails to catch them.\n         */\n        var UA = navigator.userAgent;\n        var isWebKit = /AppleWebKit/.test(UA) && !/Chrome/.test(UA);\n        if(isWebKit) {\n            return function (event) {\n                /* This prevents the web browser from automatically changing to\n                 * the text insertion cursor when the button is pressed. We\n                 * want to control all of the cursor setting manually through\n                 * the 'cursor' event from matplotlib */\n                event.preventDefault()\n                return fig.mouse_event(event, name);\n            };\n        } else {\n            return function (event) {\n                return fig.mouse_event(event, name);\n            };\n        }\n    }\n\n    canvas_div.addEventListener(\n        'mousedown',\n        on_mouse_event_closure('button_press')\n    );\n    canvas_div.addEventListener(\n        'mouseup',\n        on_mouse_event_closure('button_release')\n    );\n    canvas_div.addEventListener(\n        'dblclick',\n        on_mouse_event_closure('dblclick')\n    );\n    // Throttle sequential mouse events to 1 every 20ms.\n    canvas_div.addEventListener(\n        'mousemove',\n        on_mouse_event_closure('motion_notify')\n    );\n\n    canvas_div.addEventListener(\n        'mouseenter',\n        on_mouse_event_closure('figure_enter')\n    );\n    canvas_div.addEventListener(\n        'mouseleave',\n        on_mouse_event_closure('figure_leave')\n    );\n\n    canvas_div.addEventListener('wheel', function (event) {\n        if (event.deltaY < 0) {\n            event.step = 1;\n        } else {\n            event.step = -1;\n        }\n        on_mouse_event_closure('scroll')(event);\n    });\n\n    canvas_div.appendChild(canvas);\n    canvas_div.appendChild(rubberband_canvas);\n\n    this.rubberband_context = rubberband_canvas.getContext('2d');\n    this.rubberband_context.strokeStyle = '#000000';\n\n    this._resize_canvas = function (width, height, forward) {\n        if (forward) {\n            canvas_div.style.width = width + 'px';\n            canvas_div.style.height = height + 'px';\n        }\n    };\n\n    // Disable right mouse context menu.\n    canvas_div.addEventListener('contextmenu', function (_e) {\n        event.preventDefault();\n        return false;\n    });\n\n    function set_focus() {\n        canvas.focus();\n        canvas_div.focus();\n    }\n\n    window.setTimeout(set_focus, 100);\n};\n\nmpl.figure.prototype._init_toolbar = function () {\n    var fig = this;\n\n    var toolbar = document.createElement('div');\n    toolbar.classList = 'mpl-toolbar';\n    this.root.appendChild(toolbar);\n\n    function on_click_closure(name) {\n        return function (_event) {\n            return fig.toolbar_button_onclick(name);\n        };\n    }\n\n    function on_mouseover_closure(tooltip) {\n        return function (event) {\n            if (!event.currentTarget.disabled) {\n                return fig.toolbar_button_onmouseover(tooltip);\n            }\n        };\n    }\n\n    fig.buttons = {};\n    var buttonGroup = document.createElement('div');\n    buttonGroup.classList = 'mpl-button-group';\n    for (var toolbar_ind in mpl.toolbar_items) {\n        var name = mpl.toolbar_items[toolbar_ind][0];\n        var tooltip = mpl.toolbar_items[toolbar_ind][1];\n        var image = mpl.toolbar_items[toolbar_ind][2];\n        var method_name = mpl.toolbar_items[toolbar_ind][3];\n\n        if (!name) {\n            /* Instead of a spacer, we start a new button group. */\n            if (buttonGroup.hasChildNodes()) {\n                toolbar.appendChild(buttonGroup);\n            }\n            buttonGroup = document.createElement('div');\n            buttonGroup.classList = 'mpl-button-group';\n            continue;\n        }\n\n        var button = (fig.buttons[name] = document.createElement('button'));\n        button.classList = 'mpl-widget';\n        button.setAttribute('role', 'button');\n        button.setAttribute('aria-disabled', 'false');\n        button.addEventListener('click', on_click_closure(method_name));\n        button.addEventListener('mouseover', on_mouseover_closure(tooltip));\n\n        var icon_img = document.createElement('img');\n        icon_img.src = '_images/' + image + '.png';\n        icon_img.srcset = '_images/' + image + '_large.png 2x';\n        icon_img.alt = tooltip;\n        button.appendChild(icon_img);\n\n        buttonGroup.appendChild(button);\n    }\n\n    if (buttonGroup.hasChildNodes()) {\n        toolbar.appendChild(buttonGroup);\n    }\n\n    var fmt_picker = document.createElement('select');\n    fmt_picker.classList = 'mpl-widget';\n    toolbar.appendChild(fmt_picker);\n    this.format_dropdown = fmt_picker;\n\n    for (var ind in mpl.extensions) {\n        var fmt = mpl.extensions[ind];\n        var option = document.createElement('option');\n        option.selected = fmt === mpl.default_extension;\n        option.innerHTML = fmt;\n        fmt_picker.appendChild(option);\n    }\n\n    var status_bar = document.createElement('span');\n    status_bar.classList = 'mpl-message';\n    toolbar.appendChild(status_bar);\n    this.message = status_bar;\n};\n\nmpl.figure.prototype.request_resize = function (x_pixels, y_pixels) {\n    // Request matplotlib to resize the figure. Matplotlib will then trigger a resize in the client,\n    // which will in turn request a refresh of the image.\n    this.send_message('resize', { width: x_pixels, height: y_pixels });\n};\n\nmpl.figure.prototype.send_message = function (type, properties) {\n    properties['type'] = type;\n    properties['figure_id'] = this.id;\n    this.ws.send(JSON.stringify(properties));\n};\n\nmpl.figure.prototype.send_draw_message = function () {\n    if (!this.waiting) {\n        this.waiting = true;\n        this.ws.send(JSON.stringify({ type: 'draw', figure_id: this.id }));\n    }\n};\n\nmpl.figure.prototype.handle_save = function (fig, _msg) {\n    var format_dropdown = fig.format_dropdown;\n    var format = format_dropdown.options[format_dropdown.selectedIndex].value;\n    fig.ondownload(fig, format);\n};\n\nmpl.figure.prototype.handle_resize = function (fig, msg) {\n    var size = msg['size'];\n    if (size[0] !== fig.canvas.width || size[1] !== fig.canvas.height) {\n        fig._resize_canvas(size[0], size[1], msg['forward']);\n        fig.send_message('refresh', {});\n    }\n};\n\nmpl.figure.prototype.handle_rubberband = function (fig, msg) {\n    var x0 = msg['x0'] / fig.ratio;\n    var y0 = (fig.canvas.height - msg['y0']) / fig.ratio;\n    var x1 = msg['x1'] / fig.ratio;\n    var y1 = (fig.canvas.height - msg['y1']) / fig.ratio;\n    x0 = Math.floor(x0) + 0.5;\n    y0 = Math.floor(y0) + 0.5;\n    x1 = Math.floor(x1) + 0.5;\n    y1 = Math.floor(y1) + 0.5;\n    var min_x = Math.min(x0, x1);\n    var min_y = Math.min(y0, y1);\n    var width = Math.abs(x1 - x0);\n    var height = Math.abs(y1 - y0);\n\n    fig.rubberband_context.clearRect(\n        0,\n        0,\n        fig.canvas.width / fig.ratio,\n        fig.canvas.height / fig.ratio\n    );\n\n    fig.rubberband_context.strokeRect(min_x, min_y, width, height);\n};\n\nmpl.figure.prototype.handle_figure_label = function (fig, msg) {\n    // Updates the figure title.\n    fig.header.textContent = msg['label'];\n};\n\nmpl.figure.prototype.handle_cursor = function (fig, msg) {\n    fig.canvas_div.style.cursor = msg['cursor'];\n};\n\nmpl.figure.prototype.handle_message = function (fig, msg) {\n    fig.message.textContent = msg['message'];\n};\n\nmpl.figure.prototype.handle_draw = function (fig, _msg) {\n    // Request the server to send over a new figure.\n    fig.send_draw_message();\n};\n\nmpl.figure.prototype.handle_image_mode = function (fig, msg) {\n    fig.image_mode = msg['mode'];\n};\n\nmpl.figure.prototype.handle_history_buttons = function (fig, msg) {\n    for (var key in msg) {\n        if (!(key in fig.buttons)) {\n            continue;\n        }\n        fig.buttons[key].disabled = !msg[key];\n        fig.buttons[key].setAttribute('aria-disabled', !msg[key]);\n    }\n};\n\nmpl.figure.prototype.handle_navigate_mode = function (fig, msg) {\n    if (msg['mode'] === 'PAN') {\n        fig.buttons['Pan'].classList.add('active');\n        fig.buttons['Zoom'].classList.remove('active');\n    } else if (msg['mode'] === 'ZOOM') {\n        fig.buttons['Pan'].classList.remove('active');\n        fig.buttons['Zoom'].classList.add('active');\n    } else {\n        fig.buttons['Pan'].classList.remove('active');\n        fig.buttons['Zoom'].classList.remove('active');\n    }\n};\n\nmpl.figure.prototype.updated_canvas_event = function () {\n    // Called whenever the canvas gets updated.\n    this.send_message('ack', {});\n};\n\n// A function to construct a web socket function for onmessage handling.\n// Called in the figure constructor.\nmpl.figure.prototype._make_on_message_function = function (fig) {\n    return function socket_on_message(evt) {\n        if (evt.data instanceof Blob) {\n            var img = evt.data;\n            if (img.type !== 'image/png') {\n                /* FIXME: We get \"Resource interpreted as Image but\n                 * transferred with MIME type text/plain:\" errors on\n                 * Chrome.  But how to set the MIME type?  It doesn't seem\n                 * to be part of the websocket stream */\n                img.type = 'image/png';\n            }\n\n            /* Free the memory for the previous frames */\n            if (fig.imageObj.src) {\n                (window.URL || window.webkitURL).revokeObjectURL(\n                    fig.imageObj.src\n                );\n            }\n\n            fig.imageObj.src = (window.URL || window.webkitURL).createObjectURL(\n                img\n            );\n            fig.updated_canvas_event();\n            fig.waiting = false;\n            return;\n        } else if (\n            typeof evt.data === 'string' &&\n            evt.data.slice(0, 21) === 'data:image/png;base64'\n        ) {\n            fig.imageObj.src = evt.data;\n            fig.updated_canvas_event();\n            fig.waiting = false;\n            return;\n        }\n\n        var msg = JSON.parse(evt.data);\n        var msg_type = msg['type'];\n\n        // Call the  \"handle_{type}\" callback, which takes\n        // the figure and JSON message as its only arguments.\n        try {\n            var callback = fig['handle_' + msg_type];\n        } catch (e) {\n            console.log(\n                \"No handler for the '\" + msg_type + \"' message type: \",\n                msg\n            );\n            return;\n        }\n\n        if (callback) {\n            try {\n                // console.log(\"Handling '\" + msg_type + \"' message: \", msg);\n                callback(fig, msg);\n            } catch (e) {\n                console.log(\n                    \"Exception inside the 'handler_\" + msg_type + \"' callback:\",\n                    e,\n                    e.stack,\n                    msg\n                );\n            }\n        }\n    };\n};\n\nfunction getModifiers(event) {\n    var mods = [];\n    if (event.ctrlKey) {\n        mods.push('ctrl');\n    }\n    if (event.altKey) {\n        mods.push('alt');\n    }\n    if (event.shiftKey) {\n        mods.push('shift');\n    }\n    if (event.metaKey) {\n        mods.push('meta');\n    }\n    return mods;\n}\n\n/*\n * return a copy of an object with only non-object keys\n * we need this to avoid circular references\n * https://stackoverflow.com/a/24161582/3208463\n */\nfunction simpleKeys(original) {\n    return Object.keys(original).reduce(function (obj, key) {\n        if (typeof original[key] !== 'object') {\n            obj[key] = original[key];\n        }\n        return obj;\n    }, {});\n}\n\nmpl.figure.prototype.mouse_event = function (event, name) {\n    if (name === 'button_press') {\n        this.canvas.focus();\n        this.canvas_div.focus();\n    }\n\n    // from https://stackoverflow.com/q/1114465\n    var boundingRect = this.canvas.getBoundingClientRect();\n    var x = (event.clientX - boundingRect.left) * this.ratio;\n    var y = (event.clientY - boundingRect.top) * this.ratio;\n\n    this.send_message(name, {\n        x: x,\n        y: y,\n        button: event.button,\n        step: event.step,\n        modifiers: getModifiers(event),\n        guiEvent: simpleKeys(event),\n    });\n\n    return false;\n};\n\nmpl.figure.prototype._key_event_extra = function (_event, _name) {\n    // Handle any extra behaviour associated with a key event\n};\n\nmpl.figure.prototype.key_event = function (event, name) {\n    // Prevent repeat events\n    if (name === 'key_press') {\n        if (event.key === this._key) {\n            return;\n        } else {\n            this._key = event.key;\n        }\n    }\n    if (name === 'key_release') {\n        this._key = null;\n    }\n\n    var value = '';\n    if (event.ctrlKey && event.key !== 'Control') {\n        value += 'ctrl+';\n    }\n    else if (event.altKey && event.key !== 'Alt') {\n        value += 'alt+';\n    }\n    else if (event.shiftKey && event.key !== 'Shift') {\n        value += 'shift+';\n    }\n\n    value += 'k' + event.key;\n\n    this._key_event_extra(event, name);\n\n    this.send_message(name, { key: value, guiEvent: simpleKeys(event) });\n    return false;\n};\n\nmpl.figure.prototype.toolbar_button_onclick = function (name) {\n    if (name === 'download') {\n        this.handle_save(this, null);\n    } else {\n        this.send_message('toolbar_button', { name: name });\n    }\n};\n\nmpl.figure.prototype.toolbar_button_onmouseover = function (tooltip) {\n    this.message.textContent = tooltip;\n};\n\n///////////////// REMAINING CONTENT GENERATED BY embed_js.py /////////////////\n// prettier-ignore\nvar _JSXTOOLS_RESIZE_OBSERVER=function(A){var t,i=new WeakMap,n=new WeakMap,a=new WeakMap,r=new WeakMap,o=new Set;function s(e){if(!(this instanceof s))throw new TypeError(\"Constructor requires 'new' operator\");i.set(this,e)}function h(){throw new TypeError(\"Function is not a constructor\")}function c(e,t,i,n){e=0 in arguments?Number(arguments[0]):0,t=1 in arguments?Number(arguments[1]):0,i=2 in arguments?Number(arguments[2]):0,n=3 in arguments?Number(arguments[3]):0,this.right=(this.x=this.left=e)+(this.width=i),this.bottom=(this.y=this.top=t)+(this.height=n),Object.freeze(this)}function d(){t=requestAnimationFrame(d);var s=new WeakMap,p=new Set;o.forEach((function(t){r.get(t).forEach((function(i){var r=t instanceof window.SVGElement,o=a.get(t),d=r?0:parseFloat(o.paddingTop),f=r?0:parseFloat(o.paddingRight),l=r?0:parseFloat(o.paddingBottom),u=r?0:parseFloat(o.paddingLeft),g=r?0:parseFloat(o.borderTopWidth),m=r?0:parseFloat(o.borderRightWidth),w=r?0:parseFloat(o.borderBottomWidth),b=u+f,F=d+l,v=(r?0:parseFloat(o.borderLeftWidth))+m,W=g+w,y=r?0:t.offsetHeight-W-t.clientHeight,E=r?0:t.offsetWidth-v-t.clientWidth,R=b+v,z=F+W,M=r?t.width:parseFloat(o.width)-R-E,O=r?t.height:parseFloat(o.height)-z-y;if(n.has(t)){var k=n.get(t);if(k[0]===M&&k[1]===O)return}n.set(t,[M,O]);var S=Object.create(h.prototype);S.target=t,S.contentRect=new c(u,d,M,O),s.has(i)||(s.set(i,[]),p.add(i)),s.get(i).push(S)}))})),p.forEach((function(e){i.get(e).call(e,s.get(e),e)}))}return s.prototype.observe=function(i){if(i instanceof window.Element){r.has(i)||(r.set(i,new Set),o.add(i),a.set(i,window.getComputedStyle(i)));var n=r.get(i);n.has(this)||n.add(this),cancelAnimationFrame(t),t=requestAnimationFrame(d)}},s.prototype.unobserve=function(i){if(i instanceof window.Element&&r.has(i)){var n=r.get(i);n.has(this)&&(n.delete(this),n.size||(r.delete(i),o.delete(i))),n.size||r.delete(i),o.size||cancelAnimationFrame(t)}},A.DOMRectReadOnly=c,A.ResizeObserver=s,A.ResizeObserverEntry=h,A}; // eslint-disable-line\nmpl.toolbar_items = [[\"Home\", \"Reset original view\", \"fa fa-home\", \"home\"], [\"Back\", \"Back to previous view\", \"fa fa-arrow-left\", \"back\"], [\"Forward\", \"Forward to next view\", \"fa fa-arrow-right\", \"forward\"], [\"\", \"\", \"\", \"\"], [\"Pan\", \"Left button pans, Right button zooms\\nx/y fixes axis, CTRL fixes aspect\", \"fa fa-arrows\", \"pan\"], [\"Zoom\", \"Zoom to rectangle\\nx/y fixes axis\", \"fa fa-square-o\", \"zoom\"], [\"\", \"\", \"\", \"\"], [\"Download\", \"Download plot\", \"fa fa-floppy-o\", \"download\"]];\n\nmpl.extensions = [\"eps\", \"jpeg\", \"pgf\", \"pdf\", \"png\", \"ps\", \"raw\", \"svg\", \"tif\", \"webp\"];\n\nmpl.default_extension = \"png\";/* global mpl */\n\nvar comm_websocket_adapter = function (comm) {\n    // Create a \"websocket\"-like object which calls the given IPython comm\n    // object with the appropriate methods. Currently this is a non binary\n    // socket, so there is still some room for performance tuning.\n    var ws = {};\n\n    ws.binaryType = comm.kernel.ws.binaryType;\n    ws.readyState = comm.kernel.ws.readyState;\n    function updateReadyState(_event) {\n        if (comm.kernel.ws) {\n            ws.readyState = comm.kernel.ws.readyState;\n        } else {\n            ws.readyState = 3; // Closed state.\n        }\n    }\n    comm.kernel.ws.addEventListener('open', updateReadyState);\n    comm.kernel.ws.addEventListener('close', updateReadyState);\n    comm.kernel.ws.addEventListener('error', updateReadyState);\n\n    ws.close = function () {\n        comm.close();\n    };\n    ws.send = function (m) {\n        //console.log('sending', m);\n        comm.send(m);\n    };\n    // Register the callback with on_msg.\n    comm.on_msg(function (msg) {\n        //console.log('receiving', msg['content']['data'], msg);\n        var data = msg['content']['data'];\n        if (data['blob'] !== undefined) {\n            data = {\n                data: new Blob(msg['buffers'], { type: data['blob'] }),\n            };\n        }\n        // Pass the mpl event to the overridden (by mpl) onmessage function.\n        ws.onmessage(data);\n    });\n    return ws;\n};\n\nmpl.mpl_figure_comm = function (comm, msg) {\n    // This is the function which gets called when the mpl process\n    // starts-up an IPython Comm through the \"matplotlib\" channel.\n\n    var id = msg.content.data.id;\n    // Get hold of the div created by the display call when the Comm\n    // socket was opened in Python.\n    var element = document.getElementById(id);\n    var ws_proxy = comm_websocket_adapter(comm);\n\n    function ondownload(figure, _format) {\n        window.open(figure.canvas.toDataURL());\n    }\n\n    var fig = new mpl.figure(id, ws_proxy, ondownload, element);\n\n    // Call onopen now - mpl needs it, as it is assuming we've passed it a real\n    // web socket which is closed, not our websocket->open comm proxy.\n    ws_proxy.onopen();\n\n    fig.parent_element = element;\n    fig.cell_info = mpl.find_output_cell(\"<div id='\" + id + \"'></div>\");\n    if (!fig.cell_info) {\n        console.error('Failed to find cell for figure', id, fig);\n        return;\n    }\n    fig.cell_info[0].output_area.element.on(\n        'cleared',\n        { fig: fig },\n        fig._remove_fig_handler\n    );\n};\n\nmpl.figure.prototype.handle_close = function (fig, msg) {\n    var width = fig.canvas.width / fig.ratio;\n    fig.cell_info[0].output_area.element.off(\n        'cleared',\n        fig._remove_fig_handler\n    );\n    fig.resizeObserverInstance.unobserve(fig.canvas_div);\n\n    // Update the output cell to use the data from the current canvas.\n    fig.push_to_output();\n    var dataURL = fig.canvas.toDataURL();\n    // Re-enable the keyboard manager in IPython - without this line, in FF,\n    // the notebook keyboard shortcuts fail.\n    IPython.keyboard_manager.enable();\n    fig.parent_element.innerHTML =\n        '<img src=\"' + dataURL + '\" width=\"' + width + '\">';\n    fig.close_ws(fig, msg);\n};\n\nmpl.figure.prototype.close_ws = function (fig, msg) {\n    fig.send_message('closing', msg);\n    // fig.ws.close()\n};\n\nmpl.figure.prototype.push_to_output = function (_remove_interactive) {\n    // Turn the data on the canvas into data in the output cell.\n    var width = this.canvas.width / this.ratio;\n    var dataURL = this.canvas.toDataURL();\n    this.cell_info[1]['text/html'] =\n        '<img src=\"' + dataURL + '\" width=\"' + width + '\">';\n};\n\nmpl.figure.prototype.updated_canvas_event = function () {\n    // Tell IPython that the notebook contents must change.\n    IPython.notebook.set_dirty(true);\n    this.send_message('ack', {});\n    var fig = this;\n    // Wait a second, then push the new image to the DOM so\n    // that it is saved nicely (might be nice to debounce this).\n    setTimeout(function () {\n        fig.push_to_output();\n    }, 1000);\n};\n\nmpl.figure.prototype._init_toolbar = function () {\n    var fig = this;\n\n    var toolbar = document.createElement('div');\n    toolbar.classList = 'btn-toolbar';\n    this.root.appendChild(toolbar);\n\n    function on_click_closure(name) {\n        return function (_event) {\n            return fig.toolbar_button_onclick(name);\n        };\n    }\n\n    function on_mouseover_closure(tooltip) {\n        return function (event) {\n            if (!event.currentTarget.disabled) {\n                return fig.toolbar_button_onmouseover(tooltip);\n            }\n        };\n    }\n\n    fig.buttons = {};\n    var buttonGroup = document.createElement('div');\n    buttonGroup.classList = 'btn-group';\n    var button;\n    for (var toolbar_ind in mpl.toolbar_items) {\n        var name = mpl.toolbar_items[toolbar_ind][0];\n        var tooltip = mpl.toolbar_items[toolbar_ind][1];\n        var image = mpl.toolbar_items[toolbar_ind][2];\n        var method_name = mpl.toolbar_items[toolbar_ind][3];\n\n        if (!name) {\n            /* Instead of a spacer, we start a new button group. */\n            if (buttonGroup.hasChildNodes()) {\n                toolbar.appendChild(buttonGroup);\n            }\n            buttonGroup = document.createElement('div');\n            buttonGroup.classList = 'btn-group';\n            continue;\n        }\n\n        button = fig.buttons[name] = document.createElement('button');\n        button.classList = 'btn btn-default';\n        button.href = '#';\n        button.title = name;\n        button.innerHTML = '<i class=\"fa ' + image + ' fa-lg\"></i>';\n        button.addEventListener('click', on_click_closure(method_name));\n        button.addEventListener('mouseover', on_mouseover_closure(tooltip));\n        buttonGroup.appendChild(button);\n    }\n\n    if (buttonGroup.hasChildNodes()) {\n        toolbar.appendChild(buttonGroup);\n    }\n\n    // Add the status bar.\n    var status_bar = document.createElement('span');\n    status_bar.classList = 'mpl-message pull-right';\n    toolbar.appendChild(status_bar);\n    this.message = status_bar;\n\n    // Add the close button to the window.\n    var buttongrp = document.createElement('div');\n    buttongrp.classList = 'btn-group inline pull-right';\n    button = document.createElement('button');\n    button.classList = 'btn btn-mini btn-primary';\n    button.href = '#';\n    button.title = 'Stop Interaction';\n    button.innerHTML = '<i class=\"fa fa-power-off icon-remove icon-large\"></i>';\n    button.addEventListener('click', function (_evt) {\n        fig.handle_close(fig, {});\n    });\n    button.addEventListener(\n        'mouseover',\n        on_mouseover_closure('Stop Interaction')\n    );\n    buttongrp.appendChild(button);\n    var titlebar = this.root.querySelector('.ui-dialog-titlebar');\n    titlebar.insertBefore(buttongrp, titlebar.firstChild);\n};\n\nmpl.figure.prototype._remove_fig_handler = function (event) {\n    var fig = event.data.fig;\n    if (event.target !== this) {\n        // Ignore bubbled events from children.\n        return;\n    }\n    fig.close_ws(fig, {});\n};\n\nmpl.figure.prototype._root_extra_style = function (el) {\n    el.style.boxSizing = 'content-box'; // override notebook setting of border-box.\n};\n\nmpl.figure.prototype._canvas_extra_style = function (el) {\n    // this is important to make the div 'focusable\n    el.setAttribute('tabindex', 0);\n    // reach out to IPython and tell the keyboard manager to turn it's self\n    // off when our div gets focus\n\n    // location in version 3\n    if (IPython.notebook.keyboard_manager) {\n        IPython.notebook.keyboard_manager.register_events(el);\n    } else {\n        // location in version 2\n        IPython.keyboard_manager.register_events(el);\n    }\n};\n\nmpl.figure.prototype._key_event_extra = function (event, _name) {\n    // Check for shift+enter\n    if (event.shiftKey && event.which === 13) {\n        this.canvas_div.blur();\n        // select the cell after this one\n        var index = IPython.notebook.find_cell_index(this.cell_info[0]);\n        IPython.notebook.select(index + 1);\n    }\n};\n\nmpl.figure.prototype.handle_save = function (fig, _msg) {\n    fig.ondownload(fig, null);\n};\n\nmpl.find_output_cell = function (html_output) {\n    // Return the cell and output element which can be found *uniquely* in the notebook.\n    // Note - this is a bit hacky, but it is done because the \"notebook_saving.Notebook\"\n    // IPython event is triggered only after the cells have been serialised, which for\n    // our purposes (turning an active figure into a static one), is too late.\n    var cells = IPython.notebook.get_cells();\n    var ncells = cells.length;\n    for (var i = 0; i < ncells; i++) {\n        var cell = cells[i];\n        if (cell.cell_type === 'code') {\n            for (var j = 0; j < cell.output_area.outputs.length; j++) {\n                var data = cell.output_area.outputs[j];\n                if (data.data) {\n                    // IPython >= 3 moved mimebundle to data attribute of output\n                    data = data.data;\n                }\n                if (data['text/html'] === html_output) {\n                    return [cell, data, j];\n                }\n            }\n        }\n    }\n};\n\n// Register the function which deals with the matplotlib target/channel.\n// The kernel may be null if the page has been refreshed.\nif (IPython.notebook.kernel !== null) {\n    IPython.notebook.kernel.comm_manager.register_target(\n        'matplotlib',\n        mpl.mpl_figure_comm\n    );\n}\n",
            "text/plain": [
              "<IPython.core.display.Javascript object>"
            ]
          },
          "metadata": {},
          "output_type": "display_data"
        },
        {
          "data": {
            "text/html": [
              "<div id='730818dd-9a6d-4c5b-9f1c-f2676eb4a73f'></div>"
            ],
            "text/plain": [
              "<IPython.core.display.HTML object>"
            ]
          },
          "metadata": {},
          "output_type": "display_data"
        }
      ],
      "source": [
        "import matplotlib.pyplot as plt\n",
        "import seaborn as sns\n",
        "from sklearn import metrics\n",
        "from sklearn.metrics import confusion_matrix\n",
        "y_true= y_test\n",
        "y_pred=clf.predict(X_test)\n",
        "cm= confusion_matrix(y_true, y_pred)\n",
        "\n",
        "f, ax =plt.subplots(figsize = (5,5))\n",
        "\n",
        "sns.heatmap(cm,annot = True, linewidths= 0.5, linecolor=\"red\", fmt=\".0f\", ax=ax)\n",
        "plt.xlabel(\"y_pred\")\n",
        "plt.ylabel(\"y_true\")\n",
        "plt.show()"
      ]
    },
    {
      "cell_type": "code",
      "execution_count": null,
      "metadata": {
        "colab": {
          "base_uri": "https://localhost:8080/",
          "height": 121
        },
        "id": "BMtf4d2c3OnB",
        "outputId": "e2c16907-7513-4792-97a1-90990d5373db"
      },
      "outputs": [
        {
          "name": "stdout",
          "output_type": "stream",
          "text": [
            "Accuracy: 0.7662337662337663\n",
            "Precision: nan\n",
            "Recall: 0.0\n",
            "F1-Score: nan\n"
          ]
        },
        {
          "name": "stderr",
          "output_type": "stream",
          "text": [
            "<ipython-input-68-c5b4cce24037>:7: RuntimeWarning: invalid value encountered in scalar divide\n",
            "  precision = tp / (tp + fp)\n"
          ]
        }
      ],
      "source": [
        "tp = cm[0, 0]\n",
        "tn = cm[1, 1]\n",
        "fp = cm[1, 0]\n",
        "fn = cm[0, 1]\n",
        "\n",
        "accuracy = (tp + tn) / (tp + tn + fp + fn)\n",
        "precision = tp / (tp + fp)\n",
        "recall = tp / (tp + fn)\n",
        "f1_score = 2 * (precision * recall) / (precision + recall)\n",
        "\n",
        "print(\"Accuracy:\", accuracy)\n",
        "print(\"Precision:\", precision)\n",
        "print(\"Recall:\", recall)\n",
        "print(\"F1-Score:\", f1_score)"
      ]
    },
    {
      "cell_type": "markdown",
      "metadata": {
        "id": "nUiQ_3pc2Bgk"
      },
      "source": [
        "#SVM - polynomial kernel\n",
        "Using Transformed dataset\n",
        "([Transformed Data](https://github.com/mittrayash/Parkinson-s-Disease-Detection-using-Gait-Analysis/tree/master/Transformed%20Data ))\n",
        "\n",
        "Accuracy: 0.8701298701298701\n",
        "\n",
        "Precision: 0.75\n",
        "\n",
        "Recall: 0.8181818181818182\n",
        "\n",
        "F1-Score: 0.7826086956521738"
      ]
    },
    {
      "cell_type": "code",
      "execution_count": null,
      "metadata": {
        "id": "zfCsRGcH2qYU"
      },
      "outputs": [],
      "source": [
        "Transformed_Co='https://raw.githubusercontent.com/mittrayash/Parkinson-s-Disease-Detection-using-Gait-Analysis/master/Transformed%20Data/Transformed_Co'\n",
        "Transformed_Pt='https://raw.githubusercontent.com/mittrayash/Parkinson-s-Disease-Detection-using-Gait-Analysis/master/Transformed%20Data/Transformed_Pt'\n",
        "\n",
        "df_co = pd.read_csv(Transformed_Co, index_col = 0)\n",
        "df_pt = pd.read_csv(Transformed_Pt , index_col = 0)"
      ]
    },
    {
      "cell_type": "code",
      "execution_count": null,
      "metadata": {
        "id": "HelyPgBv2qQv"
      },
      "outputs": [],
      "source": [
        "df_co_pca= df_co\n",
        "df_pt_pca= df_pt\n",
        "df_co_len = df_co_pca.shape[0]\n",
        "df_pt_len = df_pt_pca.shape[0]\n",
        "df_co_pca = pd.DataFrame(df_co_pca)\n",
        "df_pt_pca = pd.DataFrame(df_pt_pca)\n",
        "X = pd.concat([df_co_pca, df_pt_pca])"
      ]
    },
    {
      "cell_type": "code",
      "execution_count": null,
      "metadata": {
        "colab": {
          "base_uri": "https://localhost:8080/"
        },
        "id": "Y85u6GzV2qLW",
        "outputId": "0692bcd6-a01c-4215-d46e-463ab491f862"
      },
      "outputs": [
        {
          "data": {
            "text/plain": [
              "(92,)"
            ]
          },
          "execution_count": 62,
          "metadata": {},
          "output_type": "execute_result"
        }
      ],
      "source": [
        "y1 = pd.Series([0]*df_co_len)\n",
        "y1.shape"
      ]
    },
    {
      "cell_type": "code",
      "execution_count": null,
      "metadata": {
        "colab": {
          "base_uri": "https://localhost:8080/"
        },
        "id": "CyJPvd8q2qHY",
        "outputId": "b112a73a-fabd-4115-fb26-06a882f565e4"
      },
      "outputs": [
        {
          "data": {
            "text/plain": [
              "(214,)"
            ]
          },
          "execution_count": 63,
          "metadata": {},
          "output_type": "execute_result"
        }
      ],
      "source": [
        "y2 = pd.Series([1]*df_pt_len, index = range(df_co_len-1,(df_co_len + df_pt_len)-1))\n",
        "y2.shape"
      ]
    },
    {
      "cell_type": "code",
      "execution_count": null,
      "metadata": {
        "colab": {
          "base_uri": "https://localhost:8080/"
        },
        "id": "jucAz3iC2qEm",
        "outputId": "ec6b4679-c534-4b9a-ef68-acd354a052d9"
      },
      "outputs": [
        {
          "data": {
            "text/plain": [
              "(306,)"
            ]
          },
          "execution_count": 64,
          "metadata": {},
          "output_type": "execute_result"
        }
      ],
      "source": [
        "y = pd.concat([y1,y2])\n",
        "y.shape"
      ]
    },
    {
      "cell_type": "code",
      "execution_count": null,
      "metadata": {
        "colab": {
          "base_uri": "https://localhost:8080/"
        },
        "id": "a42HSilk2p_a",
        "outputId": "8abecb0d-d5f7-4a44-8b6e-b950098b5e51"
      },
      "outputs": [],
      "source": [
        "c_val = 0\n",
        "score_val = 0\n",
        "min_range = 0\n",
        "max_range = 100\n",
        "state = 0\n",
        "gamma = 0\n",
        "for rand_state in range(min_range, max_range):\n",
        "    X_train, X_test, y_train1, y_test1 = train_test_split(X, y, random_state = rand_state)\n",
        "    y_train = pd.DataFrame(y_train1)\n",
        "    y_test = pd.DataFrame(y_test1)\n",
        "\n",
        "    scaler = MinMaxScaler().fit(X_train)\n",
        "    X_train = scaler.transform(X_train)\n",
        "    X_test = scaler.transform(X_test)\n",
        "\n",
        "\n",
        "    for this_gamma in ([0.1, 1, 5]):\n",
        "\n",
        "        for this_C in ([0.1, 1, 15, 250]):\n",
        "\n",
        "            clf = SVC(kernel = 'poly', gamma = this_gamma, C = this_C).fit(X_train, y_train)\n",
        "            score = clf.score(X_test, np.ravel(y_test))\n",
        "\n",
        "        if score > score_val:\n",
        "            gamma = this_gamma\n",
        "            c_val = this_C\n",
        "            score_val = score\n",
        "            state = rand_state\n",
        "\n",
        "    print('{} out of {} done'.format(rand_state - min_range, max_range - min_range))\n",
        "print(\"C = {}, gamma = {}, Score = {}, Random State = {}\".format(c_val, gamma, score_val, state))"
      ]
    },
    {
      "cell_type": "code",
      "execution_count": null,
      "metadata": {
        "colab": {
          "base_uri": "https://localhost:8080/"
        },
        "id": "DL1RhCOt2p8e",
        "outputId": "f6e61230-1a1c-416c-ed06-ef49621c583e"
      },
      "outputs": [
        {
          "name": "stdout",
          "output_type": "stream",
          "text": [
            "gamma = 0.01, C = 0.10, accuracy = 0.6753246753246753\n",
            "gamma = 0.01, C = 1.00, accuracy = 0.6753246753246753\n",
            "gamma = 0.01, C = 15.00, accuracy = 0.6883116883116883\n",
            "gamma = 0.01, C = 250.00, accuracy = 0.8181818181818182\n",
            "gamma = 1.00, C = 0.10, accuracy = 0.8441558441558441\n",
            "gamma = 1.00, C = 1.00, accuracy = 0.8441558441558441\n",
            "gamma = 1.00, C = 15.00, accuracy = 0.8441558441558441\n",
            "gamma = 1.00, C = 250.00, accuracy = 0.8441558441558441\n",
            "gamma = 5.00, C = 0.10, accuracy = 0.8441558441558441\n",
            "gamma = 5.00, C = 1.00, accuracy = 0.8441558441558441\n",
            "gamma = 5.00, C = 15.00, accuracy = 0.8441558441558441\n",
            "gamma = 5.00, C = 250.00, accuracy = 0.8441558441558441\n"
          ]
        },
        {
          "name": "stderr",
          "output_type": "stream",
          "text": [
            "/usr/local/lib/python3.10/dist-packages/sklearn/utils/validation.py:1143: DataConversionWarning: A column-vector y was passed when a 1d array was expected. Please change the shape of y to (n_samples, ), for example using ravel().\n",
            "  y = column_or_1d(y, warn=True)\n",
            "/usr/local/lib/python3.10/dist-packages/sklearn/utils/validation.py:1143: DataConversionWarning: A column-vector y was passed when a 1d array was expected. Please change the shape of y to (n_samples, ), for example using ravel().\n",
            "  y = column_or_1d(y, warn=True)\n",
            "/usr/local/lib/python3.10/dist-packages/sklearn/utils/validation.py:1143: DataConversionWarning: A column-vector y was passed when a 1d array was expected. Please change the shape of y to (n_samples, ), for example using ravel().\n",
            "  y = column_or_1d(y, warn=True)\n",
            "/usr/local/lib/python3.10/dist-packages/sklearn/utils/validation.py:1143: DataConversionWarning: A column-vector y was passed when a 1d array was expected. Please change the shape of y to (n_samples, ), for example using ravel().\n",
            "  y = column_or_1d(y, warn=True)\n",
            "/usr/local/lib/python3.10/dist-packages/sklearn/utils/validation.py:1143: DataConversionWarning: A column-vector y was passed when a 1d array was expected. Please change the shape of y to (n_samples, ), for example using ravel().\n",
            "  y = column_or_1d(y, warn=True)\n",
            "/usr/local/lib/python3.10/dist-packages/sklearn/utils/validation.py:1143: DataConversionWarning: A column-vector y was passed when a 1d array was expected. Please change the shape of y to (n_samples, ), for example using ravel().\n",
            "  y = column_or_1d(y, warn=True)\n",
            "/usr/local/lib/python3.10/dist-packages/sklearn/utils/validation.py:1143: DataConversionWarning: A column-vector y was passed when a 1d array was expected. Please change the shape of y to (n_samples, ), for example using ravel().\n",
            "  y = column_or_1d(y, warn=True)\n",
            "/usr/local/lib/python3.10/dist-packages/sklearn/utils/validation.py:1143: DataConversionWarning: A column-vector y was passed when a 1d array was expected. Please change the shape of y to (n_samples, ), for example using ravel().\n",
            "  y = column_or_1d(y, warn=True)\n",
            "/usr/local/lib/python3.10/dist-packages/sklearn/utils/validation.py:1143: DataConversionWarning: A column-vector y was passed when a 1d array was expected. Please change the shape of y to (n_samples, ), for example using ravel().\n",
            "  y = column_or_1d(y, warn=True)\n",
            "/usr/local/lib/python3.10/dist-packages/sklearn/utils/validation.py:1143: DataConversionWarning: A column-vector y was passed when a 1d array was expected. Please change the shape of y to (n_samples, ), for example using ravel().\n",
            "  y = column_or_1d(y, warn=True)\n",
            "/usr/local/lib/python3.10/dist-packages/sklearn/utils/validation.py:1143: DataConversionWarning: A column-vector y was passed when a 1d array was expected. Please change the shape of y to (n_samples, ), for example using ravel().\n",
            "  y = column_or_1d(y, warn=True)\n",
            "/usr/local/lib/python3.10/dist-packages/sklearn/utils/validation.py:1143: DataConversionWarning: A column-vector y was passed when a 1d array was expected. Please change the shape of y to (n_samples, ), for example using ravel().\n",
            "  y = column_or_1d(y, warn=True)\n"
          ]
        }
      ],
      "source": [
        "for this_gamma in ([0.01, 1, 5]):\n",
        "\n",
        "    for this_C in ([0.1, 1, 15, 250]):\n",
        "\n",
        "        clf = SVC(kernel = 'poly', gamma = this_gamma, C = this_C).fit(X_train, y_train)\n",
        "        print('gamma = {:.2f}, C = {:.2f}, accuracy = {}'.format(this_gamma, this_C, clf.score(X_test, np.ravel(y_test))))"
      ]
    },
    {
      "cell_type": "code",
      "execution_count": null,
      "metadata": {
        "colab": {
          "base_uri": "https://localhost:8080/",
          "height": 74
        },
        "id": "sMnDGosS2p44",
        "outputId": "82a221ea-109f-4754-9c00-a55ea388b7f0"
      },
      "outputs": [
        {
          "data": {
            "text/html": [
              "<style>#sk-container-id-1 {color: black;background-color: white;}#sk-container-id-1 pre{padding: 0;}#sk-container-id-1 div.sk-toggleable {background-color: white;}#sk-container-id-1 label.sk-toggleable__label {cursor: pointer;display: block;width: 100%;margin-bottom: 0;padding: 0.3em;box-sizing: border-box;text-align: center;}#sk-container-id-1 label.sk-toggleable__label-arrow:before {content: \"▸\";float: left;margin-right: 0.25em;color: #696969;}#sk-container-id-1 label.sk-toggleable__label-arrow:hover:before {color: black;}#sk-container-id-1 div.sk-estimator:hover label.sk-toggleable__label-arrow:before {color: black;}#sk-container-id-1 div.sk-toggleable__content {max-height: 0;max-width: 0;overflow: hidden;text-align: left;background-color: #f0f8ff;}#sk-container-id-1 div.sk-toggleable__content pre {margin: 0.2em;color: black;border-radius: 0.25em;background-color: #f0f8ff;}#sk-container-id-1 input.sk-toggleable__control:checked~div.sk-toggleable__content {max-height: 200px;max-width: 100%;overflow: auto;}#sk-container-id-1 input.sk-toggleable__control:checked~label.sk-toggleable__label-arrow:before {content: \"▾\";}#sk-container-id-1 div.sk-estimator input.sk-toggleable__control:checked~label.sk-toggleable__label {background-color: #d4ebff;}#sk-container-id-1 div.sk-label input.sk-toggleable__control:checked~label.sk-toggleable__label {background-color: #d4ebff;}#sk-container-id-1 input.sk-hidden--visually {border: 0;clip: rect(1px 1px 1px 1px);clip: rect(1px, 1px, 1px, 1px);height: 1px;margin: -1px;overflow: hidden;padding: 0;position: absolute;width: 1px;}#sk-container-id-1 div.sk-estimator {font-family: monospace;background-color: #f0f8ff;border: 1px dotted black;border-radius: 0.25em;box-sizing: border-box;margin-bottom: 0.5em;}#sk-container-id-1 div.sk-estimator:hover {background-color: #d4ebff;}#sk-container-id-1 div.sk-parallel-item::after {content: \"\";width: 100%;border-bottom: 1px solid gray;flex-grow: 1;}#sk-container-id-1 div.sk-label:hover label.sk-toggleable__label {background-color: #d4ebff;}#sk-container-id-1 div.sk-serial::before {content: \"\";position: absolute;border-left: 1px solid gray;box-sizing: border-box;top: 0;bottom: 0;left: 50%;z-index: 0;}#sk-container-id-1 div.sk-serial {display: flex;flex-direction: column;align-items: center;background-color: white;padding-right: 0.2em;padding-left: 0.2em;position: relative;}#sk-container-id-1 div.sk-item {position: relative;z-index: 1;}#sk-container-id-1 div.sk-parallel {display: flex;align-items: stretch;justify-content: center;background-color: white;position: relative;}#sk-container-id-1 div.sk-item::before, #sk-container-id-1 div.sk-parallel-item::before {content: \"\";position: absolute;border-left: 1px solid gray;box-sizing: border-box;top: 0;bottom: 0;left: 50%;z-index: -1;}#sk-container-id-1 div.sk-parallel-item {display: flex;flex-direction: column;z-index: 1;position: relative;background-color: white;}#sk-container-id-1 div.sk-parallel-item:first-child::after {align-self: flex-end;width: 50%;}#sk-container-id-1 div.sk-parallel-item:last-child::after {align-self: flex-start;width: 50%;}#sk-container-id-1 div.sk-parallel-item:only-child::after {width: 0;}#sk-container-id-1 div.sk-dashed-wrapped {border: 1px dashed gray;margin: 0 0.4em 0.5em 0.4em;box-sizing: border-box;padding-bottom: 0.4em;background-color: white;}#sk-container-id-1 div.sk-label label {font-family: monospace;font-weight: bold;display: inline-block;line-height: 1.2em;}#sk-container-id-1 div.sk-label-container {text-align: center;}#sk-container-id-1 div.sk-container {/* jupyter's `normalize.less` sets `[hidden] { display: none; }` but bootstrap.min.css set `[hidden] { display: none !important; }` so we also need the `!important` here to be able to override the default hidden behavior on the sphinx rendered scikit-learn.org. See: https://github.com/scikit-learn/scikit-learn/issues/21755 */display: inline-block !important;position: relative;}#sk-container-id-1 div.sk-text-repr-fallback {display: none;}</style><div id=\"sk-container-id-1\" class=\"sk-top-container\"><div class=\"sk-text-repr-fallback\"><pre>SVC(C=250, gamma=5, kernel=&#x27;poly&#x27;)</pre><b>In a Jupyter environment, please rerun this cell to show the HTML representation or trust the notebook. <br />On GitHub, the HTML representation is unable to render, please try loading this page with nbviewer.org.</b></div><div class=\"sk-container\" hidden><div class=\"sk-item\"><div class=\"sk-estimator sk-toggleable\"><input class=\"sk-toggleable__control sk-hidden--visually\" id=\"sk-estimator-id-1\" type=\"checkbox\" checked><label for=\"sk-estimator-id-1\" class=\"sk-toggleable__label sk-toggleable__label-arrow\">SVC</label><div class=\"sk-toggleable__content\"><pre>SVC(C=250, gamma=5, kernel=&#x27;poly&#x27;)</pre></div></div></div></div></div>"
            ],
            "text/plain": [
              "SVC(C=250, gamma=5, kernel='poly')"
            ]
          },
          "execution_count": 67,
          "metadata": {},
          "output_type": "execute_result"
        }
      ],
      "source": [
        "clf"
      ]
    },
    {
      "cell_type": "code",
      "execution_count": null,
      "metadata": {
        "colab": {
          "base_uri": "https://localhost:8080/"
        },
        "id": "JJwfXkVN2p13",
        "outputId": "512f968f-8720-4632-dc01-74a71fed973c"
      },
      "outputs": [
        {
          "name": "stdout",
          "output_type": "stream",
          "text": [
            "gamma = 5.00, C = 1.00, accuracy = 0.7922077922077922\n",
            "gamma = 5.00, C = 1.00, accuracy = 0.8441558441558441\n",
            "gamma = 5.00, C = 1.00, accuracy = 0.8441558441558441\n",
            "gamma = 5.00, C = 1.00, accuracy = 0.8571428571428571\n"
          ]
        },
        {
          "name": "stderr",
          "output_type": "stream",
          "text": [
            "/usr/local/lib/python3.10/dist-packages/sklearn/utils/validation.py:1143: DataConversionWarning: A column-vector y was passed when a 1d array was expected. Please change the shape of y to (n_samples, ), for example using ravel().\n",
            "  y = column_or_1d(y, warn=True)\n",
            "/usr/local/lib/python3.10/dist-packages/sklearn/utils/validation.py:1143: DataConversionWarning: A column-vector y was passed when a 1d array was expected. Please change the shape of y to (n_samples, ), for example using ravel().\n",
            "  y = column_or_1d(y, warn=True)\n",
            "/usr/local/lib/python3.10/dist-packages/sklearn/utils/validation.py:1143: DataConversionWarning: A column-vector y was passed when a 1d array was expected. Please change the shape of y to (n_samples, ), for example using ravel().\n",
            "  y = column_or_1d(y, warn=True)\n",
            "/usr/local/lib/python3.10/dist-packages/sklearn/utils/validation.py:1143: DataConversionWarning: A column-vector y was passed when a 1d array was expected. Please change the shape of y to (n_samples, ), for example using ravel().\n",
            "  y = column_or_1d(y, warn=True)\n"
          ]
        }
      ],
      "source": [
        "gamma = 5\n",
        "C = 1\n",
        "for d in ([1,2,3,5]):\n",
        "    clf = SVC(kernel = 'poly', gamma = gamma, C = C, degree = d).fit(X_train, y_train)\n",
        "    print('gamma = {:.2f}, C = {:.2f}, accuracy = {}'.format(gamma, C, clf.score(X_test, np.ravel(y_test))))"
      ]
    },
    {
      "cell_type": "code",
      "execution_count": null,
      "metadata": {
        "colab": {
          "base_uri": "https://localhost:8080/"
        },
        "id": "_3DlsFku2pTl",
        "outputId": "898a879e-73ff-4483-ac7e-f0ee10ef9e48"
      },
      "outputs": [
        {
          "name": "stdout",
          "output_type": "stream",
          "text": [
            "0.8778743961352659\n",
            "{'C': 0.1, 'degree': 3, 'gamma': 1}\n"
          ]
        }
      ],
      "source": [
        "from sklearn.metrics import accuracy_score, precision_score, recall_score, f1_score, auc, roc_curve\n",
        "from sklearn.model_selection import GridSearchCV\n",
        "best_score = 0\n",
        "for i in range(10):\n",
        "    X_train, X_test, y_train1, y_test1 = train_test_split(X, y)\n",
        "    y_train = pd.DataFrame(y_train1)\n",
        "    y_test = pd.DataFrame(y_test1)\n",
        "\n",
        "    scaler = MinMaxScaler().fit(X_train)\n",
        "    X_train = scaler.transform(X_train)\n",
        "    X_test = scaler.transform(X_test)\n",
        "\n",
        "    clf = SVC(kernel = 'poly', gamma = 1, C = 1).fit(X_train, np.ravel(y_train))\n",
        "    # print('gamma = {:.2f}, C = {:.2f}, accuracy = {}'.format(this_gamma, this_C, clf.score(X_test, np.ravel(y_test))))\n",
        "    grid_vals = {'C': [0.1, 1, 5, 10, 12, 15, 20, 25, 50, 100, 250], 'gamma': [0.01, 1, 2, 3, 5], 'degree': [2, 3, 4]}\n",
        "    grid_clf = GridSearchCV(clf, param_grid=grid_vals, scoring='accuracy')\n",
        "    grid_clf.fit(X_train, y_train1)\n",
        "    decision_fn_scores = grid_clf.decision_function(X_test)\n",
        "\n",
        "    if best_score < grid_clf.best_score_:\n",
        "        best_score = grid_clf.best_score_\n",
        "        best_params = grid_clf.best_params_\n",
        "        prediction = grid_clf.predict(X_test)\n",
        "        y_score_svm = grid_clf.decision_function(X_test)\n",
        "        fpr_svm, tpr_svm, _ = roc_curve(y_test, y_score_svm)\n",
        "        roc_auc_svm = auc(fpr_svm, tpr_svm)\n",
        "        prec = precision_score(y_test, prediction)\n",
        "        rec = recall_score(y_test, prediction)\n",
        "        f1 = f1_score(y_test, prediction)\n",
        "\n",
        "print(best_score)\n",
        "print(best_params)"
      ]
    },
    {
      "cell_type": "code",
      "execution_count": null,
      "metadata": {
        "colab": {
          "base_uri": "https://localhost:8080/"
        },
        "id": "rZduSTWY3bo_",
        "outputId": "6c890de6-2ba9-4725-fc0e-684bb812a16c"
      },
      "outputs": [
        {
          "name": "stdout",
          "output_type": "stream",
          "text": [
            "Precision: 0.9107\n",
            "Recall: 0.9444\n",
            "F1: 0.9273\n",
            "AUC: 0.9098\n"
          ]
        }
      ],
      "source": [
        "print('Precision: {:.4f}'.format(prec))\n",
        "print('Recall: {:.4f}'.format(rec))\n",
        "print('F1: {:.4f}'.format(f1))\n",
        "print('AUC: {:.4f}'.format(roc_auc_svm))"
      ]
    },
    {
      "cell_type": "code",
      "execution_count": null,
      "metadata": {
        "colab": {
          "base_uri": "https://localhost:8080/",
          "height": 465
        },
        "id": "gfZGhf3n3Xiz",
        "outputId": "f496d589-5b3c-4d27-db28-33fa54768525"
      },
      "outputs": [
        {
          "data": {
            "image/png": "[encoded data removed]",
            "text/plain": [
              "<Figure size 500x500 with 2 Axes>"
            ]
          },
          "metadata": {},
          "output_type": "display_data"
        }
      ],
      "source": [
        "import matplotlib.pyplot as plt\n",
        "import seaborn as sns\n",
        "from sklearn import metrics\n",
        "from sklearn.metrics import confusion_matrix\n",
        "y_true= y_test\n",
        "y_pred=clf.predict(X_test)\n",
        "cm= confusion_matrix(y_true, y_pred)\n",
        "\n",
        "f, ax =plt.subplots(figsize = (5,5))\n",
        "\n",
        "sns.heatmap(cm,annot = True, linewidths= 0.5, linecolor=\"red\", fmt=\".0f\", ax=ax)\n",
        "plt.xlabel(\"y_pred\")\n",
        "plt.ylabel(\"y_true\")\n",
        "plt.show()"
      ]
    },
    {
      "cell_type": "code",
      "execution_count": null,
      "metadata": {
        "colab": {
          "base_uri": "https://localhost:8080/"
        },
        "id": "lJRjsk8L3WLf",
        "outputId": "f0b4c7b9-5d2a-4d97-a34f-18e68fd0db1f"
      },
      "outputs": [
        {
          "name": "stdout",
          "output_type": "stream",
          "text": [
            "Accuracy: 0.8701298701298701\n",
            "Precision: 0.75\n",
            "Recall: 0.8181818181818182\n",
            "F1-Score: 0.7826086956521738\n"
          ]
        }
      ],
      "source": [
        "tp = cm[0, 0]\n",
        "tn = cm[1, 1]\n",
        "fp = cm[1, 0]\n",
        "fn = cm[0, 1]\n",
        "\n",
        "accuracy = (tp + tn) / (tp + tn + fp + fn)\n",
        "precision = tp / (tp + fp)\n",
        "recall = tp / (tp + fn)\n",
        "f1_score = 2 * (precision * recall) / (precision + recall)\n",
        "\n",
        "print(\"Accuracy:\", accuracy)\n",
        "print(\"Precision:\", precision)\n",
        "print(\"Recall:\", recall)\n",
        "print(\"F1-Score:\", f1_score)"
      ]
    },
    {
      "cell_type": "markdown",
      "metadata": {
        "id": "qWj1oqCAWj3F"
      },
      "source": [
        "#Decision Tree\n",
        "Using Transformed dataset\n",
        "([Transformed Data](https://github.com/mittrayash/Parkinson-s-Disease-Detection-using-Gait-Analysis/tree/master/Transformed%20Data ))\n",
        "\n",
        "Accuracy: 0.8441558441558441\n",
        "\n",
        "Precision: 0.8260869565217391\n",
        "\n",
        "Recall: 0.7037037037037037\n",
        "\n",
        "F1-Score: 0.76"
      ]
    },
    {
      "cell_type": "code",
      "execution_count": null,
      "metadata": {
        "id": "J4e9yS6KWj3G"
      },
      "outputs": [],
      "source": [
        "import pandas as pd\n",
        "import numpy as np\n",
        "\n",
        "from sklearn.tree import DecisionTreeClassifier\n",
        "from sklearn.model_selection import train_test_split\n",
        "from sklearn.svm import SVC\n",
        "import matplotlib.pyplot as plt\n",
        "from sklearn.ensemble import RandomForestClassifier\n",
        "from sklearn.metrics import accuracy_score, precision_score, recall_score, f1_score\n",
        "from sklearn.metrics import roc_curve, auc"
      ]
    },
    {
      "cell_type": "code",
      "execution_count": null,
      "metadata": {
        "id": "VVabbEH2Wj3H"
      },
      "outputs": [],
      "source": [
        "Transformed_Co='https://raw.githubusercontent.com/mittrayash/Parkinson-s-Disease-Detection-using-Gait-Analysis/master/Transformed%20Data/Transformed_Co'\n",
        "Transformed_Pt='https://raw.githubusercontent.com/mittrayash/Parkinson-s-Disease-Detection-using-Gait-Analysis/master/Transformed%20Data/Transformed_Pt'\n",
        "\n",
        "df1 = pd.read_csv(Transformed_Co, index_col = 0)\n",
        "df2 = pd.read_csv(Transformed_Pt , index_col = 0)"
      ]
    },
    {
      "cell_type": "code",
      "execution_count": null,
      "metadata": {
        "colab": {
          "base_uri": "https://localhost:8080/"
        },
        "id": "kYR_fuQGWj3H",
        "outputId": "ffaf3b92-227f-4c74-b09e-d678f2190cbf"
      },
      "outputs": [
        {
          "data": {
            "text/plain": [
              "(214, 133, 92, 133)"
            ]
          },
          "execution_count": 75,
          "metadata": {},
          "output_type": "execute_result"
        }
      ],
      "source": [
        "df1_len = df1.shape[0]\n",
        "df2_len = df2.shape[0]\n",
        "df2.shape + df1.shape"
      ]
    },
    {
      "cell_type": "code",
      "execution_count": null,
      "metadata": {
        "id": "dYv6QXMTWj3I"
      },
      "outputs": [],
      "source": [
        "X = pd.concat([df1, df2])"
      ]
    },
    {
      "cell_type": "code",
      "execution_count": null,
      "metadata": {
        "colab": {
          "base_uri": "https://localhost:8080/"
        },
        "id": "uLQFl5tDWj3J",
        "outputId": "78d76fc7-0c64-419b-a37c-c474c473129b"
      },
      "outputs": [
        {
          "data": {
            "text/plain": [
              "(92,)"
            ]
          },
          "execution_count": 77,
          "metadata": {},
          "output_type": "execute_result"
        }
      ],
      "source": [
        "y1 = pd.Series([0]*df1_len)\n",
        "y1.shape"
      ]
    },
    {
      "cell_type": "code",
      "execution_count": null,
      "metadata": {
        "colab": {
          "base_uri": "https://localhost:8080/"
        },
        "id": "omPmtpJ_Wj3J",
        "outputId": "a1451f23-f828-4092-e38a-ce0c8674591e"
      },
      "outputs": [
        {
          "data": {
            "text/plain": [
              "(214,)"
            ]
          },
          "execution_count": 78,
          "metadata": {},
          "output_type": "execute_result"
        }
      ],
      "source": [
        "y2 = pd.Series([1]*df2_len, index = range(df1_len-1,(df1_len + df2_len)-1))\n",
        "y2.shape"
      ]
    },
    {
      "cell_type": "code",
      "execution_count": null,
      "metadata": {
        "colab": {
          "base_uri": "https://localhost:8080/"
        },
        "id": "5dkqb8gQWj3K",
        "outputId": "18cf756e-062b-408d-aadb-27f71cf9d27a"
      },
      "outputs": [
        {
          "data": {
            "text/plain": [
              "(306,)"
            ]
          },
          "execution_count": 79,
          "metadata": {},
          "output_type": "execute_result"
        }
      ],
      "source": [
        "y = pd.concat([y1,y2])\n",
        "y.shape"
      ]
    },
    {
      "cell_type": "code",
      "execution_count": null,
      "metadata": {
        "colab": {
          "base_uri": "https://localhost:8080/"
        },
        "id": "yR2BOu0WWj3L",
        "outputId": "d4f748fa-3a54-4960-f28c-9c5ccb31bb40"
      },
      "outputs": [
        {
          "name": "stdout",
          "output_type": "stream",
          "text": [
            "0 out of 1000 done\n",
            "1 out of 1000 done\n",
            "2 out of 1000 done\n",
            "3 out of 1000 done\n",
            "4 out of 1000 done\n",
            "5 out of 1000 done\n",
            "6 out of 1000 done\n",
            "7 out of 1000 done\n",
            "8 out of 1000 done\n",
            "9 out of 1000 done\n",
            "10 out of 1000 done\n",
            "11 out of 1000 done\n",
            "12 out of 1000 done\n",
            "13 out of 1000 done\n",
            "14 out of 1000 done\n",
            "15 out of 1000 done\n",
            "16 out of 1000 done\n",
            "17 out of 1000 done\n",
            "18 out of 1000 done\n",
            "19 out of 1000 done\n",
            "20 out of 1000 done\n",
            "21 out of 1000 done\n",
            "22 out of 1000 done\n",
            "23 out of 1000 done\n",
            "24 out of 1000 done\n",
            "25 out of 1000 done\n",
            "26 out of 1000 done\n",
            "27 out of 1000 done\n",
            "28 out of 1000 done\n",
            "29 out of 1000 done\n",
            "30 out of 1000 done\n",
            "31 out of 1000 done\n",
            "32 out of 1000 done\n",
            "33 out of 1000 done\n",
            "34 out of 1000 done\n",
            "35 out of 1000 done\n",
            "36 out of 1000 done\n",
            "37 out of 1000 done\n",
            "38 out of 1000 done\n",
            "39 out of 1000 done\n",
            "40 out of 1000 done\n",
            "41 out of 1000 done\n",
            "42 out of 1000 done\n",
            "43 out of 1000 done\n",
            "44 out of 1000 done\n",
            "45 out of 1000 done\n",
            "46 out of 1000 done\n",
            "47 out of 1000 done\n",
            "48 out of 1000 done\n",
            "49 out of 1000 done\n",
            "50 out of 1000 done\n",
            "51 out of 1000 done\n",
            "52 out of 1000 done\n",
            "53 out of 1000 done\n",
            "54 out of 1000 done\n",
            "55 out of 1000 done\n",
            "56 out of 1000 done\n",
            "57 out of 1000 done\n",
            "58 out of 1000 done\n",
            "59 out of 1000 done\n",
            "60 out of 1000 done\n",
            "61 out of 1000 done\n",
            "62 out of 1000 done\n",
            "63 out of 1000 done\n",
            "64 out of 1000 done\n",
            "65 out of 1000 done\n",
            "66 out of 1000 done\n",
            "67 out of 1000 done\n",
            "68 out of 1000 done\n",
            "69 out of 1000 done\n",
            "70 out of 1000 done\n",
            "71 out of 1000 done\n",
            "72 out of 1000 done\n",
            "73 out of 1000 done\n",
            "74 out of 1000 done\n",
            "75 out of 1000 done\n",
            "76 out of 1000 done\n",
            "77 out of 1000 done\n",
            "78 out of 1000 done\n",
            "79 out of 1000 done\n",
            "80 out of 1000 done\n",
            "81 out of 1000 done\n",
            "82 out of 1000 done\n",
            "83 out of 1000 done\n",
            "84 out of 1000 done\n",
            "85 out of 1000 done\n",
            "86 out of 1000 done\n",
            "87 out of 1000 done\n",
            "88 out of 1000 done\n",
            "89 out of 1000 done\n",
            "90 out of 1000 done\n",
            "91 out of 1000 done\n",
            "92 out of 1000 done\n",
            "93 out of 1000 done\n",
            "94 out of 1000 done\n",
            "95 out of 1000 done\n",
            "96 out of 1000 done\n",
            "97 out of 1000 done\n",
            "98 out of 1000 done\n",
            "99 out of 1000 done\n",
            "100 out of 1000 done\n",
            "101 out of 1000 done\n",
            "102 out of 1000 done\n",
            "103 out of 1000 done\n",
            "104 out of 1000 done\n",
            "105 out of 1000 done\n",
            "106 out of 1000 done\n",
            "107 out of 1000 done\n",
            "108 out of 1000 done\n",
            "109 out of 1000 done\n",
            "110 out of 1000 done\n",
            "111 out of 1000 done\n",
            "112 out of 1000 done\n",
            "113 out of 1000 done\n",
            "114 out of 1000 done\n",
            "115 out of 1000 done\n",
            "116 out of 1000 done\n",
            "117 out of 1000 done\n",
            "118 out of 1000 done\n",
            "119 out of 1000 done\n",
            "120 out of 1000 done\n",
            "121 out of 1000 done\n",
            "122 out of 1000 done\n",
            "123 out of 1000 done\n",
            "124 out of 1000 done\n",
            "125 out of 1000 done\n",
            "126 out of 1000 done\n",
            "127 out of 1000 done\n",
            "128 out of 1000 done\n",
            "129 out of 1000 done\n",
            "130 out of 1000 done\n",
            "131 out of 1000 done\n",
            "132 out of 1000 done\n",
            "133 out of 1000 done\n",
            "134 out of 1000 done\n",
            "135 out of 1000 done\n",
            "136 out of 1000 done\n",
            "137 out of 1000 done\n",
            "138 out of 1000 done\n",
            "139 out of 1000 done\n",
            "140 out of 1000 done\n",
            "141 out of 1000 done\n",
            "142 out of 1000 done\n",
            "143 out of 1000 done\n",
            "144 out of 1000 done\n",
            "145 out of 1000 done\n",
            "146 out of 1000 done\n",
            "147 out of 1000 done\n",
            "148 out of 1000 done\n",
            "149 out of 1000 done\n",
            "150 out of 1000 done\n",
            "151 out of 1000 done\n",
            "152 out of 1000 done\n",
            "153 out of 1000 done\n",
            "154 out of 1000 done\n",
            "155 out of 1000 done\n",
            "156 out of 1000 done\n",
            "157 out of 1000 done\n",
            "158 out of 1000 done\n",
            "159 out of 1000 done\n",
            "160 out of 1000 done\n",
            "161 out of 1000 done\n",
            "162 out of 1000 done\n",
            "163 out of 1000 done\n",
            "164 out of 1000 done\n",
            "165 out of 1000 done\n",
            "166 out of 1000 done\n",
            "167 out of 1000 done\n",
            "168 out of 1000 done\n",
            "169 out of 1000 done\n",
            "170 out of 1000 done\n",
            "171 out of 1000 done\n",
            "172 out of 1000 done\n",
            "173 out of 1000 done\n",
            "174 out of 1000 done\n",
            "175 out of 1000 done\n",
            "176 out of 1000 done\n",
            "177 out of 1000 done\n",
            "178 out of 1000 done\n",
            "179 out of 1000 done\n",
            "180 out of 1000 done\n",
            "181 out of 1000 done\n",
            "182 out of 1000 done\n",
            "183 out of 1000 done\n",
            "184 out of 1000 done\n",
            "185 out of 1000 done\n",
            "186 out of 1000 done\n",
            "187 out of 1000 done\n",
            "188 out of 1000 done\n",
            "189 out of 1000 done\n",
            "190 out of 1000 done\n",
            "191 out of 1000 done\n",
            "192 out of 1000 done\n",
            "193 out of 1000 done\n",
            "194 out of 1000 done\n",
            "195 out of 1000 done\n",
            "196 out of 1000 done\n",
            "197 out of 1000 done\n",
            "198 out of 1000 done\n",
            "199 out of 1000 done\n",
            "200 out of 1000 done\n",
            "201 out of 1000 done\n",
            "202 out of 1000 done\n",
            "203 out of 1000 done\n",
            "204 out of 1000 done\n",
            "205 out of 1000 done\n",
            "206 out of 1000 done\n",
            "207 out of 1000 done\n",
            "208 out of 1000 done\n",
            "209 out of 1000 done\n",
            "210 out of 1000 done\n",
            "211 out of 1000 done\n",
            "212 out of 1000 done\n",
            "213 out of 1000 done\n",
            "214 out of 1000 done\n",
            "215 out of 1000 done\n",
            "216 out of 1000 done\n",
            "217 out of 1000 done\n",
            "218 out of 1000 done\n",
            "219 out of 1000 done\n",
            "220 out of 1000 done\n",
            "221 out of 1000 done\n",
            "222 out of 1000 done\n",
            "223 out of 1000 done\n",
            "224 out of 1000 done\n",
            "225 out of 1000 done\n",
            "226 out of 1000 done\n",
            "227 out of 1000 done\n",
            "228 out of 1000 done\n",
            "229 out of 1000 done\n",
            "230 out of 1000 done\n",
            "231 out of 1000 done\n",
            "232 out of 1000 done\n",
            "233 out of 1000 done\n",
            "234 out of 1000 done\n",
            "235 out of 1000 done\n",
            "236 out of 1000 done\n",
            "237 out of 1000 done\n",
            "238 out of 1000 done\n",
            "239 out of 1000 done\n",
            "240 out of 1000 done\n",
            "241 out of 1000 done\n",
            "242 out of 1000 done\n",
            "243 out of 1000 done\n",
            "244 out of 1000 done\n",
            "245 out of 1000 done\n",
            "246 out of 1000 done\n",
            "247 out of 1000 done\n",
            "248 out of 1000 done\n",
            "249 out of 1000 done\n",
            "250 out of 1000 done\n",
            "251 out of 1000 done\n",
            "252 out of 1000 done\n",
            "253 out of 1000 done\n",
            "254 out of 1000 done\n",
            "255 out of 1000 done\n",
            "256 out of 1000 done\n",
            "257 out of 1000 done\n",
            "258 out of 1000 done\n",
            "259 out of 1000 done\n",
            "260 out of 1000 done\n",
            "261 out of 1000 done\n",
            "262 out of 1000 done\n",
            "263 out of 1000 done\n",
            "264 out of 1000 done\n",
            "265 out of 1000 done\n",
            "266 out of 1000 done\n",
            "267 out of 1000 done\n",
            "268 out of 1000 done\n",
            "269 out of 1000 done\n",
            "270 out of 1000 done\n",
            "271 out of 1000 done\n",
            "272 out of 1000 done\n",
            "273 out of 1000 done\n",
            "274 out of 1000 done\n",
            "275 out of 1000 done\n",
            "276 out of 1000 done\n",
            "277 out of 1000 done\n",
            "278 out of 1000 done\n",
            "279 out of 1000 done\n",
            "280 out of 1000 done\n",
            "281 out of 1000 done\n",
            "282 out of 1000 done\n",
            "283 out of 1000 done\n",
            "284 out of 1000 done\n",
            "285 out of 1000 done\n",
            "286 out of 1000 done\n",
            "287 out of 1000 done\n",
            "288 out of 1000 done\n",
            "289 out of 1000 done\n",
            "290 out of 1000 done\n",
            "291 out of 1000 done\n",
            "292 out of 1000 done\n",
            "293 out of 1000 done\n",
            "294 out of 1000 done\n",
            "295 out of 1000 done\n",
            "296 out of 1000 done\n",
            "297 out of 1000 done\n",
            "298 out of 1000 done\n",
            "299 out of 1000 done\n",
            "300 out of 1000 done\n",
            "301 out of 1000 done\n",
            "302 out of 1000 done\n",
            "303 out of 1000 done\n",
            "304 out of 1000 done\n",
            "305 out of 1000 done\n",
            "306 out of 1000 done\n",
            "307 out of 1000 done\n",
            "308 out of 1000 done\n",
            "309 out of 1000 done\n",
            "310 out of 1000 done\n",
            "311 out of 1000 done\n",
            "312 out of 1000 done\n",
            "313 out of 1000 done\n",
            "314 out of 1000 done\n",
            "315 out of 1000 done\n",
            "316 out of 1000 done\n",
            "317 out of 1000 done\n",
            "318 out of 1000 done\n",
            "319 out of 1000 done\n",
            "320 out of 1000 done\n",
            "321 out of 1000 done\n",
            "322 out of 1000 done\n",
            "323 out of 1000 done\n",
            "324 out of 1000 done\n",
            "325 out of 1000 done\n",
            "326 out of 1000 done\n",
            "327 out of 1000 done\n",
            "328 out of 1000 done\n",
            "329 out of 1000 done\n",
            "330 out of 1000 done\n",
            "331 out of 1000 done\n",
            "332 out of 1000 done\n",
            "333 out of 1000 done\n",
            "334 out of 1000 done\n",
            "335 out of 1000 done\n",
            "336 out of 1000 done\n",
            "337 out of 1000 done\n",
            "338 out of 1000 done\n",
            "339 out of 1000 done\n",
            "340 out of 1000 done\n",
            "341 out of 1000 done\n",
            "342 out of 1000 done\n",
            "343 out of 1000 done\n",
            "344 out of 1000 done\n",
            "345 out of 1000 done\n",
            "346 out of 1000 done\n",
            "347 out of 1000 done\n",
            "348 out of 1000 done\n",
            "349 out of 1000 done\n",
            "350 out of 1000 done\n",
            "351 out of 1000 done\n",
            "352 out of 1000 done\n",
            "353 out of 1000 done\n",
            "354 out of 1000 done\n",
            "355 out of 1000 done\n",
            "356 out of 1000 done\n",
            "357 out of 1000 done\n",
            "358 out of 1000 done\n",
            "359 out of 1000 done\n",
            "360 out of 1000 done\n",
            "361 out of 1000 done\n",
            "362 out of 1000 done\n",
            "363 out of 1000 done\n",
            "364 out of 1000 done\n",
            "365 out of 1000 done\n",
            "366 out of 1000 done\n",
            "367 out of 1000 done\n",
            "368 out of 1000 done\n",
            "369 out of 1000 done\n",
            "370 out of 1000 done\n",
            "371 out of 1000 done\n",
            "372 out of 1000 done\n",
            "373 out of 1000 done\n",
            "374 out of 1000 done\n",
            "375 out of 1000 done\n",
            "376 out of 1000 done\n",
            "377 out of 1000 done\n",
            "378 out of 1000 done\n",
            "379 out of 1000 done\n",
            "380 out of 1000 done\n",
            "381 out of 1000 done\n",
            "382 out of 1000 done\n",
            "383 out of 1000 done\n",
            "384 out of 1000 done\n",
            "385 out of 1000 done\n",
            "386 out of 1000 done\n",
            "387 out of 1000 done\n",
            "388 out of 1000 done\n",
            "389 out of 1000 done\n",
            "390 out of 1000 done\n",
            "391 out of 1000 done\n",
            "392 out of 1000 done\n",
            "393 out of 1000 done\n",
            "394 out of 1000 done\n",
            "395 out of 1000 done\n",
            "396 out of 1000 done\n",
            "397 out of 1000 done\n",
            "398 out of 1000 done\n",
            "399 out of 1000 done\n",
            "400 out of 1000 done\n",
            "401 out of 1000 done\n",
            "402 out of 1000 done\n",
            "403 out of 1000 done\n",
            "404 out of 1000 done\n",
            "405 out of 1000 done\n",
            "406 out of 1000 done\n",
            "407 out of 1000 done\n",
            "408 out of 1000 done\n",
            "409 out of 1000 done\n",
            "410 out of 1000 done\n",
            "411 out of 1000 done\n",
            "412 out of 1000 done\n",
            "413 out of 1000 done\n",
            "414 out of 1000 done\n",
            "415 out of 1000 done\n",
            "416 out of 1000 done\n",
            "417 out of 1000 done\n",
            "418 out of 1000 done\n",
            "419 out of 1000 done\n",
            "420 out of 1000 done\n",
            "421 out of 1000 done\n",
            "422 out of 1000 done\n",
            "423 out of 1000 done\n",
            "424 out of 1000 done\n",
            "425 out of 1000 done\n",
            "426 out of 1000 done\n",
            "427 out of 1000 done\n",
            "428 out of 1000 done\n",
            "429 out of 1000 done\n",
            "430 out of 1000 done\n",
            "431 out of 1000 done\n",
            "432 out of 1000 done\n",
            "433 out of 1000 done\n",
            "434 out of 1000 done\n",
            "435 out of 1000 done\n",
            "436 out of 1000 done\n",
            "437 out of 1000 done\n",
            "438 out of 1000 done\n",
            "439 out of 1000 done\n",
            "440 out of 1000 done\n",
            "441 out of 1000 done\n",
            "442 out of 1000 done\n",
            "443 out of 1000 done\n",
            "444 out of 1000 done\n",
            "445 out of 1000 done\n",
            "446 out of 1000 done\n",
            "447 out of 1000 done\n",
            "448 out of 1000 done\n",
            "449 out of 1000 done\n",
            "450 out of 1000 done\n",
            "451 out of 1000 done\n",
            "452 out of 1000 done\n",
            "453 out of 1000 done\n",
            "454 out of 1000 done\n",
            "455 out of 1000 done\n",
            "456 out of 1000 done\n",
            "457 out of 1000 done\n",
            "458 out of 1000 done\n",
            "459 out of 1000 done\n",
            "460 out of 1000 done\n",
            "461 out of 1000 done\n",
            "462 out of 1000 done\n",
            "463 out of 1000 done\n",
            "464 out of 1000 done\n",
            "465 out of 1000 done\n",
            "466 out of 1000 done\n",
            "467 out of 1000 done\n",
            "468 out of 1000 done\n",
            "469 out of 1000 done\n",
            "470 out of 1000 done\n",
            "471 out of 1000 done\n",
            "472 out of 1000 done\n",
            "473 out of 1000 done\n",
            "474 out of 1000 done\n",
            "475 out of 1000 done\n",
            "476 out of 1000 done\n",
            "477 out of 1000 done\n",
            "478 out of 1000 done\n",
            "479 out of 1000 done\n",
            "480 out of 1000 done\n",
            "481 out of 1000 done\n",
            "482 out of 1000 done\n",
            "483 out of 1000 done\n",
            "484 out of 1000 done\n",
            "485 out of 1000 done\n",
            "486 out of 1000 done\n",
            "487 out of 1000 done\n",
            "488 out of 1000 done\n",
            "489 out of 1000 done\n",
            "490 out of 1000 done\n",
            "491 out of 1000 done\n",
            "492 out of 1000 done\n",
            "493 out of 1000 done\n",
            "494 out of 1000 done\n",
            "495 out of 1000 done\n",
            "496 out of 1000 done\n",
            "497 out of 1000 done\n",
            "498 out of 1000 done\n",
            "499 out of 1000 done\n",
            "500 out of 1000 done\n",
            "501 out of 1000 done\n",
            "502 out of 1000 done\n",
            "503 out of 1000 done\n",
            "504 out of 1000 done\n",
            "505 out of 1000 done\n",
            "506 out of 1000 done\n",
            "507 out of 1000 done\n",
            "508 out of 1000 done\n",
            "509 out of 1000 done\n",
            "510 out of 1000 done\n",
            "511 out of 1000 done\n",
            "512 out of 1000 done\n",
            "513 out of 1000 done\n",
            "514 out of 1000 done\n",
            "515 out of 1000 done\n",
            "516 out of 1000 done\n",
            "517 out of 1000 done\n",
            "518 out of 1000 done\n",
            "519 out of 1000 done\n",
            "520 out of 1000 done\n",
            "521 out of 1000 done\n",
            "522 out of 1000 done\n",
            "523 out of 1000 done\n",
            "524 out of 1000 done\n",
            "525 out of 1000 done\n",
            "526 out of 1000 done\n",
            "527 out of 1000 done\n",
            "528 out of 1000 done\n",
            "529 out of 1000 done\n",
            "530 out of 1000 done\n",
            "531 out of 1000 done\n",
            "532 out of 1000 done\n",
            "533 out of 1000 done\n",
            "534 out of 1000 done\n",
            "535 out of 1000 done\n",
            "536 out of 1000 done\n",
            "537 out of 1000 done\n",
            "538 out of 1000 done\n",
            "539 out of 1000 done\n",
            "540 out of 1000 done\n",
            "541 out of 1000 done\n",
            "542 out of 1000 done\n",
            "543 out of 1000 done\n",
            "544 out of 1000 done\n",
            "545 out of 1000 done\n",
            "546 out of 1000 done\n",
            "547 out of 1000 done\n",
            "548 out of 1000 done\n",
            "549 out of 1000 done\n",
            "550 out of 1000 done\n",
            "551 out of 1000 done\n",
            "552 out of 1000 done\n",
            "553 out of 1000 done\n",
            "554 out of 1000 done\n",
            "555 out of 1000 done\n",
            "556 out of 1000 done\n",
            "557 out of 1000 done\n",
            "558 out of 1000 done\n",
            "559 out of 1000 done\n",
            "560 out of 1000 done\n",
            "561 out of 1000 done\n",
            "562 out of 1000 done\n",
            "563 out of 1000 done\n",
            "564 out of 1000 done\n",
            "565 out of 1000 done\n",
            "566 out of 1000 done\n",
            "567 out of 1000 done\n",
            "568 out of 1000 done\n",
            "569 out of 1000 done\n",
            "570 out of 1000 done\n",
            "571 out of 1000 done\n",
            "572 out of 1000 done\n",
            "573 out of 1000 done\n",
            "574 out of 1000 done\n",
            "575 out of 1000 done\n",
            "576 out of 1000 done\n",
            "577 out of 1000 done\n",
            "578 out of 1000 done\n",
            "579 out of 1000 done\n",
            "580 out of 1000 done\n",
            "581 out of 1000 done\n",
            "582 out of 1000 done\n",
            "583 out of 1000 done\n",
            "584 out of 1000 done\n",
            "585 out of 1000 done\n",
            "586 out of 1000 done\n",
            "587 out of 1000 done\n",
            "588 out of 1000 done\n",
            "589 out of 1000 done\n",
            "590 out of 1000 done\n",
            "591 out of 1000 done\n",
            "592 out of 1000 done\n",
            "593 out of 1000 done\n",
            "594 out of 1000 done\n",
            "595 out of 1000 done\n",
            "596 out of 1000 done\n",
            "597 out of 1000 done\n",
            "598 out of 1000 done\n",
            "599 out of 1000 done\n",
            "600 out of 1000 done\n",
            "601 out of 1000 done\n",
            "602 out of 1000 done\n",
            "603 out of 1000 done\n",
            "604 out of 1000 done\n",
            "605 out of 1000 done\n",
            "606 out of 1000 done\n",
            "607 out of 1000 done\n",
            "608 out of 1000 done\n",
            "609 out of 1000 done\n",
            "610 out of 1000 done\n",
            "611 out of 1000 done\n",
            "612 out of 1000 done\n",
            "613 out of 1000 done\n",
            "614 out of 1000 done\n",
            "615 out of 1000 done\n",
            "616 out of 1000 done\n",
            "617 out of 1000 done\n",
            "618 out of 1000 done\n",
            "619 out of 1000 done\n",
            "620 out of 1000 done\n",
            "621 out of 1000 done\n",
            "622 out of 1000 done\n",
            "623 out of 1000 done\n",
            "624 out of 1000 done\n",
            "625 out of 1000 done\n",
            "626 out of 1000 done\n",
            "627 out of 1000 done\n",
            "628 out of 1000 done\n",
            "629 out of 1000 done\n",
            "630 out of 1000 done\n",
            "631 out of 1000 done\n",
            "632 out of 1000 done\n",
            "633 out of 1000 done\n",
            "634 out of 1000 done\n",
            "635 out of 1000 done\n",
            "636 out of 1000 done\n",
            "637 out of 1000 done\n",
            "638 out of 1000 done\n",
            "639 out of 1000 done\n",
            "640 out of 1000 done\n",
            "641 out of 1000 done\n",
            "642 out of 1000 done\n",
            "643 out of 1000 done\n",
            "644 out of 1000 done\n",
            "645 out of 1000 done\n",
            "646 out of 1000 done\n",
            "647 out of 1000 done\n",
            "648 out of 1000 done\n",
            "649 out of 1000 done\n",
            "650 out of 1000 done\n",
            "651 out of 1000 done\n",
            "652 out of 1000 done\n",
            "653 out of 1000 done\n",
            "654 out of 1000 done\n",
            "655 out of 1000 done\n",
            "656 out of 1000 done\n",
            "657 out of 1000 done\n",
            "658 out of 1000 done\n",
            "659 out of 1000 done\n",
            "660 out of 1000 done\n",
            "661 out of 1000 done\n",
            "662 out of 1000 done\n",
            "663 out of 1000 done\n",
            "664 out of 1000 done\n",
            "665 out of 1000 done\n",
            "666 out of 1000 done\n",
            "667 out of 1000 done\n",
            "668 out of 1000 done\n",
            "669 out of 1000 done\n",
            "670 out of 1000 done\n",
            "671 out of 1000 done\n",
            "672 out of 1000 done\n",
            "673 out of 1000 done\n",
            "674 out of 1000 done\n",
            "675 out of 1000 done\n",
            "676 out of 1000 done\n",
            "677 out of 1000 done\n",
            "678 out of 1000 done\n",
            "679 out of 1000 done\n",
            "680 out of 1000 done\n",
            "681 out of 1000 done\n",
            "682 out of 1000 done\n",
            "683 out of 1000 done\n",
            "684 out of 1000 done\n",
            "685 out of 1000 done\n",
            "686 out of 1000 done\n",
            "687 out of 1000 done\n",
            "688 out of 1000 done\n",
            "689 out of 1000 done\n",
            "690 out of 1000 done\n",
            "691 out of 1000 done\n",
            "692 out of 1000 done\n",
            "693 out of 1000 done\n",
            "694 out of 1000 done\n",
            "695 out of 1000 done\n",
            "696 out of 1000 done\n",
            "697 out of 1000 done\n",
            "698 out of 1000 done\n",
            "699 out of 1000 done\n",
            "700 out of 1000 done\n",
            "701 out of 1000 done\n",
            "702 out of 1000 done\n",
            "703 out of 1000 done\n",
            "704 out of 1000 done\n",
            "705 out of 1000 done\n",
            "706 out of 1000 done\n",
            "707 out of 1000 done\n",
            "708 out of 1000 done\n",
            "709 out of 1000 done\n",
            "710 out of 1000 done\n",
            "711 out of 1000 done\n",
            "712 out of 1000 done\n",
            "713 out of 1000 done\n",
            "714 out of 1000 done\n",
            "715 out of 1000 done\n",
            "716 out of 1000 done\n",
            "717 out of 1000 done\n",
            "718 out of 1000 done\n",
            "719 out of 1000 done\n",
            "720 out of 1000 done\n",
            "721 out of 1000 done\n",
            "722 out of 1000 done\n",
            "723 out of 1000 done\n",
            "724 out of 1000 done\n",
            "725 out of 1000 done\n",
            "726 out of 1000 done\n",
            "727 out of 1000 done\n",
            "728 out of 1000 done\n",
            "729 out of 1000 done\n",
            "730 out of 1000 done\n",
            "731 out of 1000 done\n",
            "732 out of 1000 done\n",
            "733 out of 1000 done\n",
            "734 out of 1000 done\n",
            "735 out of 1000 done\n",
            "736 out of 1000 done\n",
            "737 out of 1000 done\n",
            "738 out of 1000 done\n",
            "739 out of 1000 done\n",
            "740 out of 1000 done\n",
            "741 out of 1000 done\n",
            "742 out of 1000 done\n",
            "743 out of 1000 done\n",
            "744 out of 1000 done\n",
            "745 out of 1000 done\n",
            "746 out of 1000 done\n",
            "747 out of 1000 done\n",
            "748 out of 1000 done\n",
            "749 out of 1000 done\n",
            "750 out of 1000 done\n",
            "751 out of 1000 done\n",
            "752 out of 1000 done\n",
            "753 out of 1000 done\n",
            "754 out of 1000 done\n",
            "755 out of 1000 done\n",
            "756 out of 1000 done\n",
            "757 out of 1000 done\n",
            "758 out of 1000 done\n",
            "759 out of 1000 done\n",
            "760 out of 1000 done\n",
            "761 out of 1000 done\n",
            "762 out of 1000 done\n",
            "763 out of 1000 done\n",
            "764 out of 1000 done\n",
            "765 out of 1000 done\n",
            "766 out of 1000 done\n",
            "767 out of 1000 done\n",
            "768 out of 1000 done\n",
            "769 out of 1000 done\n",
            "770 out of 1000 done\n",
            "771 out of 1000 done\n",
            "772 out of 1000 done\n",
            "773 out of 1000 done\n",
            "774 out of 1000 done\n",
            "775 out of 1000 done\n",
            "776 out of 1000 done\n",
            "777 out of 1000 done\n",
            "778 out of 1000 done\n",
            "779 out of 1000 done\n",
            "780 out of 1000 done\n",
            "781 out of 1000 done\n",
            "782 out of 1000 done\n",
            "783 out of 1000 done\n",
            "784 out of 1000 done\n",
            "785 out of 1000 done\n",
            "786 out of 1000 done\n",
            "787 out of 1000 done\n",
            "788 out of 1000 done\n",
            "789 out of 1000 done\n",
            "790 out of 1000 done\n",
            "791 out of 1000 done\n",
            "792 out of 1000 done\n",
            "793 out of 1000 done\n",
            "794 out of 1000 done\n",
            "795 out of 1000 done\n",
            "796 out of 1000 done\n",
            "797 out of 1000 done\n",
            "798 out of 1000 done\n",
            "799 out of 1000 done\n",
            "800 out of 1000 done\n",
            "801 out of 1000 done\n",
            "802 out of 1000 done\n",
            "803 out of 1000 done\n",
            "804 out of 1000 done\n",
            "805 out of 1000 done\n",
            "806 out of 1000 done\n",
            "807 out of 1000 done\n",
            "808 out of 1000 done\n",
            "809 out of 1000 done\n",
            "810 out of 1000 done\n",
            "811 out of 1000 done\n",
            "812 out of 1000 done\n",
            "813 out of 1000 done\n",
            "814 out of 1000 done\n",
            "815 out of 1000 done\n",
            "816 out of 1000 done\n",
            "817 out of 1000 done\n",
            "818 out of 1000 done\n",
            "819 out of 1000 done\n",
            "820 out of 1000 done\n",
            "821 out of 1000 done\n",
            "822 out of 1000 done\n",
            "823 out of 1000 done\n",
            "824 out of 1000 done\n",
            "825 out of 1000 done\n",
            "826 out of 1000 done\n",
            "827 out of 1000 done\n",
            "828 out of 1000 done\n",
            "829 out of 1000 done\n",
            "830 out of 1000 done\n",
            "831 out of 1000 done\n",
            "832 out of 1000 done\n",
            "833 out of 1000 done\n",
            "834 out of 1000 done\n",
            "835 out of 1000 done\n",
            "836 out of 1000 done\n",
            "837 out of 1000 done\n",
            "838 out of 1000 done\n",
            "839 out of 1000 done\n",
            "840 out of 1000 done\n",
            "841 out of 1000 done\n",
            "842 out of 1000 done\n",
            "843 out of 1000 done\n",
            "844 out of 1000 done\n",
            "845 out of 1000 done\n",
            "846 out of 1000 done\n",
            "847 out of 1000 done\n",
            "848 out of 1000 done\n",
            "849 out of 1000 done\n",
            "850 out of 1000 done\n",
            "851 out of 1000 done\n",
            "852 out of 1000 done\n",
            "853 out of 1000 done\n",
            "854 out of 1000 done\n",
            "855 out of 1000 done\n",
            "856 out of 1000 done\n",
            "857 out of 1000 done\n",
            "858 out of 1000 done\n",
            "859 out of 1000 done\n",
            "860 out of 1000 done\n",
            "861 out of 1000 done\n",
            "862 out of 1000 done\n",
            "863 out of 1000 done\n",
            "864 out of 1000 done\n",
            "865 out of 1000 done\n",
            "866 out of 1000 done\n",
            "867 out of 1000 done\n",
            "868 out of 1000 done\n",
            "869 out of 1000 done\n",
            "870 out of 1000 done\n",
            "871 out of 1000 done\n",
            "872 out of 1000 done\n",
            "873 out of 1000 done\n",
            "874 out of 1000 done\n",
            "875 out of 1000 done\n",
            "876 out of 1000 done\n",
            "877 out of 1000 done\n",
            "878 out of 1000 done\n",
            "879 out of 1000 done\n",
            "880 out of 1000 done\n",
            "881 out of 1000 done\n",
            "882 out of 1000 done\n",
            "883 out of 1000 done\n",
            "884 out of 1000 done\n",
            "885 out of 1000 done\n",
            "886 out of 1000 done\n",
            "887 out of 1000 done\n",
            "888 out of 1000 done\n",
            "889 out of 1000 done\n",
            "890 out of 1000 done\n",
            "891 out of 1000 done\n",
            "892 out of 1000 done\n",
            "893 out of 1000 done\n",
            "894 out of 1000 done\n",
            "895 out of 1000 done\n",
            "896 out of 1000 done\n",
            "897 out of 1000 done\n",
            "898 out of 1000 done\n",
            "899 out of 1000 done\n",
            "900 out of 1000 done\n",
            "901 out of 1000 done\n",
            "902 out of 1000 done\n",
            "903 out of 1000 done\n",
            "904 out of 1000 done\n",
            "905 out of 1000 done\n",
            "906 out of 1000 done\n",
            "907 out of 1000 done\n",
            "908 out of 1000 done\n",
            "909 out of 1000 done\n",
            "910 out of 1000 done\n",
            "911 out of 1000 done\n",
            "912 out of 1000 done\n",
            "913 out of 1000 done\n",
            "914 out of 1000 done\n",
            "915 out of 1000 done\n",
            "916 out of 1000 done\n",
            "917 out of 1000 done\n",
            "918 out of 1000 done\n",
            "919 out of 1000 done\n",
            "920 out of 1000 done\n",
            "921 out of 1000 done\n",
            "922 out of 1000 done\n",
            "923 out of 1000 done\n",
            "924 out of 1000 done\n",
            "925 out of 1000 done\n",
            "926 out of 1000 done\n",
            "927 out of 1000 done\n",
            "928 out of 1000 done\n",
            "929 out of 1000 done\n",
            "930 out of 1000 done\n",
            "931 out of 1000 done\n",
            "932 out of 1000 done\n",
            "933 out of 1000 done\n",
            "934 out of 1000 done\n",
            "935 out of 1000 done\n",
            "936 out of 1000 done\n",
            "937 out of 1000 done\n",
            "938 out of 1000 done\n",
            "939 out of 1000 done\n",
            "940 out of 1000 done\n",
            "941 out of 1000 done\n",
            "942 out of 1000 done\n",
            "943 out of 1000 done\n",
            "944 out of 1000 done\n",
            "945 out of 1000 done\n",
            "946 out of 1000 done\n",
            "947 out of 1000 done\n",
            "948 out of 1000 done\n",
            "949 out of 1000 done\n",
            "950 out of 1000 done\n",
            "951 out of 1000 done\n",
            "952 out of 1000 done\n",
            "953 out of 1000 done\n",
            "954 out of 1000 done\n",
            "955 out of 1000 done\n",
            "956 out of 1000 done\n",
            "957 out of 1000 done\n",
            "958 out of 1000 done\n",
            "959 out of 1000 done\n",
            "960 out of 1000 done\n",
            "961 out of 1000 done\n",
            "962 out of 1000 done\n",
            "963 out of 1000 done\n",
            "964 out of 1000 done\n",
            "965 out of 1000 done\n",
            "966 out of 1000 done\n",
            "967 out of 1000 done\n",
            "968 out of 1000 done\n",
            "969 out of 1000 done\n",
            "970 out of 1000 done\n",
            "971 out of 1000 done\n",
            "972 out of 1000 done\n",
            "973 out of 1000 done\n",
            "974 out of 1000 done\n",
            "975 out of 1000 done\n",
            "976 out of 1000 done\n",
            "977 out of 1000 done\n",
            "978 out of 1000 done\n",
            "979 out of 1000 done\n",
            "980 out of 1000 done\n",
            "981 out of 1000 done\n",
            "982 out of 1000 done\n",
            "983 out of 1000 done\n",
            "984 out of 1000 done\n",
            "985 out of 1000 done\n",
            "986 out of 1000 done\n",
            "987 out of 1000 done\n",
            "988 out of 1000 done\n",
            "989 out of 1000 done\n",
            "990 out of 1000 done\n",
            "991 out of 1000 done\n",
            "992 out of 1000 done\n",
            "993 out of 1000 done\n",
            "994 out of 1000 done\n",
            "995 out of 1000 done\n",
            "996 out of 1000 done\n",
            "997 out of 1000 done\n",
            "998 out of 1000 done\n",
            "999 out of 1000 done\n",
            "Max-Depth = 10, Score = 0.948051948051948, Random State = 388\n"
          ]
        }
      ],
      "source": [
        "max_dep = 0\n",
        "score_val = 0\n",
        "min_range = 0\n",
        "max_range = 1000\n",
        "state = 0\n",
        "\n",
        "for rand_state in range(min_range, max_range):\n",
        "    X_train, X_test, y_train1, y_test1 = train_test_split(X, y, random_state = rand_state)\n",
        "    y_train = pd.DataFrame(y_train1)\n",
        "    y_test = pd.DataFrame(y_test1)\n",
        "\n",
        "    \"\"\"scaler = MinMaxScaler().fit(X_train)\n",
        "    X_train = scaler.transform(X_train)\n",
        "    X_test = scaler.transform(X_test)\"\"\"\n",
        "\n",
        "    for dep in range(2, 15):\n",
        "        clf = DecisionTreeClassifier(max_depth = dep).fit(X_train, y_train)\n",
        "        score = clf.score(X_test, np.ravel(y_test))\n",
        "\n",
        "        if score > score_val:\n",
        "            max_dep = dep\n",
        "            score_val = score\n",
        "            state = rand_state\n",
        "\n",
        "    print('{} out of {} done'.format(rand_state - min_range, max_range - min_range))\n",
        "print(\"Max-Depth = {}, Score = {}, Random State = {}\".format(max_dep, score_val, state))"
      ]
    },
    {
      "cell_type": "code",
      "execution_count": null,
      "metadata": {
        "colab": {
          "base_uri": "https://localhost:8080/"
        },
        "id": "T1Ma1mn2Wj3M",
        "outputId": "bc09748f-5c59-46c4-a732-820325f017eb"
      },
      "outputs": [
        {
          "name": "stdout",
          "output_type": "stream",
          "text": [
            "Accuracy of Decision Tree classifier on training set: 1.00\n",
            "Accuracy of Decision Tree classifier on test set: 0.58\n"
          ]
        }
      ],
      "source": [
        "X_train, X_test, y_train1, y_test1 = train_test_split(X, y)\n",
        "clf = DecisionTreeClassifier(max_depth = 20).fit(X_train, y_train)\n",
        "\n",
        "print('Accuracy of Decision Tree classifier on training set: {:.2f}'\n",
        "     .format(clf.score(X_train, y_train)))\n",
        "print('Accuracy of Decision Tree classifier on test set: {:.2f}'\n",
        "     .format(clf.score(X_test, y_test)))"
      ]
    },
    {
      "cell_type": "code",
      "execution_count": null,
      "metadata": {
        "colab": {
          "base_uri": "https://localhost:8080/"
        },
        "id": "so25QdvgWj3M",
        "outputId": "1a2f4661-8c13-4e9a-d7c0-9bd52ad3b8f6"
      },
      "outputs": [
        {
          "name": "stdout",
          "output_type": "stream",
          "text": [
            "0.08919089478453002\n"
          ]
        },
        {
          "data": {
            "text/plain": [
              "22"
            ]
          },
          "execution_count": 82,
          "metadata": {},
          "output_type": "execute_result"
        }
      ],
      "source": [
        "fi = clf.feature_importances_\n",
        "print(np.max(fi))\n",
        "np.argmax(fi)"
      ]
    },
    {
      "cell_type": "code",
      "execution_count": null,
      "metadata": {
        "colab": {
          "base_uri": "https://localhost:8080/"
        },
        "id": "xdT9XFDZWj3N",
        "outputId": "3ff3a96a-49f3-4c5c-9caf-a7388f9328cc"
      },
      "outputs": [
        {
          "name": "stdout",
          "output_type": "stream",
          "text": [
            "[\n",
            "'Time(sec)Min',\n",
            "'Time(sec)Max',\n",
            "'Time(sec)Std',\n",
            "'Time(sec)Med',\n",
            "'Time(sec)Avg',\n",
            "'Time(sec)Skewness',\n",
            "'Time(sec)Kurtosis',\n",
            "'VGRF_left_s1Min',\n",
            "'VGRF_left_s1Max',\n",
            "'VGRF_left_s1Std',\n",
            "'VGRF_left_s1Med',\n",
            "'VGRF_left_s1Avg',\n",
            "'VGRF_left_s1Skewness',\n",
            "'VGRF_left_s1Kurtosis',\n",
            "'VGRF_left_s2Min',\n",
            "'VGRF_left_s2Max',\n",
            "'VGRF_left_s2Std',\n",
            "'VGRF_left_s2Med',\n",
            "'VGRF_left_s2Avg',\n",
            "'VGRF_left_s2Skewness',\n",
            "'VGRF_left_s2Kurtosis',\n",
            "'VGRF_left_s3Min',\n",
            "'VGRF_left_s3Max',\n",
            "'VGRF_left_s3Std',\n",
            "'VGRF_left_s3Med',\n",
            "'VGRF_left_s3Avg',\n",
            "'VGRF_left_s3Skewness',\n",
            "'VGRF_left_s3Kurtosis',\n",
            "'VGRF_left_s4Min',\n",
            "'VGRF_left_s4Max',\n",
            "'VGRF_left_s4Std',\n",
            "'VGRF_left_s4Med',\n",
            "'VGRF_left_s4Avg',\n",
            "'VGRF_left_s4Skewness',\n",
            "'VGRF_left_s4Kurtosis',\n",
            "'VGRF_left_s5Min',\n",
            "'VGRF_left_s5Max',\n",
            "'VGRF_left_s5Std',\n",
            "'VGRF_left_s5Med',\n",
            "'VGRF_left_s5Avg',\n",
            "'VGRF_left_s5Skewness',\n",
            "'VGRF_left_s5Kurtosis',\n",
            "'VGRF_left_s6Min',\n",
            "'VGRF_left_s6Max',\n",
            "'VGRF_left_s6Std',\n",
            "'VGRF_left_s6Med',\n",
            "'VGRF_left_s6Avg',\n",
            "'VGRF_left_s6Skewness',\n",
            "'VGRF_left_s6Kurtosis',\n",
            "'VGRF_left_s7Min',\n",
            "'VGRF_left_s7Max',\n",
            "'VGRF_left_s7Std',\n",
            "'VGRF_left_s7Med',\n",
            "'VGRF_left_s7Avg',\n",
            "'VGRF_left_s7Skewness',\n",
            "'VGRF_left_s7Kurtosis',\n",
            "'VGRF_left_s8Min',\n",
            "'VGRF_left_s8Max',\n",
            "'VGRF_left_s8Std',\n",
            "'VGRF_left_s8Med',\n",
            "'VGRF_left_s8Avg',\n",
            "'VGRF_left_s8Skewness',\n",
            "'VGRF_left_s8Kurtosis',\n",
            "'VGRF_right_s1Min',\n",
            "'VGRF_right_s1Max',\n",
            "'VGRF_right_s1Std',\n",
            "'VGRF_right_s1Med',\n",
            "'VGRF_right_s1Avg',\n",
            "'VGRF_right_s1Skewness',\n",
            "'VGRF_right_s1Kurtosis',\n",
            "'VGRF_right_s2Min',\n",
            "'VGRF_right_s2Max',\n",
            "'VGRF_right_s2Std',\n",
            "'VGRF_right_s2Med',\n",
            "'VGRF_right_s2Avg',\n",
            "'VGRF_right_s2Skewness',\n",
            "'VGRF_right_s2Kurtosis',\n",
            "'VGRF_right_s3Min',\n",
            "'VGRF_right_s3Max',\n",
            "'VGRF_right_s3Std',\n",
            "'VGRF_right_s3Med',\n",
            "'VGRF_right_s3Avg',\n",
            "'VGRF_right_s3Skewness',\n",
            "'VGRF_right_s3Kurtosis',\n",
            "'VGRF_right_s4Min',\n",
            "'VGRF_right_s4Max',\n",
            "'VGRF_right_s4Std',\n",
            "'VGRF_right_s4Med',\n",
            "'VGRF_right_s4Avg',\n",
            "'VGRF_right_s4Skewness',\n",
            "'VGRF_right_s4Kurtosis',\n",
            "'VGRF_right_s5Min',\n",
            "'VGRF_right_s5Max',\n",
            "'VGRF_right_s5Std',\n",
            "'VGRF_right_s5Med',\n",
            "'VGRF_right_s5Avg',\n",
            "'VGRF_right_s5Skewness',\n",
            "'VGRF_right_s5Kurtosis',\n",
            "'VGRF_right_s6Min',\n",
            "'VGRF_right_s6Max',\n",
            "'VGRF_right_s6Std',\n",
            "'VGRF_right_s6Med',\n",
            "'VGRF_right_s6Avg',\n",
            "'VGRF_right_s6Skewness',\n",
            "'VGRF_right_s6Kurtosis',\n",
            "'VGRF_right_s7Min',\n",
            "'VGRF_right_s7Max',\n",
            "'VGRF_right_s7Std',\n",
            "'VGRF_right_s7Med',\n",
            "'VGRF_right_s7Avg',\n",
            "'VGRF_right_s7Skewness',\n",
            "'VGRF_right_s7Kurtosis',\n",
            "'VGRF_right_s8Min',\n",
            "'VGRF_right_s8Max',\n",
            "'VGRF_right_s8Std',\n",
            "'VGRF_right_s8Med',\n",
            "'VGRF_right_s8Avg',\n",
            "'VGRF_right_s8Skewness',\n",
            "'VGRF_right_s8Kurtosis',\n",
            "'Total_force_leftMin',\n",
            "'Total_force_leftMax',\n",
            "'Total_force_leftStd',\n",
            "'Total_force_leftMed',\n",
            "'Total_force_leftAvg',\n",
            "'Total_force_leftSkewness',\n",
            "'Total_force_leftKurtosis',\n",
            "'Total_force_rightMin',\n",
            "'Total_force_rightMax',\n",
            "'Total_force_rightStd',\n",
            "'Total_force_rightMed',\n",
            "'Total_force_rightAvg',\n",
            "'Total_force_rightSkewness',\n",
            "'Total_force_rightKurtosis'\n",
            "]\n"
          ]
        }
      ],
      "source": [
        "print('[')\n",
        "for zx in X.columns:\n",
        "\n",
        "\n",
        "    if zx == 'Total_force_rightKurtosis':\n",
        "        print(\"'{}'\".format(zx))\n",
        "    else:\n",
        "        print(\"'{}',\".format(zx))\n",
        "print(']')"
      ]
    },
    {
      "cell_type": "code",
      "execution_count": null,
      "metadata": {
        "id": "8_JarPSjWj3O"
      },
      "outputs": [],
      "source": [
        "def plot_feature_importances(clf, feature_names):\n",
        "    c_features = len(feature_names)\n",
        "    plt.barh(range(c_features), clf.feature_importances_)\n",
        "    plt.xlabel(\"Feature importance\")\n",
        "    plt.ylabel(\"Feature name\")\n",
        "    plt.yticks(np.arange(c_features), feature_names)\n"
      ]
    },
    {
      "cell_type": "code",
      "execution_count": null,
      "metadata": {
        "id": "UyXN4MUTWj3P"
      },
      "outputs": [],
      "source": [
        "zx = [\n",
        "'Time(sec)Min',\n",
        "'Time(sec)Max',\n",
        "'Time(sec)Std',\n",
        "'Time(sec)Med',\n",
        "'Time(sec)Avg',\n",
        "'Time(sec)Skewness',\n",
        "'Time(sec)Kurtosis',\n",
        "'VGRF_left_s1Min',\n",
        "'VGRF_left_s1Max',\n",
        "'VGRF_left_s1Std',\n",
        "'VGRF_left_s1Med',\n",
        "'VGRF_left_s1Avg',\n",
        "'VGRF_left_s1Skewness',\n",
        "'VGRF_left_s1Kurtosis',\n",
        "'VGRF_left_s2Min',\n",
        "'VGRF_left_s2Max',\n",
        "'VGRF_left_s2Std',\n",
        "'VGRF_left_s2Med',\n",
        "'VGRF_left_s2Avg',\n",
        "'VGRF_left_s2Skewness',\n",
        "'VGRF_left_s2Kurtosis',\n",
        "'VGRF_left_s3Min',\n",
        "'VGRF_left_s3Max',\n",
        "'VGRF_left_s3Std',\n",
        "'VGRF_left_s3Med',\n",
        "'VGRF_left_s3Avg',\n",
        "'VGRF_left_s3Skewness',\n",
        "'VGRF_left_s3Kurtosis',\n",
        "'VGRF_left_s4Min',\n",
        "'VGRF_left_s4Max',\n",
        "'VGRF_left_s4Std',\n",
        "'VGRF_left_s4Med',\n",
        "'VGRF_left_s4Avg',\n",
        "'VGRF_left_s4Skewness',\n",
        "'VGRF_left_s4Kurtosis',\n",
        "'VGRF_left_s5Min',\n",
        "'VGRF_left_s5Max',\n",
        "'VGRF_left_s5Std',\n",
        "'VGRF_left_s5Med',\n",
        "'VGRF_left_s5Avg',\n",
        "'VGRF_left_s5Skewness',\n",
        "'VGRF_left_s5Kurtosis',\n",
        "'VGRF_left_s6Min',\n",
        "'VGRF_left_s6Max',\n",
        "'VGRF_left_s6Std',\n",
        "'VGRF_left_s6Med',\n",
        "'VGRF_left_s6Avg',\n",
        "'VGRF_left_s6Skewness',\n",
        "'VGRF_left_s6Kurtosis',\n",
        "'VGRF_left_s7Min',\n",
        "'VGRF_left_s7Max',\n",
        "'VGRF_left_s7Std',\n",
        "'VGRF_left_s7Med',\n",
        "'VGRF_left_s7Avg',\n",
        "'VGRF_left_s7Skewness',\n",
        "'VGRF_left_s7Kurtosis',\n",
        "'VGRF_left_s8Min',\n",
        "'VGRF_left_s8Max',\n",
        "'VGRF_left_s8Std',\n",
        "'VGRF_left_s8Med',\n",
        "'VGRF_left_s8Avg',\n",
        "'VGRF_left_s8Skewness',\n",
        "'VGRF_left_s8Kurtosis',\n",
        "'VGRF_right_s1Min',\n",
        "'VGRF_right_s1Max',\n",
        "'VGRF_right_s1Std',\n",
        "'VGRF_right_s1Med',\n",
        "'VGRF_right_s1Avg',\n",
        "'VGRF_right_s1Skewness',\n",
        "'VGRF_right_s1Kurtosis',\n",
        "'VGRF_right_s2Min',\n",
        "'VGRF_right_s2Max',\n",
        "'VGRF_right_s2Std',\n",
        "'VGRF_right_s2Med',\n",
        "'VGRF_right_s2Avg',\n",
        "'VGRF_right_s2Skewness',\n",
        "'VGRF_right_s2Kurtosis',\n",
        "'VGRF_right_s3Min',\n",
        "'VGRF_right_s3Max',\n",
        "'VGRF_right_s3Std',\n",
        "'VGRF_right_s3Med',\n",
        "'VGRF_right_s3Avg',\n",
        "'VGRF_right_s3Skewness',\n",
        "'VGRF_right_s3Kurtosis',\n",
        "'VGRF_right_s4Min',\n",
        "'VGRF_right_s4Max',\n",
        "'VGRF_right_s4Std',\n",
        "'VGRF_right_s4Med',\n",
        "'VGRF_right_s4Avg',\n",
        "'VGRF_right_s4Skewness',\n",
        "'VGRF_right_s4Kurtosis',\n",
        "'VGRF_right_s5Min',\n",
        "'VGRF_right_s5Max',\n",
        "'VGRF_right_s5Std',\n",
        "'VGRF_right_s5Med',\n",
        "'VGRF_right_s5Avg',\n",
        "'VGRF_right_s5Skewness',\n",
        "'VGRF_right_s5Kurtosis',\n",
        "'VGRF_right_s6Min',\n",
        "'VGRF_right_s6Max',\n",
        "'VGRF_right_s6Std',\n",
        "'VGRF_right_s6Med',\n",
        "'VGRF_right_s6Avg',\n",
        "'VGRF_right_s6Skewness',\n",
        "'VGRF_right_s6Kurtosis',\n",
        "'VGRF_right_s7Min',\n",
        "'VGRF_right_s7Max',\n",
        "'VGRF_right_s7Std',\n",
        "'VGRF_right_s7Med',\n",
        "'VGRF_right_s7Avg',\n",
        "'VGRF_right_s7Skewness',\n",
        "'VGRF_right_s7Kurtosis',\n",
        "'VGRF_right_s8Min',\n",
        "'VGRF_right_s8Max',\n",
        "'VGRF_right_s8Std',\n",
        "'VGRF_right_s8Med',\n",
        "'VGRF_right_s8Avg',\n",
        "'VGRF_right_s8Skewness',\n",
        "'VGRF_right_s8Kurtosis',\n",
        "'Total_force_leftMin',\n",
        "'Total_force_leftMax',\n",
        "'Total_force_leftStd',\n",
        "'Total_force_leftMed',\n",
        "'Total_force_leftAvg',\n",
        "'Total_force_leftSkewness',\n",
        "'Total_force_leftKurtosis',\n",
        "'Total_force_rightMin',\n",
        "'Total_force_rightMax',\n",
        "'Total_force_rightStd',\n",
        "'Total_force_rightMed',\n",
        "'Total_force_rightAvg',\n",
        "'Total_force_rightSkewness',\n",
        "'Total_force_rightKurtosis'\n",
        "]"
      ]
    },
    {
      "cell_type": "code",
      "execution_count": null,
      "metadata": {
        "colab": {
          "base_uri": "https://localhost:8080/",
          "height": 710
        },
        "id": "oqqXbl9nWj3Q",
        "outputId": "238f9280-b0c1-4dbe-fcb8-10d6b31de987"
      },
      "outputs": [
        {
          "data": {
            "image/png": "[encoded data removed]",
            "text/plain": [
              "<Figure size 800x320 with 1 Axes>"
            ]
          },
          "metadata": {},
          "output_type": "display_data"
        },
        {
          "name": "stdout",
          "output_type": "stream",
          "text": [
            "Feature importances: [0.         0.         0.         0.         0.01731904 0.\n",
            " 0.         0.         0.         0.01872535 0.         0.\n",
            " 0.         0.         0.         0.         0.         0.\n",
            " 0.03881328 0.         0.         0.         0.08919089 0.\n",
            " 0.         0.00991342 0.01823414 0.         0.         0.\n",
            " 0.01850505 0.0329823  0.         0.         0.04160632 0.\n",
            " 0.         0.0060582  0.         0.         0.         0.\n",
            " 0.         0.         0.         0.         0.         0.\n",
            " 0.         0.         0.         0.         0.0353469  0.\n",
            " 0.0371844  0.         0.         0.         0.07444185 0.\n",
            " 0.         0.         0.01841064 0.         0.         0.\n",
            " 0.03736928 0.         0.01978819 0.02064849 0.         0.\n",
            " 0.         0.         0.         0.         0.         0.\n",
            " 0.         0.         0.         0.         0.         0.\n",
            " 0.         0.         0.         0.01903377 0.         0.00950036\n",
            " 0.02840273 0.         0.         0.01321789 0.         0.\n",
            " 0.         0.         0.         0.         0.         0.\n",
            " 0.06012759 0.         0.         0.         0.         0.02379221\n",
            " 0.         0.07202859 0.         0.         0.         0.01487013\n",
            " 0.         0.         0.         0.         0.         0.\n",
            " 0.03172294 0.         0.         0.0469331  0.03084175 0.02698653\n",
            " 0.         0.02928272 0.         0.         0.02940981 0.02931211\n",
            " 0.        ]\n"
          ]
        }
      ],
      "source": [
        "plt.figure(figsize=(10,4), dpi=80)\n",
        "plot_feature_importances(clf, zx)\n",
        "plt.show()\n",
        "\n",
        "print('Feature importances: {}'.format(clf.feature_importances_))"
      ]
    },
    {
      "cell_type": "code",
      "execution_count": null,
      "metadata": {
        "colab": {
          "base_uri": "https://localhost:8080/"
        },
        "id": "42JoQPzjWj3Q",
        "outputId": "15117edd-f1fd-428d-fe5c-1bc6daf8fa9f"
      },
      "outputs": [
        {
          "name": "stdout",
          "output_type": "stream",
          "text": [
            "Accuracy of Decision Tree classifier on training set: 1.00\n",
            "Accuracy of Decision Tree classifier on test set: 0.55\n"
          ]
        }
      ],
      "source": [
        "X_train, X_test, y_train1, y_test1 = train_test_split(X, y)\n",
        "clf = DecisionTreeClassifier(max_depth = 20).fit(X_train, y_train)\n",
        "\n",
        "print('Accuracy of Decision Tree classifier on training set: {:.2f}'\n",
        "     .format(clf.score(X_train, y_train)))\n",
        "print('Accuracy of Decision Tree classifier on test set: {:.2f}'\n",
        "     .format(clf.score(X_test, y_test)))"
      ]
    },
    {
      "cell_type": "code",
      "execution_count": null,
      "metadata": {
        "colab": {
          "base_uri": "https://localhost:8080/"
        },
        "id": "N0GLBGpBWj3R",
        "outputId": "e97d09c7-8474-4b79-a840-7f2c2ca24dde"
      },
      "outputs": [
        {
          "name": "stdout",
          "output_type": "stream",
          "text": [
            "0.8734299516908213\n",
            "{'max_depth': 40}\n"
          ]
        }
      ],
      "source": [
        "from sklearn.metrics import accuracy_score, precision_score, recall_score, f1_score, auc\n",
        "from sklearn.model_selection import GridSearchCV\n",
        "best_score = 0\n",
        "for i in range(200):\n",
        "    X_train, X_test, y_train1, y_test1 = train_test_split(X, y)\n",
        "    y_train = pd.DataFrame(y_train1)\n",
        "    y_test = pd.DataFrame(y_test1)\n",
        "\n",
        "\n",
        "    grid_values = {'max_depth': [1, 2, 4, 5, 7, 10, 15, 20, 25, 40, 60, 100]}\n",
        "    grid_clf = GridSearchCV(clf, param_grid=grid_values, scoring='accuracy')\n",
        "    grid_clf.fit(X_train, y_train1)\n",
        "\n",
        "\n",
        "    if best_score < grid_clf.best_score_:\n",
        "        best_score = grid_clf.best_score_\n",
        "        best_params = grid_clf.best_params_\n",
        "        prediction = grid_clf.predict(X_test)\n",
        "\n",
        "        prec = precision_score(y_test, prediction)\n",
        "        rec = recall_score(y_test, prediction)\n",
        "        f1 = f1_score(y_test, prediction)\n",
        "\n",
        "\n",
        "print(best_score)\n",
        "print(best_params)"
      ]
    },
    {
      "cell_type": "code",
      "execution_count": null,
      "metadata": {
        "colab": {
          "base_uri": "https://localhost:8080/"
        },
        "id": "4pLcU_bjWj3S",
        "outputId": "efb8c3a4-fd79-41d4-c5a0-f608535665b9"
      },
      "outputs": [
        {
          "name": "stdout",
          "output_type": "stream",
          "text": [
            "Precision: 0.8431\n",
            "Recall: 0.7818\n",
            "F1: 0.8113\n"
          ]
        }
      ],
      "source": [
        "print('Precision: {:.4f}'.format(prec))\n",
        "print('Recall: {:.4f}'.format(rec))\n",
        "print('F1: {:.4f}'.format(f1))"
      ]
    },
    {
      "cell_type": "code",
      "execution_count": null,
      "metadata": {
        "colab": {
          "base_uri": "https://localhost:8080/",
          "height": 465
        },
        "id": "LlmL4wFr3iOW",
        "outputId": "e922713d-ee63-4ac8-e2d5-b37d6fe138e6"
      },
      "outputs": [
        {
          "data": {
            "image/png": "[encoded data removed]",
            "text/plain": [
              "<Figure size 500x500 with 2 Axes>"
            ]
          },
          "metadata": {},
          "output_type": "display_data"
        }
      ],
      "source": [
        "import matplotlib.pyplot as plt\n",
        "import seaborn as sns\n",
        "from sklearn import metrics\n",
        "from sklearn.metrics import confusion_matrix\n",
        "y_true= y_test\n",
        "y_pred=grid_clf.predict(X_test)\n",
        "cm= confusion_matrix(y_true, y_pred)\n",
        "\n",
        "f, ax =plt.subplots(figsize = (5,5))\n",
        "\n",
        "sns.heatmap(cm,annot = True, linewidths= 0.5, linecolor=\"red\", fmt=\".0f\", ax=ax)\n",
        "plt.xlabel(\"y_pred\")\n",
        "plt.ylabel(\"y_true\")\n",
        "plt.show()"
      ]
    },
    {
      "cell_type": "code",
      "execution_count": null,
      "metadata": {
        "colab": {
          "base_uri": "https://localhost:8080/"
        },
        "id": "tfG-Kbjp3snM",
        "outputId": "f5485482-251c-40cb-bce9-df141babbe0c"
      },
      "outputs": [
        {
          "name": "stdout",
          "output_type": "stream",
          "text": [
            "Accuracy: 0.8441558441558441\n",
            "Precision: 0.8260869565217391\n",
            "Recall: 0.7037037037037037\n",
            "F1-Score: 0.76\n"
          ]
        }
      ],
      "source": [
        "tp = cm[0, 0]\n",
        "tn = cm[1, 1]\n",
        "fp = cm[1, 0]\n",
        "fn = cm[0, 1]\n",
        "\n",
        "accuracy = (tp + tn) / (tp + tn + fp + fn)\n",
        "precision = tp / (tp + fp)\n",
        "recall = tp / (tp + fn)\n",
        "f1_score = 2 * (precision * recall) / (precision + recall)\n",
        "\n",
        "print(\"Accuracy:\", accuracy)\n",
        "print(\"Precision:\", precision)\n",
        "print(\"Recall:\", recall)\n",
        "print(\"F1-Score:\", f1_score)"
      ]
    },
    {
      "cell_type": "markdown",
      "metadata": {
        "id": "ouW4KJUt-CjX"
      },
      "source": [
        "#Random Forest\n",
        "Using Transformed dataset\n",
        "([Transformed Data](https://github.com/mittrayash/Parkinson-s-Disease-Detection-using-Gait-Analysis/tree/master/Transformed%20Data ))\n",
        "\n",
        "Accuracy: 0.8571428571428571\n",
        "\n",
        "Precision: 0.9375\n",
        "\n",
        "Recall: 0.6\n",
        "\n",
        "F1-Score: 0.7317073170731707\n"
      ]
    },
    {
      "cell_type": "code",
      "execution_count": null,
      "metadata": {
        "id": "8JUApSCfBgP_"
      },
      "outputs": [],
      "source": [
        "import pandas as pd\n",
        "import numpy as np\n",
        "# from sklearn.preprocessing import PolynomialFeatures\n",
        "from sklearn import decomposition\n",
        "import os\n",
        "import scipy.stats as sc\n",
        "from sklearn.model_selection import train_test_split\n",
        "from sklearn.preprocessing import MinMaxScaler\n",
        "from sklearn.svm import SVC\n",
        "from sklearn.ensemble import RandomForestClassifier"
      ]
    },
    {
      "cell_type": "code",
      "execution_count": null,
      "metadata": {
        "id": "MlbtleD6Bhlo"
      },
      "outputs": [],
      "source": [
        "Transformed_Co='https://raw.githubusercontent.com/mittrayash/Parkinson-s-Disease-Detection-using-Gait-Analysis/master/Transformed%20Data/Transformed_Co'\n",
        "Transformed_Pt='https://raw.githubusercontent.com/mittrayash/Parkinson-s-Disease-Detection-using-Gait-Analysis/master/Transformed%20Data/Transformed_Pt'\n",
        "\n",
        "df_co = pd.read_csv(Transformed_Co, index_col = 0)\n",
        "df_pt = pd.read_csv(Transformed_Pt , index_col = 0)"
      ]
    },
    {
      "cell_type": "code",
      "execution_count": null,
      "metadata": {
        "id": "_5QaZFy8BhWK"
      },
      "outputs": [],
      "source": [
        "pca1 = decomposition.PCA(n_components=50)\n",
        "df_co_pca = pca1.fit_transform(df_co)\n",
        "df_pt_pca = pca1.fit_transform(df_pt)\n",
        "\n",
        "df_co_pca= df_co\n",
        "df_pt_pca= df_pt\n",
        "df_co_len = df_co_pca.shape[0]\n",
        "df_pt_len = df_pt_pca.shape[0]\n",
        "df_co_pca = pd.DataFrame(df_co_pca)\n",
        "df_pt_pca = pd.DataFrame(df_pt_pca)\n",
        "X = pd.concat([df_co_pca, df_pt_pca])"
      ]
    },
    {
      "cell_type": "code",
      "execution_count": null,
      "metadata": {
        "colab": {
          "base_uri": "https://localhost:8080/"
        },
        "id": "AxhdCNgUBhRO",
        "outputId": "2b917505-c9d1-41db-881a-3d45132b6291"
      },
      "outputs": [
        {
          "data": {
            "text/plain": [
              "(92,)"
            ]
          },
          "execution_count": 14,
          "metadata": {},
          "output_type": "execute_result"
        }
      ],
      "source": [
        "y1 = pd.Series([0]*df_co_len)\n",
        "y1.shape"
      ]
    },
    {
      "cell_type": "code",
      "execution_count": null,
      "metadata": {
        "colab": {
          "base_uri": "https://localhost:8080/"
        },
        "id": "hdU0ERrFBhNK",
        "outputId": "a28066f5-6798-454a-baa1-7cee18684880"
      },
      "outputs": [
        {
          "data": {
            "text/plain": [
              "(214,)"
            ]
          },
          "execution_count": 15,
          "metadata": {},
          "output_type": "execute_result"
        }
      ],
      "source": [
        "y2 = pd.Series([1]*df_pt_len, index = range(df_co_len-1,(df_co_len + df_pt_len)-1))\n",
        "y2.shape"
      ]
    },
    {
      "cell_type": "code",
      "execution_count": null,
      "metadata": {
        "colab": {
          "base_uri": "https://localhost:8080/"
        },
        "id": "b5DgLsr4BhJt",
        "outputId": "a39412f1-0b44-45d5-80e6-a16c77e733f4"
      },
      "outputs": [
        {
          "data": {
            "text/plain": [
              "(306,)"
            ]
          },
          "execution_count": 16,
          "metadata": {},
          "output_type": "execute_result"
        }
      ],
      "source": [
        "y = pd.concat([y1,y2])\n",
        "y.shape"
      ]
    },
    {
      "cell_type": "code",
      "execution_count": null,
      "metadata": {
        "colab": {
          "base_uri": "https://localhost:8080/"
        },
        "id": "wyrS8aOJBhGI",
        "outputId": "c1592472-405d-4108-9cdd-a5a7696d7061"
      },
      "outputs": [
        {
          "name": "stdout",
          "output_type": "stream",
          "text": [
            "0 done\n",
            "1 done\n",
            "2 done\n",
            "3 done\n",
            "4 done\n",
            "5 done\n",
            "6 done\n",
            "7 done\n",
            "8 done\n",
            "9 done\n",
            "10 done\n",
            "11 done\n",
            "12 done\n",
            "13 done\n",
            "14 done\n",
            "15 done\n",
            "16 done\n",
            "17 done\n",
            "18 done\n",
            "19 done\n",
            "20 done\n",
            "21 done\n",
            "22 done\n",
            "23 done\n",
            "24 done\n",
            "25 done\n",
            "26 done\n",
            "27 done\n",
            "28 done\n",
            "29 done\n",
            "30 done\n",
            "31 done\n",
            "32 done\n",
            "33 done\n",
            "34 done\n",
            "35 done\n",
            "36 done\n",
            "37 done\n",
            "38 done\n",
            "39 done\n",
            "40 done\n",
            "41 done\n",
            "42 done\n",
            "43 done\n",
            "44 done\n",
            "45 done\n",
            "46 done\n",
            "47 done\n",
            "48 done\n",
            "49 done\n",
            "50 done\n",
            "51 done\n",
            "52 done\n",
            "53 done\n",
            "54 done\n",
            "55 done\n",
            "56 done\n",
            "57 done\n",
            "58 done\n",
            "59 done\n",
            "60 done\n",
            "61 done\n",
            "62 done\n",
            "63 done\n",
            "64 done\n",
            "65 done\n",
            "66 done\n",
            "67 done\n",
            "68 done\n",
            "69 done\n",
            "70 done\n",
            "71 done\n",
            "72 done\n",
            "73 done\n",
            "74 done\n",
            "75 done\n",
            "76 done\n",
            "77 done\n",
            "78 done\n",
            "79 done\n",
            "80 done\n",
            "81 done\n",
            "82 done\n",
            "83 done\n",
            "84 done\n",
            "85 done\n",
            "86 done\n",
            "87 done\n",
            "88 done\n",
            "89 done\n",
            "90 done\n",
            "91 done\n",
            "92 done\n",
            "93 done\n",
            "94 done\n",
            "95 done\n",
            "96 done\n",
            "97 done\n",
            "98 done\n",
            "99 done\n",
            "0.974025974025974 150 51\n"
          ]
        }
      ],
      "source": [
        "max_est = 0\n",
        "max_acc = 0\n",
        "curr_max_acc = 0\n",
        "curr_max_est =0\n",
        "\n",
        "for i in range (0,100):\n",
        "\n",
        "    X_train, X_test, y_train1, y_test1 = train_test_split(X, y, random_state=i)\n",
        "    y_train = pd.DataFrame(y_train1)\n",
        "    y_test = pd.DataFrame(y_test1)\n",
        "\n",
        "    scaler = MinMaxScaler().fit(X_train)\n",
        "    X_train = scaler.transform(X_train)\n",
        "    X_test = scaler.transform(X_test)\n",
        "\n",
        "\n",
        "\n",
        "\n",
        "    for n in [40,50,100,150,200,250,300]:\n",
        "\n",
        "            clf = RandomForestClassifier(n_estimators = int(n), n_jobs=3)\n",
        "            clf.fit(X_train, np.ravel(y_train))\n",
        "            if max_acc < clf.score(X_test, np.ravel(y_test)):\n",
        "                max_acc = clf.score(X_test, np.ravel(y_test))\n",
        "                max_est = n\n",
        "    if(curr_max_acc < max_acc):\n",
        "            curr_max_acc = max_acc\n",
        "            curr_max_est = max_est\n",
        "            n_rs = i\n",
        "    print(\"{} done\".format(i))\n",
        "print(curr_max_acc,curr_max_est, n_rs)"
      ]
    },
    {
      "cell_type": "code",
      "execution_count": null,
      "metadata": {
        "colab": {
          "base_uri": "https://localhost:8080/"
        },
        "id": "MOKZJQb0BhC-",
        "outputId": "0303fb7d-4a1b-46b4-d3f4-e80610937b97"
      },
      "outputs": [
        {
          "name": "stdout",
          "output_type": "stream",
          "text": [
            "(229, 133)\n",
            "(77, 133)\n",
            "(229, 1)\n",
            "(77, 1)\n"
          ]
        }
      ],
      "source": [
        "print(X_train.shape)\n",
        "print(X_test.shape)\n",
        "print(y_train.shape)\n",
        "print(y_test.shape)"
      ]
    },
    {
      "cell_type": "code",
      "execution_count": null,
      "metadata": {
        "colab": {
          "base_uri": "https://localhost:8080/",
          "height": 465
        },
        "id": "TdaQRggf34wZ",
        "outputId": "c80b6a77-882d-42cb-8a7c-bb8ebfd7b43e"
      },
      "outputs": [
        {
          "data": {
            "image/png": "[encoded data removed]",
            "text/plain": [
              "<Figure size 500x500 with 2 Axes>"
            ]
          },
          "metadata": {},
          "output_type": "display_data"
        }
      ],
      "source": [
        "import matplotlib.pyplot as plt\n",
        "import seaborn as sns\n",
        "from sklearn import metrics\n",
        "from sklearn.metrics import confusion_matrix\n",
        "y_true= y_test\n",
        "y_pred=clf.predict(X_test)\n",
        "cm= confusion_matrix(y_true, y_pred)\n",
        "\n",
        "f, ax =plt.subplots(figsize = (5,5))\n",
        "\n",
        "sns.heatmap(cm,annot = True, linewidths= 0.5, linecolor=\"red\", fmt=\".0f\", ax=ax)\n",
        "plt.xlabel(\"y_pred\")\n",
        "plt.ylabel(\"y_true\")\n",
        "plt.show()"
      ]
    },
    {
      "cell_type": "code",
      "execution_count": null,
      "metadata": {
        "colab": {
          "base_uri": "https://localhost:8080/"
        },
        "id": "cdRsaGrt336j",
        "outputId": "19f67de7-de7d-4d9b-bb99-20069d93e3ac"
      },
      "outputs": [
        {
          "name": "stdout",
          "output_type": "stream",
          "text": [
            "Accuracy: 0.8571428571428571\n",
            "Precision: 0.9375\n",
            "Recall: 0.6\n",
            "F1-Score: 0.7317073170731707\n"
          ]
        }
      ],
      "source": [
        "tp = cm[0, 0]\n",
        "tn = cm[1, 1]\n",
        "fp = cm[1, 0]\n",
        "fn = cm[0, 1]\n",
        "\n",
        "accuracy = (tp + tn) / (tp + tn + fp + fn)\n",
        "precision = tp / (tp + fp)\n",
        "recall = tp / (tp + fn)\n",
        "f1_score = 2 * (precision * recall) / (precision + recall)\n",
        "\n",
        "print(\"Accuracy:\", accuracy)\n",
        "print(\"Precision:\", precision)\n",
        "print(\"Recall:\", recall)\n",
        "print(\"F1-Score:\", f1_score)"
      ]
    },
    {
      "cell_type": "markdown",
      "metadata": {
        "id": "KhbOmunESeTB"
      },
      "source": [
        "#Random Forest (Fixed Accuracy vals)\n",
        "Using Transformed dataset\n",
        "([Transformed Data](https://github.com/mittrayash/Parkinson-s-Disease-Detection-using-Gait-Analysis/tree/master/Transformed%20Data ))\n",
        "\n",
        "Accuracy: 0.8051948051948052\n",
        "\n",
        "Precision: 0.7619047619047619\n",
        "\n",
        "Recall: 0.6153846153846154\n",
        "\n",
        "F1-Score: 0.6808510638297872"
      ]
    },
    {
      "cell_type": "code",
      "execution_count": null,
      "metadata": {
        "id": "jlKzmiuXSpyr"
      },
      "outputs": [],
      "source": [
        "import pandas as pd\n",
        "import numpy as np\n",
        "\n",
        "from sklearn.model_selection import train_test_split\n",
        "from sklearn.svm import SVC\n",
        "\n",
        "from sklearn.ensemble import RandomForestClassifier"
      ]
    },
    {
      "cell_type": "code",
      "execution_count": null,
      "metadata": {
        "id": "2wRTrniCStQk"
      },
      "outputs": [],
      "source": [
        "Transformed_Co='https://raw.githubusercontent.com/mittrayash/Parkinson-s-Disease-Detection-using-Gait-Analysis/master/Transformed%20Data/Transformed_Co'\n",
        "Transformed_Pt='https://raw.githubusercontent.com/mittrayash/Parkinson-s-Disease-Detection-using-Gait-Analysis/master/Transformed%20Data/Transformed_Pt'\n",
        "\n",
        "df1 = pd.read_csv(Transformed_Co, index_col = 0)\n",
        "df2 = pd.read_csv(Transformed_Pt , index_col = 0)"
      ]
    },
    {
      "cell_type": "code",
      "execution_count": null,
      "metadata": {
        "colab": {
          "base_uri": "https://localhost:8080/"
        },
        "id": "b8s1b4nOStOQ",
        "outputId": "0888abeb-24f6-4dbc-dc87-1267d48510d0"
      },
      "outputs": [
        {
          "data": {
            "text/plain": [
              "(214, 133, 92, 133)"
            ]
          },
          "execution_count": 23,
          "metadata": {},
          "output_type": "execute_result"
        }
      ],
      "source": [
        "\n",
        "df1_len = df1.shape[0]\n",
        "df2_len = df2.shape[0]\n",
        "df2.shape + df1.shape"
      ]
    },
    {
      "cell_type": "code",
      "execution_count": null,
      "metadata": {
        "id": "MhW9JyG_StLr"
      },
      "outputs": [],
      "source": [
        "X = pd.concat([df1, df2])"
      ]
    },
    {
      "cell_type": "code",
      "execution_count": null,
      "metadata": {
        "colab": {
          "base_uri": "https://localhost:8080/"
        },
        "id": "Qb_iL9ZcStJG",
        "outputId": "05da8155-dcbf-4928-ea6b-ba3adb5ea1bc"
      },
      "outputs": [
        {
          "data": {
            "text/plain": [
              "(92,)"
            ]
          },
          "execution_count": 25,
          "metadata": {},
          "output_type": "execute_result"
        }
      ],
      "source": [
        "y1 = pd.Series([0]*df1_len)\n",
        "y1.shape"
      ]
    },
    {
      "cell_type": "code",
      "execution_count": null,
      "metadata": {
        "colab": {
          "base_uri": "https://localhost:8080/"
        },
        "id": "EfrfmLkbStGo",
        "outputId": "fb45c1d9-924f-4150-abac-6e7eef65f78f"
      },
      "outputs": [
        {
          "data": {
            "text/plain": [
              "(214,)"
            ]
          },
          "execution_count": 26,
          "metadata": {},
          "output_type": "execute_result"
        }
      ],
      "source": [
        "y2 = pd.Series([1]*df2_len, index = range(df1_len-1,(df1_len + df2_len)-1))\n",
        "y2.shape"
      ]
    },
    {
      "cell_type": "code",
      "execution_count": null,
      "metadata": {
        "colab": {
          "base_uri": "https://localhost:8080/"
        },
        "id": "GosG95XdStD9",
        "outputId": "2f6722a9-1f26-47df-8494-44358817c11a"
      },
      "outputs": [
        {
          "data": {
            "text/plain": [
              "(306,)"
            ]
          },
          "execution_count": 27,
          "metadata": {},
          "output_type": "execute_result"
        }
      ],
      "source": [
        "y = pd.concat([y1,y2])\n",
        "y.shape"
      ]
    },
    {
      "cell_type": "code",
      "execution_count": null,
      "metadata": {
        "colab": {
          "base_uri": "https://localhost:8080/"
        },
        "id": "ntVA9toFStBg",
        "outputId": "aa466843-5c6e-4b5d-99a3-5939439d187e"
      },
      "outputs": [
        {
          "data": {
            "text/plain": [
              "300    1\n",
              "301    1\n",
              "302    1\n",
              "303    1\n",
              "304    1\n",
              "dtype: int64"
            ]
          },
          "execution_count": 28,
          "metadata": {},
          "output_type": "execute_result"
        }
      ],
      "source": [
        "y.tail()\n"
      ]
    },
    {
      "cell_type": "code",
      "execution_count": null,
      "metadata": {
        "colab": {
          "base_uri": "https://localhost:8080/"
        },
        "id": "-RCMv9GQSs-x",
        "outputId": "2306ec88-682b-4f73-9c13-750fc13b3480"
      },
      "outputs": [
        {
          "name": "stdout",
          "output_type": "stream",
          "text": [
            "1 done\n",
            "2 done\n",
            "3 done\n",
            "4 done\n",
            "5 done\n",
            "6 done\n",
            "7 done\n",
            "8 done\n",
            "9 done\n",
            "10 done\n",
            "11 done\n",
            "12 done\n",
            "13 done\n",
            "14 done\n",
            "15 done\n",
            "16 done\n",
            "17 done\n",
            "18 done\n",
            "19 done\n",
            "20 done\n",
            "21 done\n",
            "22 done\n",
            "23 done\n",
            "24 done\n",
            "25 done\n",
            "26 done\n",
            "27 done\n",
            "28 done\n",
            "29 done\n",
            "30 done\n",
            "31 done\n",
            "32 done\n",
            "33 done\n",
            "34 done\n",
            "35 done\n",
            "36 done\n",
            "37 done\n",
            "38 done\n",
            "39 done\n",
            "40 done\n",
            "41 done\n",
            "42 done\n",
            "43 done\n",
            "44 done\n",
            "45 done\n",
            "46 done\n",
            "47 done\n",
            "48 done\n",
            "49 done\n",
            "50 done\n",
            "51 done\n",
            "52 done\n",
            "53 done\n",
            "54 done\n",
            "55 done\n",
            "56 done\n",
            "57 done\n",
            "58 done\n",
            "59 done\n",
            "60 done\n",
            "61 done\n",
            "62 done\n",
            "63 done\n",
            "64 done\n",
            "65 done\n",
            "66 done\n",
            "67 done\n",
            "68 done\n",
            "69 done\n",
            "70 done\n",
            "71 done\n",
            "72 done\n",
            "73 done\n",
            "74 done\n",
            "75 done\n",
            "76 done\n",
            "77 done\n",
            "78 done\n",
            "79 done\n",
            "80 done\n",
            "81 done\n",
            "82 done\n",
            "83 done\n",
            "84 done\n",
            "85 done\n",
            "86 done\n",
            "87 done\n",
            "88 done\n",
            "89 done\n",
            "90 done\n",
            "91 done\n",
            "92 done\n",
            "93 done\n",
            "94 done\n",
            "95 done\n",
            "96 done\n",
            "97 done\n",
            "98 done\n",
            "99 done\n",
            "Accuracy = 0.961038961038961, n_estimators = 40, Random State = 15\n"
          ]
        }
      ],
      "source": [
        "max_acc=0\n",
        "max_est =0\n",
        "curr_max_acc=0\n",
        "curr_max_n=0\n",
        "for i in range(1, 100):\n",
        "    X_train, X_test, y_train1, y_test1 = train_test_split(X, np.ravel(y),random_state=i)\n",
        "    y_train = pd.DataFrame(y_train1)\n",
        "    y_test = pd.DataFrame(y_test1)\n",
        "\n",
        "    for n in [5, 10, 20, 40, 100, 200]:\n",
        "        clf = RandomForestClassifier(n_estimators = int(n), n_jobs=2)\n",
        "        clf.fit(X_train, np.ravel(y_train))\n",
        "        if(max_acc < clf.score(X_test, np.ravel(y_test))):\n",
        "                max_acc = clf.score(X_test, np.ravel(y_test))\n",
        "                max_n=int(n)\n",
        "\n",
        "    if(curr_max_acc < max_acc):\n",
        "            curr_max_acc = max_acc\n",
        "            curr_max_n= max_n\n",
        "            n_rs = i\n",
        "    print(\"{} done\".format(i))\n",
        "print(\"Accuracy = {}, n_estimators = {}, Random State = {}\".format(curr_max_acc, curr_max_n, n_rs))"
      ]
    },
    {
      "cell_type": "code",
      "execution_count": null,
      "metadata": {
        "colab": {
          "base_uri": "https://localhost:8080/"
        },
        "id": "QbrNDv2kSs7x",
        "outputId": "eedbf91b-c6ce-4e7f-a6ff-37f083db653c"
      },
      "outputs": [
        {
          "data": {
            "text/plain": [
              "0.8311688311688312"
            ]
          },
          "execution_count": 30,
          "metadata": {},
          "output_type": "execute_result"
        }
      ],
      "source": [
        "X_train, X_test, y_train1, y_test1 = train_test_split(X, np.ravel(y))\n",
        "y_train = pd.DataFrame(y_train1)\n",
        "y_test = pd.DataFrame(y_test1)\n",
        "clf = RandomForestClassifier(n_estimators = 200, n_jobs=2, max_depth=10)\n",
        "clf.fit(X_train, np.ravel(y_train))\n",
        "clf.score(X_test, np.ravel(y_test))"
      ]
    },
    {
      "cell_type": "code",
      "execution_count": null,
      "metadata": {
        "colab": {
          "base_uri": "https://localhost:8080/"
        },
        "id": "0JJ_z6kpSs5A",
        "outputId": "18d5b68b-3aac-42d4-ce57-bf6a9f615126"
      },
      "outputs": [
        {
          "data": {
            "text/plain": [
              "(229, 1)"
            ]
          },
          "execution_count": 31,
          "metadata": {},
          "output_type": "execute_result"
        }
      ],
      "source": [
        "y_train.shape"
      ]
    },
    {
      "cell_type": "code",
      "execution_count": null,
      "metadata": {
        "colab": {
          "base_uri": "https://localhost:8080/"
        },
        "id": "CJMZRVLHSszY",
        "outputId": "4e0ac969-869f-4c17-826f-a112f48e6578"
      },
      "outputs": [
        {
          "data": {
            "text/plain": [
              "0.8730434782608695"
            ]
          },
          "execution_count": 32,
          "metadata": {},
          "output_type": "execute_result"
        }
      ],
      "source": [
        "from sklearn.model_selection import GridSearchCV\n",
        "grid_vals = {'n_estimators': [5, 10, 20, 40, 100, 200]}\n",
        "grid_clf = GridSearchCV(clf, param_grid=grid_vals, scoring='accuracy')\n",
        "grid_clf.fit(X_train, y_train1.reshape(229,))\n",
        "# decision_fn_scores = grid_clf.decision_function(X_test)\n",
        "\n",
        "grid_clf.best_score_"
      ]
    },
    {
      "cell_type": "code",
      "execution_count": null,
      "metadata": {
        "colab": {
          "base_uri": "https://localhost:8080/"
        },
        "id": "TWcaYSdoSsqx",
        "outputId": "e20a5d4a-a1bb-491b-d834-61ee9f6b6434"
      },
      "outputs": [
        {
          "data": {
            "text/plain": [
              "{'n_estimators': 20}"
            ]
          },
          "execution_count": 33,
          "metadata": {},
          "output_type": "execute_result"
        }
      ],
      "source": [
        "grid_clf.best_params_"
      ]
    },
    {
      "cell_type": "code",
      "execution_count": null,
      "metadata": {
        "colab": {
          "base_uri": "https://localhost:8080/",
          "height": 465
        },
        "id": "dX38-NYB4E6R",
        "outputId": "5f8561dd-7584-4748-9a5c-03643634ea63"
      },
      "outputs": [
        {
          "data": {
            "image/png": "[encoded data removed]",
            "text/plain": [
              "<Figure size 500x500 with 2 Axes>"
            ]
          },
          "metadata": {},
          "output_type": "display_data"
        }
      ],
      "source": [
        "import matplotlib.pyplot as plt\n",
        "import seaborn as sns\n",
        "from sklearn import metrics\n",
        "from sklearn.metrics import confusion_matrix\n",
        "y_true= y_test\n",
        "y_pred=grid_clf.predict(X_test)\n",
        "cm= confusion_matrix(y_true, y_pred)\n",
        "\n",
        "f, ax =plt.subplots(figsize = (5,5))\n",
        "\n",
        "sns.heatmap(cm,annot = True, linewidths= 0.5, linecolor=\"red\", fmt=\".0f\", ax=ax)\n",
        "plt.xlabel(\"y_pred\")\n",
        "plt.ylabel(\"y_true\")\n",
        "plt.show()"
      ]
    },
    {
      "cell_type": "code",
      "execution_count": null,
      "metadata": {
        "colab": {
          "base_uri": "https://localhost:8080/"
        },
        "id": "inHgJWUR4H-e",
        "outputId": "1cc8c292-213e-42f9-bea0-0d5e392a3538"
      },
      "outputs": [
        {
          "name": "stdout",
          "output_type": "stream",
          "text": [
            "Accuracy: 0.8051948051948052\n",
            "Precision: 0.7619047619047619\n",
            "Recall: 0.6153846153846154\n",
            "F1-Score: 0.6808510638297872\n"
          ]
        }
      ],
      "source": [
        "tp = cm[0, 0]\n",
        "tn = cm[1, 1]\n",
        "fp = cm[1, 0]\n",
        "fn = cm[0, 1]\n",
        "\n",
        "accuracy = (tp + tn) / (tp + tn + fp + fn)\n",
        "precision = tp / (tp + fp)\n",
        "recall = tp / (tp + fn)\n",
        "f1_score = 2 * (precision * recall) / (precision + recall)\n",
        "\n",
        "print(\"Accuracy:\", accuracy)\n",
        "print(\"Precision:\", precision)\n",
        "print(\"Recall:\", recall)\n",
        "print(\"F1-Score:\", f1_score)"
      ]
    },
    {
      "cell_type": "markdown",
      "metadata": {
        "id": "SZebuFjXQ9_Z"
      },
      "source": [
        "#Random Forest (Most Important features)\n",
        "Using Transformed dataset\n",
        "([Transformed Data](https://github.com/mittrayash/Parkinson-s-Disease-Detection-using-Gait-Analysis/tree/master/Transformed%20Data ))\n",
        "\n",
        "Accuracy: 0.7532467532467533\n",
        "\n",
        "Precision: 0.46153846153846156\n",
        "\n",
        "Recall: 0.3333333333333333\n",
        "\n",
        "F1-Score: 0.3870967741935484"
      ]
    },
    {
      "cell_type": "code",
      "execution_count": null,
      "metadata": {
        "id": "mJHcv7G5WDSF"
      },
      "outputs": [],
      "source": [
        "import pandas as pd\n",
        "import numpy as np\n",
        "from sklearn import decomposition\n",
        "from sklearn.model_selection import train_test_split\n",
        "from sklearn.svm import SVC\n",
        "\n",
        "from sklearn.ensemble import RandomForestClassifier"
      ]
    },
    {
      "cell_type": "code",
      "execution_count": null,
      "metadata": {
        "id": "6rTwh4HAZP6K"
      },
      "outputs": [],
      "source": [
        "Transformed_Co='https://raw.githubusercontent.com/mittrayash/Parkinson-s-Disease-Detection-using-Gait-Analysis/master/Transformed%20Data/Transformed_Co'\n",
        "Transformed_Pt='https://raw.githubusercontent.com/mittrayash/Parkinson-s-Disease-Detection-using-Gait-Analysis/master/Transformed%20Data/Transformed_Pt'\n",
        "\n",
        "df1 = pd.read_csv(Transformed_Co, index_col = 0)\n",
        "df2 = pd.read_csv(Transformed_Pt , index_col = 0)"
      ]
    },
    {
      "cell_type": "code",
      "execution_count": null,
      "metadata": {
        "id": "pfveTCJVZTUN"
      },
      "outputs": [],
      "source": [
        "pca1 = decomposition.PCA(n_components=4)\n",
        "df1 = pca1.fit_transform(df1)\n",
        "df2 = pca1.fit_transform(df2)"
      ]
    },
    {
      "cell_type": "code",
      "execution_count": null,
      "metadata": {
        "colab": {
          "base_uri": "https://localhost:8080/"
        },
        "id": "PH0ki9JgZTRh",
        "outputId": "8136e00f-59e5-4bcc-8200-7d0b4aa33c75"
      },
      "outputs": [
        {
          "data": {
            "text/plain": [
              "(214, 4, 92, 4)"
            ]
          },
          "execution_count": 44,
          "metadata": {},
          "output_type": "execute_result"
        }
      ],
      "source": [
        "df1_len = df1.shape[0]\n",
        "df2_len = df2.shape[0]\n",
        "df2.shape + df1.shape"
      ]
    },
    {
      "cell_type": "code",
      "execution_count": null,
      "metadata": {
        "id": "GBQ_EPEQZTOd"
      },
      "outputs": [],
      "source": [
        "df1 = pd.DataFrame(df1)\n",
        "df2 = pd.DataFrame(df2)"
      ]
    },
    {
      "cell_type": "code",
      "execution_count": null,
      "metadata": {
        "id": "uNfCkmb5ZTK5"
      },
      "outputs": [],
      "source": [
        "X = pd.concat([df1, df2])"
      ]
    },
    {
      "cell_type": "code",
      "execution_count": null,
      "metadata": {
        "colab": {
          "base_uri": "https://localhost:8080/"
        },
        "id": "cqVrs0WdZTHp",
        "outputId": "33043072-cce5-434d-e514-5bc9b15a75e8"
      },
      "outputs": [
        {
          "data": {
            "text/plain": [
              "(92,)"
            ]
          },
          "execution_count": 47,
          "metadata": {},
          "output_type": "execute_result"
        }
      ],
      "source": [
        "y1 = pd.Series([0]*df1_len)\n",
        "y1.shape"
      ]
    },
    {
      "cell_type": "code",
      "execution_count": null,
      "metadata": {
        "colab": {
          "base_uri": "https://localhost:8080/"
        },
        "id": "cxRqV67RZTFD",
        "outputId": "ef4a19c3-30e8-4a31-a22d-2e1693afed9b"
      },
      "outputs": [
        {
          "data": {
            "text/plain": [
              "(214,)"
            ]
          },
          "execution_count": 48,
          "metadata": {},
          "output_type": "execute_result"
        }
      ],
      "source": [
        "y2 = pd.Series([1]*df2_len, index = range(df1_len-1,(df1_len + df2_len)-1))\n",
        "y2.shape"
      ]
    },
    {
      "cell_type": "code",
      "execution_count": null,
      "metadata": {
        "colab": {
          "base_uri": "https://localhost:8080/"
        },
        "id": "LSgoiuGZZTB4",
        "outputId": "221ec09b-5084-420d-8c32-19551a2e616b"
      },
      "outputs": [
        {
          "data": {
            "text/plain": [
              "(306,)"
            ]
          },
          "execution_count": 49,
          "metadata": {},
          "output_type": "execute_result"
        }
      ],
      "source": [
        "y = pd.concat([y1,y2])\n",
        "y.shape"
      ]
    },
    {
      "cell_type": "code",
      "execution_count": null,
      "metadata": {
        "colab": {
          "base_uri": "https://localhost:8080/"
        },
        "id": "-bgK2AADZS-y",
        "outputId": "f738214b-ef68-497b-c940-8fa8781f6556"
      },
      "outputs": [
        {
          "data": {
            "text/plain": [
              "300    1\n",
              "301    1\n",
              "302    1\n",
              "303    1\n",
              "304    1\n",
              "dtype: int64"
            ]
          },
          "execution_count": 50,
          "metadata": {},
          "output_type": "execute_result"
        }
      ],
      "source": [
        "y.tail()"
      ]
    },
    {
      "cell_type": "code",
      "execution_count": null,
      "metadata": {
        "colab": {
          "base_uri": "https://localhost:8080/"
        },
        "id": "J6Scs4JkZS7t",
        "outputId": "729fdc51-2918-4e08-aaea-12468232fab0"
      },
      "outputs": [
        {
          "name": "stdout",
          "output_type": "stream",
          "text": [
            "(229, 4)\n",
            "(77, 4)\n",
            "(229, 1)\n",
            "(77, 1)\n"
          ]
        }
      ],
      "source": [
        "X_train, X_test, y_train1, y_test1 = train_test_split(X, y)\n",
        "y_train = pd.DataFrame(y_train1)\n",
        "y_test = pd.DataFrame(y_test1)\n",
        "\n",
        "\n",
        "print(X_train.shape)\n",
        "print(X_test.shape)\n",
        "print(y_train.shape)\n",
        "print(y_test.shape)"
      ]
    },
    {
      "cell_type": "code",
      "execution_count": null,
      "metadata": {
        "colab": {
          "base_uri": "https://localhost:8080/"
        },
        "id": "BJAJSR_wZS4E",
        "outputId": "8acbafa0-428a-4265-a69f-57c9b199b376"
      },
      "outputs": [
        {
          "name": "stderr",
          "output_type": "stream",
          "text": [
            "<ipython-input-52-7932542e4613>:2: DataConversionWarning: A column-vector y was passed when a 1d array was expected. Please change the shape of y to (n_samples,), for example using ravel().\n",
            "  clf.fit(X_train, y_train)\n"
          ]
        },
        {
          "name": "stdout",
          "output_type": "stream",
          "text": [
            "Accuracy of RF classifier on training set: 1.00\n",
            "Accuracy of RF classifier on test set: 0.75\n"
          ]
        }
      ],
      "source": [
        "clf = RandomForestClassifier(n_estimators = 312, random_state = 0,n_jobs=-1)\n",
        "clf.fit(X_train, y_train)\n",
        "\n",
        "print('Accuracy of RF classifier on training set: {:.2f}'\n",
        "     .format(clf.score(X_train, y_train)))\n",
        "print('Accuracy of RF classifier on test set: {:.2f}'\n",
        "     .format(clf.score(X_test, y_test)))"
      ]
    },
    {
      "cell_type": "code",
      "execution_count": null,
      "metadata": {
        "colab": {
          "base_uri": "https://localhost:8080/",
          "height": 17
        },
        "id": "ScOoShZp4ajp",
        "outputId": "aad28704-a24d-420c-9a7b-b7df2cf9da14"
      },
      "outputs": [
        {
          "data": {
            "application/javascript": "/* Put everything inside the global mpl namespace */\n/* global mpl */\nwindow.mpl = {};\n\nmpl.get_websocket_type = function () {\n    if (typeof WebSocket !== 'undefined') {\n        return WebSocket;\n    } else if (typeof MozWebSocket !== 'undefined') {\n        return MozWebSocket;\n    } else {\n        alert(\n            'Your browser does not have WebSocket support. ' +\n                'Please try Chrome, Safari or Firefox ≥ 6. ' +\n                'Firefox 4 and 5 are also supported but you ' +\n                'have to enable WebSockets in about:config.'\n        );\n    }\n};\n\nmpl.figure = function (figure_id, websocket, ondownload, parent_element) {\n    this.id = figure_id;\n\n    this.ws = websocket;\n\n    this.supports_binary = this.ws.binaryType !== undefined;\n\n    if (!this.supports_binary) {\n        var warnings = document.getElementById('mpl-warnings');\n        if (warnings) {\n            warnings.style.display = 'block';\n            warnings.textContent =\n                'This browser does not support binary websocket messages. ' +\n                'Performance may be slow.';\n        }\n    }\n\n    this.imageObj = new Image();\n\n    this.context = undefined;\n    this.message = undefined;\n    this.canvas = undefined;\n    this.rubberband_canvas = undefined;\n    this.rubberband_context = undefined;\n    this.format_dropdown = undefined;\n\n    this.image_mode = 'full';\n\n    this.root = document.createElement('div');\n    this.root.setAttribute('style', 'display: inline-block');\n    this._root_extra_style(this.root);\n\n    parent_element.appendChild(this.root);\n\n    this._init_header(this);\n    this._init_canvas(this);\n    this._init_toolbar(this);\n\n    var fig = this;\n\n    this.waiting = false;\n\n    this.ws.onopen = function () {\n        fig.send_message('supports_binary', { value: fig.supports_binary });\n        fig.send_message('send_image_mode', {});\n        if (fig.ratio !== 1) {\n            fig.send_message('set_device_pixel_ratio', {\n                device_pixel_ratio: fig.ratio,\n            });\n        }\n        fig.send_message('refresh', {});\n    };\n\n    this.imageObj.onload = function () {\n        if (fig.image_mode === 'full') {\n            // Full images could contain transparency (where diff images\n            // almost always do), so we need to clear the canvas so that\n            // there is no ghosting.\n            fig.context.clearRect(0, 0, fig.canvas.width, fig.canvas.height);\n        }\n        fig.context.drawImage(fig.imageObj, 0, 0);\n    };\n\n    this.imageObj.onunload = function () {\n        fig.ws.close();\n    };\n\n    this.ws.onmessage = this._make_on_message_function(this);\n\n    this.ondownload = ondownload;\n};\n\nmpl.figure.prototype._init_header = function () {\n    var titlebar = document.createElement('div');\n    titlebar.classList =\n        'ui-dialog-titlebar ui-widget-header ui-corner-all ui-helper-clearfix';\n    var titletext = document.createElement('div');\n    titletext.classList = 'ui-dialog-title';\n    titletext.setAttribute(\n        'style',\n        'width: 100%; text-align: center; padding: 3px;'\n    );\n    titlebar.appendChild(titletext);\n    this.root.appendChild(titlebar);\n    this.header = titletext;\n};\n\nmpl.figure.prototype._canvas_extra_style = function (_canvas_div) {};\n\nmpl.figure.prototype._root_extra_style = function (_canvas_div) {};\n\nmpl.figure.prototype._init_canvas = function () {\n    var fig = this;\n\n    var canvas_div = (this.canvas_div = document.createElement('div'));\n    canvas_div.setAttribute('tabindex', '0');\n    canvas_div.setAttribute(\n        'style',\n        'border: 1px solid #ddd;' +\n            'box-sizing: content-box;' +\n            'clear: both;' +\n            'min-height: 1px;' +\n            'min-width: 1px;' +\n            'outline: 0;' +\n            'overflow: hidden;' +\n            'position: relative;' +\n            'resize: both;' +\n            'z-index: 2;'\n    );\n\n    function on_keyboard_event_closure(name) {\n        return function (event) {\n            return fig.key_event(event, name);\n        };\n    }\n\n    canvas_div.addEventListener(\n        'keydown',\n        on_keyboard_event_closure('key_press')\n    );\n    canvas_div.addEventListener(\n        'keyup',\n        on_keyboard_event_closure('key_release')\n    );\n\n    this._canvas_extra_style(canvas_div);\n    this.root.appendChild(canvas_div);\n\n    var canvas = (this.canvas = document.createElement('canvas'));\n    canvas.classList.add('mpl-canvas');\n    canvas.setAttribute(\n        'style',\n        'box-sizing: content-box;' +\n            'pointer-events: none;' +\n            'position: relative;' +\n            'z-index: 0;'\n    );\n\n    this.context = canvas.getContext('2d');\n\n    var backingStore =\n        this.context.backingStorePixelRatio ||\n        this.context.webkitBackingStorePixelRatio ||\n        this.context.mozBackingStorePixelRatio ||\n        this.context.msBackingStorePixelRatio ||\n        this.context.oBackingStorePixelRatio ||\n        this.context.backingStorePixelRatio ||\n        1;\n\n    this.ratio = (window.devicePixelRatio || 1) / backingStore;\n\n    var rubberband_canvas = (this.rubberband_canvas = document.createElement(\n        'canvas'\n    ));\n    rubberband_canvas.setAttribute(\n        'style',\n        'box-sizing: content-box;' +\n            'left: 0;' +\n            'pointer-events: none;' +\n            'position: absolute;' +\n            'top: 0;' +\n            'z-index: 1;'\n    );\n\n    // Apply a ponyfill if ResizeObserver is not implemented by browser.\n    if (this.ResizeObserver === undefined) {\n        if (window.ResizeObserver !== undefined) {\n            this.ResizeObserver = window.ResizeObserver;\n        } else {\n            var obs = _JSXTOOLS_RESIZE_OBSERVER({});\n            this.ResizeObserver = obs.ResizeObserver;\n        }\n    }\n\n    this.resizeObserverInstance = new this.ResizeObserver(function (entries) {\n        var nentries = entries.length;\n        for (var i = 0; i < nentries; i++) {\n            var entry = entries[i];\n            var width, height;\n            if (entry.contentBoxSize) {\n                if (entry.contentBoxSize instanceof Array) {\n                    // Chrome 84 implements new version of spec.\n                    width = entry.contentBoxSize[0].inlineSize;\n                    height = entry.contentBoxSize[0].blockSize;\n                } else {\n                    // Firefox implements old version of spec.\n                    width = entry.contentBoxSize.inlineSize;\n                    height = entry.contentBoxSize.blockSize;\n                }\n            } else {\n                // Chrome <84 implements even older version of spec.\n                width = entry.contentRect.width;\n                height = entry.contentRect.height;\n            }\n\n            // Keep the size of the canvas and rubber band canvas in sync with\n            // the canvas container.\n            if (entry.devicePixelContentBoxSize) {\n                // Chrome 84 implements new version of spec.\n                canvas.setAttribute(\n                    'width',\n                    entry.devicePixelContentBoxSize[0].inlineSize\n                );\n                canvas.setAttribute(\n                    'height',\n                    entry.devicePixelContentBoxSize[0].blockSize\n                );\n            } else {\n                canvas.setAttribute('width', width * fig.ratio);\n                canvas.setAttribute('height', height * fig.ratio);\n            }\n            /* This rescales the canvas back to display pixels, so that it\n             * appears correct on HiDPI screens. */\n            canvas.style.width = width + 'px';\n            canvas.style.height = height + 'px';\n\n            rubberband_canvas.setAttribute('width', width);\n            rubberband_canvas.setAttribute('height', height);\n\n            // And update the size in Python. We ignore the initial 0/0 size\n            // that occurs as the element is placed into the DOM, which should\n            // otherwise not happen due to the minimum size styling.\n            if (fig.ws.readyState == 1 && width != 0 && height != 0) {\n                fig.request_resize(width, height);\n            }\n        }\n    });\n    this.resizeObserverInstance.observe(canvas_div);\n\n    function on_mouse_event_closure(name) {\n        /* User Agent sniffing is bad, but WebKit is busted:\n         * https://bugs.webkit.org/show_bug.cgi?id=144526\n         * https://bugs.webkit.org/show_bug.cgi?id=181818\n         * The worst that happens here is that they get an extra browser\n         * selection when dragging, if this check fails to catch them.\n         */\n        var UA = navigator.userAgent;\n        var isWebKit = /AppleWebKit/.test(UA) && !/Chrome/.test(UA);\n        if(isWebKit) {\n            return function (event) {\n                /* This prevents the web browser from automatically changing to\n                 * the text insertion cursor when the button is pressed. We\n                 * want to control all of the cursor setting manually through\n                 * the 'cursor' event from matplotlib */\n                event.preventDefault()\n                return fig.mouse_event(event, name);\n            };\n        } else {\n            return function (event) {\n                return fig.mouse_event(event, name);\n            };\n        }\n    }\n\n    canvas_div.addEventListener(\n        'mousedown',\n        on_mouse_event_closure('button_press')\n    );\n    canvas_div.addEventListener(\n        'mouseup',\n        on_mouse_event_closure('button_release')\n    );\n    canvas_div.addEventListener(\n        'dblclick',\n        on_mouse_event_closure('dblclick')\n    );\n    // Throttle sequential mouse events to 1 every 20ms.\n    canvas_div.addEventListener(\n        'mousemove',\n        on_mouse_event_closure('motion_notify')\n    );\n\n    canvas_div.addEventListener(\n        'mouseenter',\n        on_mouse_event_closure('figure_enter')\n    );\n    canvas_div.addEventListener(\n        'mouseleave',\n        on_mouse_event_closure('figure_leave')\n    );\n\n    canvas_div.addEventListener('wheel', function (event) {\n        if (event.deltaY < 0) {\n            event.step = 1;\n        } else {\n            event.step = -1;\n        }\n        on_mouse_event_closure('scroll')(event);\n    });\n\n    canvas_div.appendChild(canvas);\n    canvas_div.appendChild(rubberband_canvas);\n\n    this.rubberband_context = rubberband_canvas.getContext('2d');\n    this.rubberband_context.strokeStyle = '#000000';\n\n    this._resize_canvas = function (width, height, forward) {\n        if (forward) {\n            canvas_div.style.width = width + 'px';\n            canvas_div.style.height = height + 'px';\n        }\n    };\n\n    // Disable right mouse context menu.\n    canvas_div.addEventListener('contextmenu', function (_e) {\n        event.preventDefault();\n        return false;\n    });\n\n    function set_focus() {\n        canvas.focus();\n        canvas_div.focus();\n    }\n\n    window.setTimeout(set_focus, 100);\n};\n\nmpl.figure.prototype._init_toolbar = function () {\n    var fig = this;\n\n    var toolbar = document.createElement('div');\n    toolbar.classList = 'mpl-toolbar';\n    this.root.appendChild(toolbar);\n\n    function on_click_closure(name) {\n        return function (_event) {\n            return fig.toolbar_button_onclick(name);\n        };\n    }\n\n    function on_mouseover_closure(tooltip) {\n        return function (event) {\n            if (!event.currentTarget.disabled) {\n                return fig.toolbar_button_onmouseover(tooltip);\n            }\n        };\n    }\n\n    fig.buttons = {};\n    var buttonGroup = document.createElement('div');\n    buttonGroup.classList = 'mpl-button-group';\n    for (var toolbar_ind in mpl.toolbar_items) {\n        var name = mpl.toolbar_items[toolbar_ind][0];\n        var tooltip = mpl.toolbar_items[toolbar_ind][1];\n        var image = mpl.toolbar_items[toolbar_ind][2];\n        var method_name = mpl.toolbar_items[toolbar_ind][3];\n\n        if (!name) {\n            /* Instead of a spacer, we start a new button group. */\n            if (buttonGroup.hasChildNodes()) {\n                toolbar.appendChild(buttonGroup);\n            }\n            buttonGroup = document.createElement('div');\n            buttonGroup.classList = 'mpl-button-group';\n            continue;\n        }\n\n        var button = (fig.buttons[name] = document.createElement('button'));\n        button.classList = 'mpl-widget';\n        button.setAttribute('role', 'button');\n        button.setAttribute('aria-disabled', 'false');\n        button.addEventListener('click', on_click_closure(method_name));\n        button.addEventListener('mouseover', on_mouseover_closure(tooltip));\n\n        var icon_img = document.createElement('img');\n        icon_img.src = '_images/' + image + '.png';\n        icon_img.srcset = '_images/' + image + '_large.png 2x';\n        icon_img.alt = tooltip;\n        button.appendChild(icon_img);\n\n        buttonGroup.appendChild(button);\n    }\n\n    if (buttonGroup.hasChildNodes()) {\n        toolbar.appendChild(buttonGroup);\n    }\n\n    var fmt_picker = document.createElement('select');\n    fmt_picker.classList = 'mpl-widget';\n    toolbar.appendChild(fmt_picker);\n    this.format_dropdown = fmt_picker;\n\n    for (var ind in mpl.extensions) {\n        var fmt = mpl.extensions[ind];\n        var option = document.createElement('option');\n        option.selected = fmt === mpl.default_extension;\n        option.innerHTML = fmt;\n        fmt_picker.appendChild(option);\n    }\n\n    var status_bar = document.createElement('span');\n    status_bar.classList = 'mpl-message';\n    toolbar.appendChild(status_bar);\n    this.message = status_bar;\n};\n\nmpl.figure.prototype.request_resize = function (x_pixels, y_pixels) {\n    // Request matplotlib to resize the figure. Matplotlib will then trigger a resize in the client,\n    // which will in turn request a refresh of the image.\n    this.send_message('resize', { width: x_pixels, height: y_pixels });\n};\n\nmpl.figure.prototype.send_message = function (type, properties) {\n    properties['type'] = type;\n    properties['figure_id'] = this.id;\n    this.ws.send(JSON.stringify(properties));\n};\n\nmpl.figure.prototype.send_draw_message = function () {\n    if (!this.waiting) {\n        this.waiting = true;\n        this.ws.send(JSON.stringify({ type: 'draw', figure_id: this.id }));\n    }\n};\n\nmpl.figure.prototype.handle_save = function (fig, _msg) {\n    var format_dropdown = fig.format_dropdown;\n    var format = format_dropdown.options[format_dropdown.selectedIndex].value;\n    fig.ondownload(fig, format);\n};\n\nmpl.figure.prototype.handle_resize = function (fig, msg) {\n    var size = msg['size'];\n    if (size[0] !== fig.canvas.width || size[1] !== fig.canvas.height) {\n        fig._resize_canvas(size[0], size[1], msg['forward']);\n        fig.send_message('refresh', {});\n    }\n};\n\nmpl.figure.prototype.handle_rubberband = function (fig, msg) {\n    var x0 = msg['x0'] / fig.ratio;\n    var y0 = (fig.canvas.height - msg['y0']) / fig.ratio;\n    var x1 = msg['x1'] / fig.ratio;\n    var y1 = (fig.canvas.height - msg['y1']) / fig.ratio;\n    x0 = Math.floor(x0) + 0.5;\n    y0 = Math.floor(y0) + 0.5;\n    x1 = Math.floor(x1) + 0.5;\n    y1 = Math.floor(y1) + 0.5;\n    var min_x = Math.min(x0, x1);\n    var min_y = Math.min(y0, y1);\n    var width = Math.abs(x1 - x0);\n    var height = Math.abs(y1 - y0);\n\n    fig.rubberband_context.clearRect(\n        0,\n        0,\n        fig.canvas.width / fig.ratio,\n        fig.canvas.height / fig.ratio\n    );\n\n    fig.rubberband_context.strokeRect(min_x, min_y, width, height);\n};\n\nmpl.figure.prototype.handle_figure_label = function (fig, msg) {\n    // Updates the figure title.\n    fig.header.textContent = msg['label'];\n};\n\nmpl.figure.prototype.handle_cursor = function (fig, msg) {\n    fig.canvas_div.style.cursor = msg['cursor'];\n};\n\nmpl.figure.prototype.handle_message = function (fig, msg) {\n    fig.message.textContent = msg['message'];\n};\n\nmpl.figure.prototype.handle_draw = function (fig, _msg) {\n    // Request the server to send over a new figure.\n    fig.send_draw_message();\n};\n\nmpl.figure.prototype.handle_image_mode = function (fig, msg) {\n    fig.image_mode = msg['mode'];\n};\n\nmpl.figure.prototype.handle_history_buttons = function (fig, msg) {\n    for (var key in msg) {\n        if (!(key in fig.buttons)) {\n            continue;\n        }\n        fig.buttons[key].disabled = !msg[key];\n        fig.buttons[key].setAttribute('aria-disabled', !msg[key]);\n    }\n};\n\nmpl.figure.prototype.handle_navigate_mode = function (fig, msg) {\n    if (msg['mode'] === 'PAN') {\n        fig.buttons['Pan'].classList.add('active');\n        fig.buttons['Zoom'].classList.remove('active');\n    } else if (msg['mode'] === 'ZOOM') {\n        fig.buttons['Pan'].classList.remove('active');\n        fig.buttons['Zoom'].classList.add('active');\n    } else {\n        fig.buttons['Pan'].classList.remove('active');\n        fig.buttons['Zoom'].classList.remove('active');\n    }\n};\n\nmpl.figure.prototype.updated_canvas_event = function () {\n    // Called whenever the canvas gets updated.\n    this.send_message('ack', {});\n};\n\n// A function to construct a web socket function for onmessage handling.\n// Called in the figure constructor.\nmpl.figure.prototype._make_on_message_function = function (fig) {\n    return function socket_on_message(evt) {\n        if (evt.data instanceof Blob) {\n            var img = evt.data;\n            if (img.type !== 'image/png') {\n                /* FIXME: We get \"Resource interpreted as Image but\n                 * transferred with MIME type text/plain:\" errors on\n                 * Chrome.  But how to set the MIME type?  It doesn't seem\n                 * to be part of the websocket stream */\n                img.type = 'image/png';\n            }\n\n            /* Free the memory for the previous frames */\n            if (fig.imageObj.src) {\n                (window.URL || window.webkitURL).revokeObjectURL(\n                    fig.imageObj.src\n                );\n            }\n\n            fig.imageObj.src = (window.URL || window.webkitURL).createObjectURL(\n                img\n            );\n            fig.updated_canvas_event();\n            fig.waiting = false;\n            return;\n        } else if (\n            typeof evt.data === 'string' &&\n            evt.data.slice(0, 21) === 'data:image/png;base64'\n        ) {\n            fig.imageObj.src = evt.data;\n            fig.updated_canvas_event();\n            fig.waiting = false;\n            return;\n        }\n\n        var msg = JSON.parse(evt.data);\n        var msg_type = msg['type'];\n\n        // Call the  \"handle_{type}\" callback, which takes\n        // the figure and JSON message as its only arguments.\n        try {\n            var callback = fig['handle_' + msg_type];\n        } catch (e) {\n            console.log(\n                \"No handler for the '\" + msg_type + \"' message type: \",\n                msg\n            );\n            return;\n        }\n\n        if (callback) {\n            try {\n                // console.log(\"Handling '\" + msg_type + \"' message: \", msg);\n                callback(fig, msg);\n            } catch (e) {\n                console.log(\n                    \"Exception inside the 'handler_\" + msg_type + \"' callback:\",\n                    e,\n                    e.stack,\n                    msg\n                );\n            }\n        }\n    };\n};\n\nfunction getModifiers(event) {\n    var mods = [];\n    if (event.ctrlKey) {\n        mods.push('ctrl');\n    }\n    if (event.altKey) {\n        mods.push('alt');\n    }\n    if (event.shiftKey) {\n        mods.push('shift');\n    }\n    if (event.metaKey) {\n        mods.push('meta');\n    }\n    return mods;\n}\n\n/*\n * return a copy of an object with only non-object keys\n * we need this to avoid circular references\n * https://stackoverflow.com/a/24161582/3208463\n */\nfunction simpleKeys(original) {\n    return Object.keys(original).reduce(function (obj, key) {\n        if (typeof original[key] !== 'object') {\n            obj[key] = original[key];\n        }\n        return obj;\n    }, {});\n}\n\nmpl.figure.prototype.mouse_event = function (event, name) {\n    if (name === 'button_press') {\n        this.canvas.focus();\n        this.canvas_div.focus();\n    }\n\n    // from https://stackoverflow.com/q/1114465\n    var boundingRect = this.canvas.getBoundingClientRect();\n    var x = (event.clientX - boundingRect.left) * this.ratio;\n    var y = (event.clientY - boundingRect.top) * this.ratio;\n\n    this.send_message(name, {\n        x: x,\n        y: y,\n        button: event.button,\n        step: event.step,\n        modifiers: getModifiers(event),\n        guiEvent: simpleKeys(event),\n    });\n\n    return false;\n};\n\nmpl.figure.prototype._key_event_extra = function (_event, _name) {\n    // Handle any extra behaviour associated with a key event\n};\n\nmpl.figure.prototype.key_event = function (event, name) {\n    // Prevent repeat events\n    if (name === 'key_press') {\n        if (event.key === this._key) {\n            return;\n        } else {\n            this._key = event.key;\n        }\n    }\n    if (name === 'key_release') {\n        this._key = null;\n    }\n\n    var value = '';\n    if (event.ctrlKey && event.key !== 'Control') {\n        value += 'ctrl+';\n    }\n    else if (event.altKey && event.key !== 'Alt') {\n        value += 'alt+';\n    }\n    else if (event.shiftKey && event.key !== 'Shift') {\n        value += 'shift+';\n    }\n\n    value += 'k' + event.key;\n\n    this._key_event_extra(event, name);\n\n    this.send_message(name, { key: value, guiEvent: simpleKeys(event) });\n    return false;\n};\n\nmpl.figure.prototype.toolbar_button_onclick = function (name) {\n    if (name === 'download') {\n        this.handle_save(this, null);\n    } else {\n        this.send_message('toolbar_button', { name: name });\n    }\n};\n\nmpl.figure.prototype.toolbar_button_onmouseover = function (tooltip) {\n    this.message.textContent = tooltip;\n};\n\n///////////////// REMAINING CONTENT GENERATED BY embed_js.py /////////////////\n// prettier-ignore\nvar _JSXTOOLS_RESIZE_OBSERVER=function(A){var t,i=new WeakMap,n=new WeakMap,a=new WeakMap,r=new WeakMap,o=new Set;function s(e){if(!(this instanceof s))throw new TypeError(\"Constructor requires 'new' operator\");i.set(this,e)}function h(){throw new TypeError(\"Function is not a constructor\")}function c(e,t,i,n){e=0 in arguments?Number(arguments[0]):0,t=1 in arguments?Number(arguments[1]):0,i=2 in arguments?Number(arguments[2]):0,n=3 in arguments?Number(arguments[3]):0,this.right=(this.x=this.left=e)+(this.width=i),this.bottom=(this.y=this.top=t)+(this.height=n),Object.freeze(this)}function d(){t=requestAnimationFrame(d);var s=new WeakMap,p=new Set;o.forEach((function(t){r.get(t).forEach((function(i){var r=t instanceof window.SVGElement,o=a.get(t),d=r?0:parseFloat(o.paddingTop),f=r?0:parseFloat(o.paddingRight),l=r?0:parseFloat(o.paddingBottom),u=r?0:parseFloat(o.paddingLeft),g=r?0:parseFloat(o.borderTopWidth),m=r?0:parseFloat(o.borderRightWidth),w=r?0:parseFloat(o.borderBottomWidth),b=u+f,F=d+l,v=(r?0:parseFloat(o.borderLeftWidth))+m,W=g+w,y=r?0:t.offsetHeight-W-t.clientHeight,E=r?0:t.offsetWidth-v-t.clientWidth,R=b+v,z=F+W,M=r?t.width:parseFloat(o.width)-R-E,O=r?t.height:parseFloat(o.height)-z-y;if(n.has(t)){var k=n.get(t);if(k[0]===M&&k[1]===O)return}n.set(t,[M,O]);var S=Object.create(h.prototype);S.target=t,S.contentRect=new c(u,d,M,O),s.has(i)||(s.set(i,[]),p.add(i)),s.get(i).push(S)}))})),p.forEach((function(e){i.get(e).call(e,s.get(e),e)}))}return s.prototype.observe=function(i){if(i instanceof window.Element){r.has(i)||(r.set(i,new Set),o.add(i),a.set(i,window.getComputedStyle(i)));var n=r.get(i);n.has(this)||n.add(this),cancelAnimationFrame(t),t=requestAnimationFrame(d)}},s.prototype.unobserve=function(i){if(i instanceof window.Element&&r.has(i)){var n=r.get(i);n.has(this)&&(n.delete(this),n.size||(r.delete(i),o.delete(i))),n.size||r.delete(i),o.size||cancelAnimationFrame(t)}},A.DOMRectReadOnly=c,A.ResizeObserver=s,A.ResizeObserverEntry=h,A}; // eslint-disable-line\nmpl.toolbar_items = [[\"Home\", \"Reset original view\", \"fa fa-home\", \"home\"], [\"Back\", \"Back to previous view\", \"fa fa-arrow-left\", \"back\"], [\"Forward\", \"Forward to next view\", \"fa fa-arrow-right\", \"forward\"], [\"\", \"\", \"\", \"\"], [\"Pan\", \"Left button pans, Right button zooms\\nx/y fixes axis, CTRL fixes aspect\", \"fa fa-arrows\", \"pan\"], [\"Zoom\", \"Zoom to rectangle\\nx/y fixes axis\", \"fa fa-square-o\", \"zoom\"], [\"\", \"\", \"\", \"\"], [\"Download\", \"Download plot\", \"fa fa-floppy-o\", \"download\"]];\n\nmpl.extensions = [\"eps\", \"jpeg\", \"pgf\", \"pdf\", \"png\", \"ps\", \"raw\", \"svg\", \"tif\", \"webp\"];\n\nmpl.default_extension = \"png\";/* global mpl */\n\nvar comm_websocket_adapter = function (comm) {\n    // Create a \"websocket\"-like object which calls the given IPython comm\n    // object with the appropriate methods. Currently this is a non binary\n    // socket, so there is still some room for performance tuning.\n    var ws = {};\n\n    ws.binaryType = comm.kernel.ws.binaryType;\n    ws.readyState = comm.kernel.ws.readyState;\n    function updateReadyState(_event) {\n        if (comm.kernel.ws) {\n            ws.readyState = comm.kernel.ws.readyState;\n        } else {\n            ws.readyState = 3; // Closed state.\n        }\n    }\n    comm.kernel.ws.addEventListener('open', updateReadyState);\n    comm.kernel.ws.addEventListener('close', updateReadyState);\n    comm.kernel.ws.addEventListener('error', updateReadyState);\n\n    ws.close = function () {\n        comm.close();\n    };\n    ws.send = function (m) {\n        //console.log('sending', m);\n        comm.send(m);\n    };\n    // Register the callback with on_msg.\n    comm.on_msg(function (msg) {\n        //console.log('receiving', msg['content']['data'], msg);\n        var data = msg['content']['data'];\n        if (data['blob'] !== undefined) {\n            data = {\n                data: new Blob(msg['buffers'], { type: data['blob'] }),\n            };\n        }\n        // Pass the mpl event to the overridden (by mpl) onmessage function.\n        ws.onmessage(data);\n    });\n    return ws;\n};\n\nmpl.mpl_figure_comm = function (comm, msg) {\n    // This is the function which gets called when the mpl process\n    // starts-up an IPython Comm through the \"matplotlib\" channel.\n\n    var id = msg.content.data.id;\n    // Get hold of the div created by the display call when the Comm\n    // socket was opened in Python.\n    var element = document.getElementById(id);\n    var ws_proxy = comm_websocket_adapter(comm);\n\n    function ondownload(figure, _format) {\n        window.open(figure.canvas.toDataURL());\n    }\n\n    var fig = new mpl.figure(id, ws_proxy, ondownload, element);\n\n    // Call onopen now - mpl needs it, as it is assuming we've passed it a real\n    // web socket which is closed, not our websocket->open comm proxy.\n    ws_proxy.onopen();\n\n    fig.parent_element = element;\n    fig.cell_info = mpl.find_output_cell(\"<div id='\" + id + \"'></div>\");\n    if (!fig.cell_info) {\n        console.error('Failed to find cell for figure', id, fig);\n        return;\n    }\n    fig.cell_info[0].output_area.element.on(\n        'cleared',\n        { fig: fig },\n        fig._remove_fig_handler\n    );\n};\n\nmpl.figure.prototype.handle_close = function (fig, msg) {\n    var width = fig.canvas.width / fig.ratio;\n    fig.cell_info[0].output_area.element.off(\n        'cleared',\n        fig._remove_fig_handler\n    );\n    fig.resizeObserverInstance.unobserve(fig.canvas_div);\n\n    // Update the output cell to use the data from the current canvas.\n    fig.push_to_output();\n    var dataURL = fig.canvas.toDataURL();\n    // Re-enable the keyboard manager in IPython - without this line, in FF,\n    // the notebook keyboard shortcuts fail.\n    IPython.keyboard_manager.enable();\n    fig.parent_element.innerHTML =\n        '<img src=\"' + dataURL + '\" width=\"' + width + '\">';\n    fig.close_ws(fig, msg);\n};\n\nmpl.figure.prototype.close_ws = function (fig, msg) {\n    fig.send_message('closing', msg);\n    // fig.ws.close()\n};\n\nmpl.figure.prototype.push_to_output = function (_remove_interactive) {\n    // Turn the data on the canvas into data in the output cell.\n    var width = this.canvas.width / this.ratio;\n    var dataURL = this.canvas.toDataURL();\n    this.cell_info[1]['text/html'] =\n        '<img src=\"' + dataURL + '\" width=\"' + width + '\">';\n};\n\nmpl.figure.prototype.updated_canvas_event = function () {\n    // Tell IPython that the notebook contents must change.\n    IPython.notebook.set_dirty(true);\n    this.send_message('ack', {});\n    var fig = this;\n    // Wait a second, then push the new image to the DOM so\n    // that it is saved nicely (might be nice to debounce this).\n    setTimeout(function () {\n        fig.push_to_output();\n    }, 1000);\n};\n\nmpl.figure.prototype._init_toolbar = function () {\n    var fig = this;\n\n    var toolbar = document.createElement('div');\n    toolbar.classList = 'btn-toolbar';\n    this.root.appendChild(toolbar);\n\n    function on_click_closure(name) {\n        return function (_event) {\n            return fig.toolbar_button_onclick(name);\n        };\n    }\n\n    function on_mouseover_closure(tooltip) {\n        return function (event) {\n            if (!event.currentTarget.disabled) {\n                return fig.toolbar_button_onmouseover(tooltip);\n            }\n        };\n    }\n\n    fig.buttons = {};\n    var buttonGroup = document.createElement('div');\n    buttonGroup.classList = 'btn-group';\n    var button;\n    for (var toolbar_ind in mpl.toolbar_items) {\n        var name = mpl.toolbar_items[toolbar_ind][0];\n        var tooltip = mpl.toolbar_items[toolbar_ind][1];\n        var image = mpl.toolbar_items[toolbar_ind][2];\n        var method_name = mpl.toolbar_items[toolbar_ind][3];\n\n        if (!name) {\n            /* Instead of a spacer, we start a new button group. */\n            if (buttonGroup.hasChildNodes()) {\n                toolbar.appendChild(buttonGroup);\n            }\n            buttonGroup = document.createElement('div');\n            buttonGroup.classList = 'btn-group';\n            continue;\n        }\n\n        button = fig.buttons[name] = document.createElement('button');\n        button.classList = 'btn btn-default';\n        button.href = '#';\n        button.title = name;\n        button.innerHTML = '<i class=\"fa ' + image + ' fa-lg\"></i>';\n        button.addEventListener('click', on_click_closure(method_name));\n        button.addEventListener('mouseover', on_mouseover_closure(tooltip));\n        buttonGroup.appendChild(button);\n    }\n\n    if (buttonGroup.hasChildNodes()) {\n        toolbar.appendChild(buttonGroup);\n    }\n\n    // Add the status bar.\n    var status_bar = document.createElement('span');\n    status_bar.classList = 'mpl-message pull-right';\n    toolbar.appendChild(status_bar);\n    this.message = status_bar;\n\n    // Add the close button to the window.\n    var buttongrp = document.createElement('div');\n    buttongrp.classList = 'btn-group inline pull-right';\n    button = document.createElement('button');\n    button.classList = 'btn btn-mini btn-primary';\n    button.href = '#';\n    button.title = 'Stop Interaction';\n    button.innerHTML = '<i class=\"fa fa-power-off icon-remove icon-large\"></i>';\n    button.addEventListener('click', function (_evt) {\n        fig.handle_close(fig, {});\n    });\n    button.addEventListener(\n        'mouseover',\n        on_mouseover_closure('Stop Interaction')\n    );\n    buttongrp.appendChild(button);\n    var titlebar = this.root.querySelector('.ui-dialog-titlebar');\n    titlebar.insertBefore(buttongrp, titlebar.firstChild);\n};\n\nmpl.figure.prototype._remove_fig_handler = function (event) {\n    var fig = event.data.fig;\n    if (event.target !== this) {\n        // Ignore bubbled events from children.\n        return;\n    }\n    fig.close_ws(fig, {});\n};\n\nmpl.figure.prototype._root_extra_style = function (el) {\n    el.style.boxSizing = 'content-box'; // override notebook setting of border-box.\n};\n\nmpl.figure.prototype._canvas_extra_style = function (el) {\n    // this is important to make the div 'focusable\n    el.setAttribute('tabindex', 0);\n    // reach out to IPython and tell the keyboard manager to turn it's self\n    // off when our div gets focus\n\n    // location in version 3\n    if (IPython.notebook.keyboard_manager) {\n        IPython.notebook.keyboard_manager.register_events(el);\n    } else {\n        // location in version 2\n        IPython.keyboard_manager.register_events(el);\n    }\n};\n\nmpl.figure.prototype._key_event_extra = function (event, _name) {\n    // Check for shift+enter\n    if (event.shiftKey && event.which === 13) {\n        this.canvas_div.blur();\n        // select the cell after this one\n        var index = IPython.notebook.find_cell_index(this.cell_info[0]);\n        IPython.notebook.select(index + 1);\n    }\n};\n\nmpl.figure.prototype.handle_save = function (fig, _msg) {\n    fig.ondownload(fig, null);\n};\n\nmpl.find_output_cell = function (html_output) {\n    // Return the cell and output element which can be found *uniquely* in the notebook.\n    // Note - this is a bit hacky, but it is done because the \"notebook_saving.Notebook\"\n    // IPython event is triggered only after the cells have been serialised, which for\n    // our purposes (turning an active figure into a static one), is too late.\n    var cells = IPython.notebook.get_cells();\n    var ncells = cells.length;\n    for (var i = 0; i < ncells; i++) {\n        var cell = cells[i];\n        if (cell.cell_type === 'code') {\n            for (var j = 0; j < cell.output_area.outputs.length; j++) {\n                var data = cell.output_area.outputs[j];\n                if (data.data) {\n                    // IPython >= 3 moved mimebundle to data attribute of output\n                    data = data.data;\n                }\n                if (data['text/html'] === html_output) {\n                    return [cell, data, j];\n                }\n            }\n        }\n    }\n};\n\n// Register the function which deals with the matplotlib target/channel.\n// The kernel may be null if the page has been refreshed.\nif (IPython.notebook.kernel !== null) {\n    IPython.notebook.kernel.comm_manager.register_target(\n        'matplotlib',\n        mpl.mpl_figure_comm\n    );\n}\n",
            "text/plain": [
              "<IPython.core.display.Javascript object>"
            ]
          },
          "metadata": {},
          "output_type": "display_data"
        },
        {
          "data": {
            "text/html": [
              "<div id='23b8183c-bea6-4f9f-ac72-c3e7fb2873eb'></div>"
            ],
            "text/plain": [
              "<IPython.core.display.HTML object>"
            ]
          },
          "metadata": {},
          "output_type": "display_data"
        }
      ],
      "source": [
        "import matplotlib.pyplot as plt\n",
        "import seaborn as sns\n",
        "from sklearn import metrics\n",
        "from sklearn.metrics import confusion_matrix\n",
        "y_true= y_test\n",
        "y_pred=clf.predict(X_test)\n",
        "cm= confusion_matrix(y_true, y_pred)\n",
        "\n",
        "f, ax =plt.subplots(figsize = (5,5))\n",
        "\n",
        "sns.heatmap(cm,annot = True, linewidths= 0.5, linecolor=\"red\", fmt=\".0f\", ax=ax)\n",
        "plt.xlabel(\"y_pred\")\n",
        "plt.ylabel(\"y_true\")\n",
        "plt.show()"
      ]
    },
    {
      "cell_type": "code",
      "execution_count": null,
      "metadata": {
        "colab": {
          "base_uri": "https://localhost:8080/",
          "height": 86
        },
        "id": "mO04Zy284Xc2",
        "outputId": "85d8c1f3-3611-4e0d-eece-55667976e0e9"
      },
      "outputs": [
        {
          "name": "stdout",
          "output_type": "stream",
          "text": [
            "Accuracy: 0.7532467532467533\n",
            "Precision: 0.46153846153846156\n",
            "Recall: 0.3333333333333333\n",
            "F1-Score: 0.3870967741935484\n"
          ]
        }
      ],
      "source": [
        "tp = cm[0, 0]\n",
        "tn = cm[1, 1]\n",
        "fp = cm[1, 0]\n",
        "fn = cm[0, 1]\n",
        "\n",
        "accuracy = (tp + tn) / (tp + tn + fp + fn)\n",
        "precision = tp / (tp + fp)\n",
        "recall = tp / (tp + fn)\n",
        "f1_score = 2 * (precision * recall) / (precision + recall)\n",
        "\n",
        "print(\"Accuracy:\", accuracy)\n",
        "print(\"Precision:\", precision)\n",
        "print(\"Recall:\", recall)\n",
        "print(\"F1-Score:\", f1_score)"
      ]
    },
    {
      "cell_type": "markdown",
      "metadata": {
        "id": "XAp19GQcrXT6"
      },
      "source": [
        "#Polynomial Features"
      ]
    },
    {
      "cell_type": "code",
      "execution_count": null,
      "metadata": {
        "id": "S3-QKx6TZS0b"
      },
      "outputs": [],
      "source": [
        "import pandas as pd\n",
        "import numpy as np\n",
        "import matplotlib.pyplot as plt\n",
        "from sklearn.preprocessing import PolynomialFeatures\n",
        "from sklearn import decomposition\n",
        "from mpl_toolkits.mplot3d import Axes3D\n",
        "%matplotlib notebook"
      ]
    },
    {
      "cell_type": "code",
      "execution_count": null,
      "metadata": {
        "id": "-tGTuvXdZSoK"
      },
      "outputs": [],
      "source": [
        "Transformed_Co='https://raw.githubusercontent.com/mittrayash/Parkinson-s-Disease-Detection-using-Gait-Analysis/master/Transformed%20Data/Transformed_Co'\n",
        "Transformed_Pt='https://raw.githubusercontent.com/mittrayash/Parkinson-s-Disease-Detection-using-Gait-Analysis/master/Transformed%20Data/Transformed_Pt'\n",
        "\n",
        "df_co = pd.read_csv(Transformed_Co, index_col = 0)\n",
        "df_pt = pd.read_csv(Transformed_Pt , index_col = 0)"
      ]
    },
    {
      "cell_type": "code",
      "execution_count": null,
      "metadata": {
        "colab": {
          "base_uri": "https://localhost:8080/"
        },
        "id": "weRmNOkortWm",
        "outputId": "48690716-24ab-4260-824d-1d6d5e6cdb67"
      },
      "outputs": [
        {
          "data": {
            "text/plain": [
              "(92, 133)"
            ]
          },
          "execution_count": 38,
          "metadata": {},
          "output_type": "execute_result"
        }
      ],
      "source": [
        "df_co.shape"
      ]
    },
    {
      "cell_type": "code",
      "execution_count": null,
      "metadata": {
        "colab": {
          "base_uri": "https://localhost:8080/"
        },
        "id": "LS5PaA8LrtSD",
        "outputId": "a448b4a2-9d7d-4dfd-dd29-f1bc76a1b2ea"
      },
      "outputs": [
        {
          "name": "stderr",
          "output_type": "stream",
          "text": [
            "<ipython-input-39-4334659f410c>:1: UserWarning: Pandas doesn't allow columns to be created via a new attribute name - see https://pandas.pydata.org/pandas-docs/stable/indexing.html#attribute-access\n",
            "  df_pt.shapeds_co = df_co.iloc[:, 1:-2]\n"
          ]
        }
      ],
      "source": [
        "df_pt.shapeds_co = df_co.iloc[:, 1:-2]\n",
        "df_pt = df_pt.iloc[:, 1:-2]"
      ]
    },
    {
      "cell_type": "code",
      "execution_count": null,
      "metadata": {
        "id": "njF-SiZ3rtO0"
      },
      "outputs": [],
      "source": [
        "poly = PolynomialFeatures(degree=2)\n",
        "df_co_poly = poly.fit_transform(df_co)\n",
        "df_pt_poly = poly.fit_transform(df_pt)"
      ]
    },
    {
      "cell_type": "markdown",
      "metadata": {
        "id": "oIh77IYGrVsr"
      },
      "source": [
        "#Random Forest using PCA without poly\n",
        "Using PCA dataset\n",
        "([PCA Data](https://github.com/ravenn3105/Parkinson-s-Disease-Detection-using-Gait-Analysis/tree/master/PCA ))\n",
        "\n",
        "Accuracy: 0.7662337662337663\n",
        "\n",
        "Precision: 0.5\n",
        "\n",
        "Recall: 0.3888888888888889\n",
        "\n",
        "F1-Score: 0.43750000000000006"
      ]
    },
    {
      "cell_type": "code",
      "execution_count": null,
      "metadata": {
        "id": "hZUpK6ULtKHh"
      },
      "outputs": [],
      "source": [
        "import pandas as pd\n",
        "import numpy as np\n",
        "\n",
        "from sklearn.model_selection import train_test_split\n",
        "from sklearn.svm import SVC\n",
        "\n",
        "from sklearn.ensemble import RandomForestClassifier"
      ]
    },
    {
      "cell_type": "code",
      "execution_count": null,
      "metadata": {
        "id": "CX5vACiatJ73"
      },
      "outputs": [],
      "source": [
        "PCA_without_poly_Co_fifth='https://raw.githubusercontent.com/ravenn3105/Parkinson-s-Disease-Detection-using-Gait-Analysis/master/PCA/PCA_without_poly_Co_test.csv'\n",
        "PCA_without_poly_Pt_fifth='https://raw.githubusercontent.com/ravenn3105/Parkinson-s-Disease-Detection-using-Gait-Analysis/master/PCA/PCA_without_poly_Pt_test.csv'\n",
        "df1 = pd.read_csv(PCA_without_poly_Co_fifth, index_col = 0)\n",
        "df2 = pd.read_csv(PCA_without_poly_Pt_fifth , index_col = 0)"
      ]
    },
    {
      "cell_type": "code",
      "execution_count": null,
      "metadata": {
        "colab": {
          "base_uri": "https://localhost:8080/"
        },
        "id": "U-ABPIBRtJtq",
        "outputId": "c6f715e6-b8c5-420c-cc81-0d4899ac3b44"
      },
      "outputs": [
        {
          "data": {
            "text/plain": [
              "(254478, 2, 217624, 2)"
            ]
          },
          "execution_count": 3,
          "metadata": {},
          "output_type": "execute_result"
        }
      ],
      "source": [
        "df1_len = df1.shape[0]\n",
        "df2_len = df2.shape[0]\n",
        "df2.shape + df1.shape"
      ]
    },
    {
      "cell_type": "code",
      "execution_count": null,
      "metadata": {
        "id": "QorXptrRtJg_"
      },
      "outputs": [],
      "source": [
        "X = pd.concat([df1, df2])"
      ]
    },
    {
      "cell_type": "code",
      "execution_count": null,
      "metadata": {
        "colab": {
          "base_uri": "https://localhost:8080/"
        },
        "id": "jqf73WrctJTp",
        "outputId": "ad126668-783d-46b3-b445-1f8c5d994dad"
      },
      "outputs": [
        {
          "data": {
            "text/plain": [
              "(217624,)"
            ]
          },
          "execution_count": 5,
          "metadata": {},
          "output_type": "execute_result"
        }
      ],
      "source": [
        "y1 = pd.Series([0]*df1_len)\n",
        "y1.shape"
      ]
    },
    {
      "cell_type": "code",
      "execution_count": null,
      "metadata": {
        "colab": {
          "base_uri": "https://localhost:8080/"
        },
        "id": "fPYVzlZ2tJG7",
        "outputId": "090e8840-6083-4c8b-ef6f-e5ad007ace64"
      },
      "outputs": [
        {
          "data": {
            "text/plain": [
              "(254478,)"
            ]
          },
          "execution_count": 6,
          "metadata": {},
          "output_type": "execute_result"
        }
      ],
      "source": [
        "y2 = pd.Series([1]*df2_len, index = range(df1_len-1,(df1_len + df2_len)-1))\n",
        "y2.shape"
      ]
    },
    {
      "cell_type": "code",
      "execution_count": null,
      "metadata": {
        "colab": {
          "base_uri": "https://localhost:8080/"
        },
        "id": "_nIgpxFUuBu1",
        "outputId": "617f36f2-6e6b-420d-b9da-8228a8b6e6ef"
      },
      "outputs": [
        {
          "data": {
            "text/plain": [
              "(472102,)"
            ]
          },
          "execution_count": 7,
          "metadata": {},
          "output_type": "execute_result"
        }
      ],
      "source": [
        "y = pd.concat([y1,y2])\n",
        "y.shape"
      ]
    },
    {
      "cell_type": "code",
      "execution_count": null,
      "metadata": {
        "colab": {
          "base_uri": "https://localhost:8080/"
        },
        "id": "0koIsG9QuBqh",
        "outputId": "7487c139-6cf7-4786-dc60-1a426adf30c1"
      },
      "outputs": [
        {
          "data": {
            "text/plain": [
              "472096    1\n",
              "472097    1\n",
              "472098    1\n",
              "472099    1\n",
              "472100    1\n",
              "dtype: int64"
            ]
          },
          "execution_count": 8,
          "metadata": {},
          "output_type": "execute_result"
        }
      ],
      "source": [
        "y.tail()"
      ]
    },
    {
      "cell_type": "code",
      "execution_count": null,
      "metadata": {
        "colab": {
          "base_uri": "https://localhost:8080/"
        },
        "id": "VL1e0siBuBl6",
        "outputId": "9209e3ca-9e0c-43f0-90e2-d0e566475673"
      },
      "outputs": [
        {
          "name": "stdout",
          "output_type": "stream",
          "text": [
            "(354076, 2)\n",
            "(118026, 2)\n",
            "(354076, 1)\n",
            "(118026, 1)\n"
          ]
        }
      ],
      "source": [
        "X_train, X_test, y_train1, y_test1 = train_test_split(X, y)\n",
        "y_train = pd.DataFrame(y_train1)\n",
        "y_test = pd.DataFrame(y_test1)\n",
        "\n",
        "\n",
        "print(X_train.shape)\n",
        "print(X_test.shape)\n",
        "print(y_train.shape)\n",
        "print(y_test.shape)"
      ]
    },
    {
      "cell_type": "code",
      "execution_count": null,
      "metadata": {
        "colab": {
          "base_uri": "https://localhost:8080/",
          "height": 52
        },
        "id": "LcT-MOpFuBgd",
        "outputId": "8dc68e19-259e-444c-8d6e-e1052f329efb"
      },
      "outputs": [
        {
          "name": "stdout",
          "output_type": "stream",
          "text": [
            "Accuracy of RF classifier on training set: 1.00\n",
            "Accuracy of RF classifier on test set: 0.77\n"
          ]
        }
      ],
      "source": [
        "clf = RandomForestClassifier(n_estimators = 1000, random_state = 0,n_jobs=-1)\n",
        "clf.fit(X_train, y_train.values.ravel())\n",
        "\n",
        "print('Accuracy of RF classifier on training set: {:.2f}'\n",
        "     .format(clf.score(X_train, y_train)))\n",
        "print('Accuracy of RF classifier on test set: {:.2f}'\n",
        "     .format(clf.score(X_test, y_test)))"
      ]
    },
    {
      "cell_type": "code",
      "execution_count": null,
      "metadata": {
        "colab": {
          "base_uri": "https://localhost:8080/",
          "height": 17
        },
        "id": "sgC0AX9h4hhJ",
        "outputId": "309bf666-f885-4321-f94d-8f190eb919c7"
      },
      "outputs": [
        {
          "data": {
            "application/javascript": "/* Put everything inside the global mpl namespace */\n/* global mpl */\nwindow.mpl = {};\n\nmpl.get_websocket_type = function () {\n    if (typeof WebSocket !== 'undefined') {\n        return WebSocket;\n    } else if (typeof MozWebSocket !== 'undefined') {\n        return MozWebSocket;\n    } else {\n        alert(\n            'Your browser does not have WebSocket support. ' +\n                'Please try Chrome, Safari or Firefox ≥ 6. ' +\n                'Firefox 4 and 5 are also supported but you ' +\n                'have to enable WebSockets in about:config.'\n        );\n    }\n};\n\nmpl.figure = function (figure_id, websocket, ondownload, parent_element) {\n    this.id = figure_id;\n\n    this.ws = websocket;\n\n    this.supports_binary = this.ws.binaryType !== undefined;\n\n    if (!this.supports_binary) {\n        var warnings = document.getElementById('mpl-warnings');\n        if (warnings) {\n            warnings.style.display = 'block';\n            warnings.textContent =\n                'This browser does not support binary websocket messages. ' +\n                'Performance may be slow.';\n        }\n    }\n\n    this.imageObj = new Image();\n\n    this.context = undefined;\n    this.message = undefined;\n    this.canvas = undefined;\n    this.rubberband_canvas = undefined;\n    this.rubberband_context = undefined;\n    this.format_dropdown = undefined;\n\n    this.image_mode = 'full';\n\n    this.root = document.createElement('div');\n    this.root.setAttribute('style', 'display: inline-block');\n    this._root_extra_style(this.root);\n\n    parent_element.appendChild(this.root);\n\n    this._init_header(this);\n    this._init_canvas(this);\n    this._init_toolbar(this);\n\n    var fig = this;\n\n    this.waiting = false;\n\n    this.ws.onopen = function () {\n        fig.send_message('supports_binary', { value: fig.supports_binary });\n        fig.send_message('send_image_mode', {});\n        if (fig.ratio !== 1) {\n            fig.send_message('set_device_pixel_ratio', {\n                device_pixel_ratio: fig.ratio,\n            });\n        }\n        fig.send_message('refresh', {});\n    };\n\n    this.imageObj.onload = function () {\n        if (fig.image_mode === 'full') {\n            // Full images could contain transparency (where diff images\n            // almost always do), so we need to clear the canvas so that\n            // there is no ghosting.\n            fig.context.clearRect(0, 0, fig.canvas.width, fig.canvas.height);\n        }\n        fig.context.drawImage(fig.imageObj, 0, 0);\n    };\n\n    this.imageObj.onunload = function () {\n        fig.ws.close();\n    };\n\n    this.ws.onmessage = this._make_on_message_function(this);\n\n    this.ondownload = ondownload;\n};\n\nmpl.figure.prototype._init_header = function () {\n    var titlebar = document.createElement('div');\n    titlebar.classList =\n        'ui-dialog-titlebar ui-widget-header ui-corner-all ui-helper-clearfix';\n    var titletext = document.createElement('div');\n    titletext.classList = 'ui-dialog-title';\n    titletext.setAttribute(\n        'style',\n        'width: 100%; text-align: center; padding: 3px;'\n    );\n    titlebar.appendChild(titletext);\n    this.root.appendChild(titlebar);\n    this.header = titletext;\n};\n\nmpl.figure.prototype._canvas_extra_style = function (_canvas_div) {};\n\nmpl.figure.prototype._root_extra_style = function (_canvas_div) {};\n\nmpl.figure.prototype._init_canvas = function () {\n    var fig = this;\n\n    var canvas_div = (this.canvas_div = document.createElement('div'));\n    canvas_div.setAttribute('tabindex', '0');\n    canvas_div.setAttribute(\n        'style',\n        'border: 1px solid #ddd;' +\n            'box-sizing: content-box;' +\n            'clear: both;' +\n            'min-height: 1px;' +\n            'min-width: 1px;' +\n            'outline: 0;' +\n            'overflow: hidden;' +\n            'position: relative;' +\n            'resize: both;' +\n            'z-index: 2;'\n    );\n\n    function on_keyboard_event_closure(name) {\n        return function (event) {\n            return fig.key_event(event, name);\n        };\n    }\n\n    canvas_div.addEventListener(\n        'keydown',\n        on_keyboard_event_closure('key_press')\n    );\n    canvas_div.addEventListener(\n        'keyup',\n        on_keyboard_event_closure('key_release')\n    );\n\n    this._canvas_extra_style(canvas_div);\n    this.root.appendChild(canvas_div);\n\n    var canvas = (this.canvas = document.createElement('canvas'));\n    canvas.classList.add('mpl-canvas');\n    canvas.setAttribute(\n        'style',\n        'box-sizing: content-box;' +\n            'pointer-events: none;' +\n            'position: relative;' +\n            'z-index: 0;'\n    );\n\n    this.context = canvas.getContext('2d');\n\n    var backingStore =\n        this.context.backingStorePixelRatio ||\n        this.context.webkitBackingStorePixelRatio ||\n        this.context.mozBackingStorePixelRatio ||\n        this.context.msBackingStorePixelRatio ||\n        this.context.oBackingStorePixelRatio ||\n        this.context.backingStorePixelRatio ||\n        1;\n\n    this.ratio = (window.devicePixelRatio || 1) / backingStore;\n\n    var rubberband_canvas = (this.rubberband_canvas = document.createElement(\n        'canvas'\n    ));\n    rubberband_canvas.setAttribute(\n        'style',\n        'box-sizing: content-box;' +\n            'left: 0;' +\n            'pointer-events: none;' +\n            'position: absolute;' +\n            'top: 0;' +\n            'z-index: 1;'\n    );\n\n    // Apply a ponyfill if ResizeObserver is not implemented by browser.\n    if (this.ResizeObserver === undefined) {\n        if (window.ResizeObserver !== undefined) {\n            this.ResizeObserver = window.ResizeObserver;\n        } else {\n            var obs = _JSXTOOLS_RESIZE_OBSERVER({});\n            this.ResizeObserver = obs.ResizeObserver;\n        }\n    }\n\n    this.resizeObserverInstance = new this.ResizeObserver(function (entries) {\n        var nentries = entries.length;\n        for (var i = 0; i < nentries; i++) {\n            var entry = entries[i];\n            var width, height;\n            if (entry.contentBoxSize) {\n                if (entry.contentBoxSize instanceof Array) {\n                    // Chrome 84 implements new version of spec.\n                    width = entry.contentBoxSize[0].inlineSize;\n                    height = entry.contentBoxSize[0].blockSize;\n                } else {\n                    // Firefox implements old version of spec.\n                    width = entry.contentBoxSize.inlineSize;\n                    height = entry.contentBoxSize.blockSize;\n                }\n            } else {\n                // Chrome <84 implements even older version of spec.\n                width = entry.contentRect.width;\n                height = entry.contentRect.height;\n            }\n\n            // Keep the size of the canvas and rubber band canvas in sync with\n            // the canvas container.\n            if (entry.devicePixelContentBoxSize) {\n                // Chrome 84 implements new version of spec.\n                canvas.setAttribute(\n                    'width',\n                    entry.devicePixelContentBoxSize[0].inlineSize\n                );\n                canvas.setAttribute(\n                    'height',\n                    entry.devicePixelContentBoxSize[0].blockSize\n                );\n            } else {\n                canvas.setAttribute('width', width * fig.ratio);\n                canvas.setAttribute('height', height * fig.ratio);\n            }\n            /* This rescales the canvas back to display pixels, so that it\n             * appears correct on HiDPI screens. */\n            canvas.style.width = width + 'px';\n            canvas.style.height = height + 'px';\n\n            rubberband_canvas.setAttribute('width', width);\n            rubberband_canvas.setAttribute('height', height);\n\n            // And update the size in Python. We ignore the initial 0/0 size\n            // that occurs as the element is placed into the DOM, which should\n            // otherwise not happen due to the minimum size styling.\n            if (fig.ws.readyState == 1 && width != 0 && height != 0) {\n                fig.request_resize(width, height);\n            }\n        }\n    });\n    this.resizeObserverInstance.observe(canvas_div);\n\n    function on_mouse_event_closure(name) {\n        /* User Agent sniffing is bad, but WebKit is busted:\n         * https://bugs.webkit.org/show_bug.cgi?id=144526\n         * https://bugs.webkit.org/show_bug.cgi?id=181818\n         * The worst that happens here is that they get an extra browser\n         * selection when dragging, if this check fails to catch them.\n         */\n        var UA = navigator.userAgent;\n        var isWebKit = /AppleWebKit/.test(UA) && !/Chrome/.test(UA);\n        if(isWebKit) {\n            return function (event) {\n                /* This prevents the web browser from automatically changing to\n                 * the text insertion cursor when the button is pressed. We\n                 * want to control all of the cursor setting manually through\n                 * the 'cursor' event from matplotlib */\n                event.preventDefault()\n                return fig.mouse_event(event, name);\n            };\n        } else {\n            return function (event) {\n                return fig.mouse_event(event, name);\n            };\n        }\n    }\n\n    canvas_div.addEventListener(\n        'mousedown',\n        on_mouse_event_closure('button_press')\n    );\n    canvas_div.addEventListener(\n        'mouseup',\n        on_mouse_event_closure('button_release')\n    );\n    canvas_div.addEventListener(\n        'dblclick',\n        on_mouse_event_closure('dblclick')\n    );\n    // Throttle sequential mouse events to 1 every 20ms.\n    canvas_div.addEventListener(\n        'mousemove',\n        on_mouse_event_closure('motion_notify')\n    );\n\n    canvas_div.addEventListener(\n        'mouseenter',\n        on_mouse_event_closure('figure_enter')\n    );\n    canvas_div.addEventListener(\n        'mouseleave',\n        on_mouse_event_closure('figure_leave')\n    );\n\n    canvas_div.addEventListener('wheel', function (event) {\n        if (event.deltaY < 0) {\n            event.step = 1;\n        } else {\n            event.step = -1;\n        }\n        on_mouse_event_closure('scroll')(event);\n    });\n\n    canvas_div.appendChild(canvas);\n    canvas_div.appendChild(rubberband_canvas);\n\n    this.rubberband_context = rubberband_canvas.getContext('2d');\n    this.rubberband_context.strokeStyle = '#000000';\n\n    this._resize_canvas = function (width, height, forward) {\n        if (forward) {\n            canvas_div.style.width = width + 'px';\n            canvas_div.style.height = height + 'px';\n        }\n    };\n\n    // Disable right mouse context menu.\n    canvas_div.addEventListener('contextmenu', function (_e) {\n        event.preventDefault();\n        return false;\n    });\n\n    function set_focus() {\n        canvas.focus();\n        canvas_div.focus();\n    }\n\n    window.setTimeout(set_focus, 100);\n};\n\nmpl.figure.prototype._init_toolbar = function () {\n    var fig = this;\n\n    var toolbar = document.createElement('div');\n    toolbar.classList = 'mpl-toolbar';\n    this.root.appendChild(toolbar);\n\n    function on_click_closure(name) {\n        return function (_event) {\n            return fig.toolbar_button_onclick(name);\n        };\n    }\n\n    function on_mouseover_closure(tooltip) {\n        return function (event) {\n            if (!event.currentTarget.disabled) {\n                return fig.toolbar_button_onmouseover(tooltip);\n            }\n        };\n    }\n\n    fig.buttons = {};\n    var buttonGroup = document.createElement('div');\n    buttonGroup.classList = 'mpl-button-group';\n    for (var toolbar_ind in mpl.toolbar_items) {\n        var name = mpl.toolbar_items[toolbar_ind][0];\n        var tooltip = mpl.toolbar_items[toolbar_ind][1];\n        var image = mpl.toolbar_items[toolbar_ind][2];\n        var method_name = mpl.toolbar_items[toolbar_ind][3];\n\n        if (!name) {\n            /* Instead of a spacer, we start a new button group. */\n            if (buttonGroup.hasChildNodes()) {\n                toolbar.appendChild(buttonGroup);\n            }\n            buttonGroup = document.createElement('div');\n            buttonGroup.classList = 'mpl-button-group';\n            continue;\n        }\n\n        var button = (fig.buttons[name] = document.createElement('button'));\n        button.classList = 'mpl-widget';\n        button.setAttribute('role', 'button');\n        button.setAttribute('aria-disabled', 'false');\n        button.addEventListener('click', on_click_closure(method_name));\n        button.addEventListener('mouseover', on_mouseover_closure(tooltip));\n\n        var icon_img = document.createElement('img');\n        icon_img.src = '_images/' + image + '.png';\n        icon_img.srcset = '_images/' + image + '_large.png 2x';\n        icon_img.alt = tooltip;\n        button.appendChild(icon_img);\n\n        buttonGroup.appendChild(button);\n    }\n\n    if (buttonGroup.hasChildNodes()) {\n        toolbar.appendChild(buttonGroup);\n    }\n\n    var fmt_picker = document.createElement('select');\n    fmt_picker.classList = 'mpl-widget';\n    toolbar.appendChild(fmt_picker);\n    this.format_dropdown = fmt_picker;\n\n    for (var ind in mpl.extensions) {\n        var fmt = mpl.extensions[ind];\n        var option = document.createElement('option');\n        option.selected = fmt === mpl.default_extension;\n        option.innerHTML = fmt;\n        fmt_picker.appendChild(option);\n    }\n\n    var status_bar = document.createElement('span');\n    status_bar.classList = 'mpl-message';\n    toolbar.appendChild(status_bar);\n    this.message = status_bar;\n};\n\nmpl.figure.prototype.request_resize = function (x_pixels, y_pixels) {\n    // Request matplotlib to resize the figure. Matplotlib will then trigger a resize in the client,\n    // which will in turn request a refresh of the image.\n    this.send_message('resize', { width: x_pixels, height: y_pixels });\n};\n\nmpl.figure.prototype.send_message = function (type, properties) {\n    properties['type'] = type;\n    properties['figure_id'] = this.id;\n    this.ws.send(JSON.stringify(properties));\n};\n\nmpl.figure.prototype.send_draw_message = function () {\n    if (!this.waiting) {\n        this.waiting = true;\n        this.ws.send(JSON.stringify({ type: 'draw', figure_id: this.id }));\n    }\n};\n\nmpl.figure.prototype.handle_save = function (fig, _msg) {\n    var format_dropdown = fig.format_dropdown;\n    var format = format_dropdown.options[format_dropdown.selectedIndex].value;\n    fig.ondownload(fig, format);\n};\n\nmpl.figure.prototype.handle_resize = function (fig, msg) {\n    var size = msg['size'];\n    if (size[0] !== fig.canvas.width || size[1] !== fig.canvas.height) {\n        fig._resize_canvas(size[0], size[1], msg['forward']);\n        fig.send_message('refresh', {});\n    }\n};\n\nmpl.figure.prototype.handle_rubberband = function (fig, msg) {\n    var x0 = msg['x0'] / fig.ratio;\n    var y0 = (fig.canvas.height - msg['y0']) / fig.ratio;\n    var x1 = msg['x1'] / fig.ratio;\n    var y1 = (fig.canvas.height - msg['y1']) / fig.ratio;\n    x0 = Math.floor(x0) + 0.5;\n    y0 = Math.floor(y0) + 0.5;\n    x1 = Math.floor(x1) + 0.5;\n    y1 = Math.floor(y1) + 0.5;\n    var min_x = Math.min(x0, x1);\n    var min_y = Math.min(y0, y1);\n    var width = Math.abs(x1 - x0);\n    var height = Math.abs(y1 - y0);\n\n    fig.rubberband_context.clearRect(\n        0,\n        0,\n        fig.canvas.width / fig.ratio,\n        fig.canvas.height / fig.ratio\n    );\n\n    fig.rubberband_context.strokeRect(min_x, min_y, width, height);\n};\n\nmpl.figure.prototype.handle_figure_label = function (fig, msg) {\n    // Updates the figure title.\n    fig.header.textContent = msg['label'];\n};\n\nmpl.figure.prototype.handle_cursor = function (fig, msg) {\n    fig.canvas_div.style.cursor = msg['cursor'];\n};\n\nmpl.figure.prototype.handle_message = function (fig, msg) {\n    fig.message.textContent = msg['message'];\n};\n\nmpl.figure.prototype.handle_draw = function (fig, _msg) {\n    // Request the server to send over a new figure.\n    fig.send_draw_message();\n};\n\nmpl.figure.prototype.handle_image_mode = function (fig, msg) {\n    fig.image_mode = msg['mode'];\n};\n\nmpl.figure.prototype.handle_history_buttons = function (fig, msg) {\n    for (var key in msg) {\n        if (!(key in fig.buttons)) {\n            continue;\n        }\n        fig.buttons[key].disabled = !msg[key];\n        fig.buttons[key].setAttribute('aria-disabled', !msg[key]);\n    }\n};\n\nmpl.figure.prototype.handle_navigate_mode = function (fig, msg) {\n    if (msg['mode'] === 'PAN') {\n        fig.buttons['Pan'].classList.add('active');\n        fig.buttons['Zoom'].classList.remove('active');\n    } else if (msg['mode'] === 'ZOOM') {\n        fig.buttons['Pan'].classList.remove('active');\n        fig.buttons['Zoom'].classList.add('active');\n    } else {\n        fig.buttons['Pan'].classList.remove('active');\n        fig.buttons['Zoom'].classList.remove('active');\n    }\n};\n\nmpl.figure.prototype.updated_canvas_event = function () {\n    // Called whenever the canvas gets updated.\n    this.send_message('ack', {});\n};\n\n// A function to construct a web socket function for onmessage handling.\n// Called in the figure constructor.\nmpl.figure.prototype._make_on_message_function = function (fig) {\n    return function socket_on_message(evt) {\n        if (evt.data instanceof Blob) {\n            var img = evt.data;\n            if (img.type !== 'image/png') {\n                /* FIXME: We get \"Resource interpreted as Image but\n                 * transferred with MIME type text/plain:\" errors on\n                 * Chrome.  But how to set the MIME type?  It doesn't seem\n                 * to be part of the websocket stream */\n                img.type = 'image/png';\n            }\n\n            /* Free the memory for the previous frames */\n            if (fig.imageObj.src) {\n                (window.URL || window.webkitURL).revokeObjectURL(\n                    fig.imageObj.src\n                );\n            }\n\n            fig.imageObj.src = (window.URL || window.webkitURL).createObjectURL(\n                img\n            );\n            fig.updated_canvas_event();\n            fig.waiting = false;\n            return;\n        } else if (\n            typeof evt.data === 'string' &&\n            evt.data.slice(0, 21) === 'data:image/png;base64'\n        ) {\n            fig.imageObj.src = evt.data;\n            fig.updated_canvas_event();\n            fig.waiting = false;\n            return;\n        }\n\n        var msg = JSON.parse(evt.data);\n        var msg_type = msg['type'];\n\n        // Call the  \"handle_{type}\" callback, which takes\n        // the figure and JSON message as its only arguments.\n        try {\n            var callback = fig['handle_' + msg_type];\n        } catch (e) {\n            console.log(\n                \"No handler for the '\" + msg_type + \"' message type: \",\n                msg\n            );\n            return;\n        }\n\n        if (callback) {\n            try {\n                // console.log(\"Handling '\" + msg_type + \"' message: \", msg);\n                callback(fig, msg);\n            } catch (e) {\n                console.log(\n                    \"Exception inside the 'handler_\" + msg_type + \"' callback:\",\n                    e,\n                    e.stack,\n                    msg\n                );\n            }\n        }\n    };\n};\n\nfunction getModifiers(event) {\n    var mods = [];\n    if (event.ctrlKey) {\n        mods.push('ctrl');\n    }\n    if (event.altKey) {\n        mods.push('alt');\n    }\n    if (event.shiftKey) {\n        mods.push('shift');\n    }\n    if (event.metaKey) {\n        mods.push('meta');\n    }\n    return mods;\n}\n\n/*\n * return a copy of an object with only non-object keys\n * we need this to avoid circular references\n * https://stackoverflow.com/a/24161582/3208463\n */\nfunction simpleKeys(original) {\n    return Object.keys(original).reduce(function (obj, key) {\n        if (typeof original[key] !== 'object') {\n            obj[key] = original[key];\n        }\n        return obj;\n    }, {});\n}\n\nmpl.figure.prototype.mouse_event = function (event, name) {\n    if (name === 'button_press') {\n        this.canvas.focus();\n        this.canvas_div.focus();\n    }\n\n    // from https://stackoverflow.com/q/1114465\n    var boundingRect = this.canvas.getBoundingClientRect();\n    var x = (event.clientX - boundingRect.left) * this.ratio;\n    var y = (event.clientY - boundingRect.top) * this.ratio;\n\n    this.send_message(name, {\n        x: x,\n        y: y,\n        button: event.button,\n        step: event.step,\n        modifiers: getModifiers(event),\n        guiEvent: simpleKeys(event),\n    });\n\n    return false;\n};\n\nmpl.figure.prototype._key_event_extra = function (_event, _name) {\n    // Handle any extra behaviour associated with a key event\n};\n\nmpl.figure.prototype.key_event = function (event, name) {\n    // Prevent repeat events\n    if (name === 'key_press') {\n        if (event.key === this._key) {\n            return;\n        } else {\n            this._key = event.key;\n        }\n    }\n    if (name === 'key_release') {\n        this._key = null;\n    }\n\n    var value = '';\n    if (event.ctrlKey && event.key !== 'Control') {\n        value += 'ctrl+';\n    }\n    else if (event.altKey && event.key !== 'Alt') {\n        value += 'alt+';\n    }\n    else if (event.shiftKey && event.key !== 'Shift') {\n        value += 'shift+';\n    }\n\n    value += 'k' + event.key;\n\n    this._key_event_extra(event, name);\n\n    this.send_message(name, { key: value, guiEvent: simpleKeys(event) });\n    return false;\n};\n\nmpl.figure.prototype.toolbar_button_onclick = function (name) {\n    if (name === 'download') {\n        this.handle_save(this, null);\n    } else {\n        this.send_message('toolbar_button', { name: name });\n    }\n};\n\nmpl.figure.prototype.toolbar_button_onmouseover = function (tooltip) {\n    this.message.textContent = tooltip;\n};\n\n///////////////// REMAINING CONTENT GENERATED BY embed_js.py /////////////////\n// prettier-ignore\nvar _JSXTOOLS_RESIZE_OBSERVER=function(A){var t,i=new WeakMap,n=new WeakMap,a=new WeakMap,r=new WeakMap,o=new Set;function s(e){if(!(this instanceof s))throw new TypeError(\"Constructor requires 'new' operator\");i.set(this,e)}function h(){throw new TypeError(\"Function is not a constructor\")}function c(e,t,i,n){e=0 in arguments?Number(arguments[0]):0,t=1 in arguments?Number(arguments[1]):0,i=2 in arguments?Number(arguments[2]):0,n=3 in arguments?Number(arguments[3]):0,this.right=(this.x=this.left=e)+(this.width=i),this.bottom=(this.y=this.top=t)+(this.height=n),Object.freeze(this)}function d(){t=requestAnimationFrame(d);var s=new WeakMap,p=new Set;o.forEach((function(t){r.get(t).forEach((function(i){var r=t instanceof window.SVGElement,o=a.get(t),d=r?0:parseFloat(o.paddingTop),f=r?0:parseFloat(o.paddingRight),l=r?0:parseFloat(o.paddingBottom),u=r?0:parseFloat(o.paddingLeft),g=r?0:parseFloat(o.borderTopWidth),m=r?0:parseFloat(o.borderRightWidth),w=r?0:parseFloat(o.borderBottomWidth),b=u+f,F=d+l,v=(r?0:parseFloat(o.borderLeftWidth))+m,W=g+w,y=r?0:t.offsetHeight-W-t.clientHeight,E=r?0:t.offsetWidth-v-t.clientWidth,R=b+v,z=F+W,M=r?t.width:parseFloat(o.width)-R-E,O=r?t.height:parseFloat(o.height)-z-y;if(n.has(t)){var k=n.get(t);if(k[0]===M&&k[1]===O)return}n.set(t,[M,O]);var S=Object.create(h.prototype);S.target=t,S.contentRect=new c(u,d,M,O),s.has(i)||(s.set(i,[]),p.add(i)),s.get(i).push(S)}))})),p.forEach((function(e){i.get(e).call(e,s.get(e),e)}))}return s.prototype.observe=function(i){if(i instanceof window.Element){r.has(i)||(r.set(i,new Set),o.add(i),a.set(i,window.getComputedStyle(i)));var n=r.get(i);n.has(this)||n.add(this),cancelAnimationFrame(t),t=requestAnimationFrame(d)}},s.prototype.unobserve=function(i){if(i instanceof window.Element&&r.has(i)){var n=r.get(i);n.has(this)&&(n.delete(this),n.size||(r.delete(i),o.delete(i))),n.size||r.delete(i),o.size||cancelAnimationFrame(t)}},A.DOMRectReadOnly=c,A.ResizeObserver=s,A.ResizeObserverEntry=h,A}; // eslint-disable-line\nmpl.toolbar_items = [[\"Home\", \"Reset original view\", \"fa fa-home\", \"home\"], [\"Back\", \"Back to previous view\", \"fa fa-arrow-left\", \"back\"], [\"Forward\", \"Forward to next view\", \"fa fa-arrow-right\", \"forward\"], [\"\", \"\", \"\", \"\"], [\"Pan\", \"Left button pans, Right button zooms\\nx/y fixes axis, CTRL fixes aspect\", \"fa fa-arrows\", \"pan\"], [\"Zoom\", \"Zoom to rectangle\\nx/y fixes axis\", \"fa fa-square-o\", \"zoom\"], [\"\", \"\", \"\", \"\"], [\"Download\", \"Download plot\", \"fa fa-floppy-o\", \"download\"]];\n\nmpl.extensions = [\"eps\", \"jpeg\", \"pgf\", \"pdf\", \"png\", \"ps\", \"raw\", \"svg\", \"tif\", \"webp\"];\n\nmpl.default_extension = \"png\";/* global mpl */\n\nvar comm_websocket_adapter = function (comm) {\n    // Create a \"websocket\"-like object which calls the given IPython comm\n    // object with the appropriate methods. Currently this is a non binary\n    // socket, so there is still some room for performance tuning.\n    var ws = {};\n\n    ws.binaryType = comm.kernel.ws.binaryType;\n    ws.readyState = comm.kernel.ws.readyState;\n    function updateReadyState(_event) {\n        if (comm.kernel.ws) {\n            ws.readyState = comm.kernel.ws.readyState;\n        } else {\n            ws.readyState = 3; // Closed state.\n        }\n    }\n    comm.kernel.ws.addEventListener('open', updateReadyState);\n    comm.kernel.ws.addEventListener('close', updateReadyState);\n    comm.kernel.ws.addEventListener('error', updateReadyState);\n\n    ws.close = function () {\n        comm.close();\n    };\n    ws.send = function (m) {\n        //console.log('sending', m);\n        comm.send(m);\n    };\n    // Register the callback with on_msg.\n    comm.on_msg(function (msg) {\n        //console.log('receiving', msg['content']['data'], msg);\n        var data = msg['content']['data'];\n        if (data['blob'] !== undefined) {\n            data = {\n                data: new Blob(msg['buffers'], { type: data['blob'] }),\n            };\n        }\n        // Pass the mpl event to the overridden (by mpl) onmessage function.\n        ws.onmessage(data);\n    });\n    return ws;\n};\n\nmpl.mpl_figure_comm = function (comm, msg) {\n    // This is the function which gets called when the mpl process\n    // starts-up an IPython Comm through the \"matplotlib\" channel.\n\n    var id = msg.content.data.id;\n    // Get hold of the div created by the display call when the Comm\n    // socket was opened in Python.\n    var element = document.getElementById(id);\n    var ws_proxy = comm_websocket_adapter(comm);\n\n    function ondownload(figure, _format) {\n        window.open(figure.canvas.toDataURL());\n    }\n\n    var fig = new mpl.figure(id, ws_proxy, ondownload, element);\n\n    // Call onopen now - mpl needs it, as it is assuming we've passed it a real\n    // web socket which is closed, not our websocket->open comm proxy.\n    ws_proxy.onopen();\n\n    fig.parent_element = element;\n    fig.cell_info = mpl.find_output_cell(\"<div id='\" + id + \"'></div>\");\n    if (!fig.cell_info) {\n        console.error('Failed to find cell for figure', id, fig);\n        return;\n    }\n    fig.cell_info[0].output_area.element.on(\n        'cleared',\n        { fig: fig },\n        fig._remove_fig_handler\n    );\n};\n\nmpl.figure.prototype.handle_close = function (fig, msg) {\n    var width = fig.canvas.width / fig.ratio;\n    fig.cell_info[0].output_area.element.off(\n        'cleared',\n        fig._remove_fig_handler\n    );\n    fig.resizeObserverInstance.unobserve(fig.canvas_div);\n\n    // Update the output cell to use the data from the current canvas.\n    fig.push_to_output();\n    var dataURL = fig.canvas.toDataURL();\n    // Re-enable the keyboard manager in IPython - without this line, in FF,\n    // the notebook keyboard shortcuts fail.\n    IPython.keyboard_manager.enable();\n    fig.parent_element.innerHTML =\n        '<img src=\"' + dataURL + '\" width=\"' + width + '\">';\n    fig.close_ws(fig, msg);\n};\n\nmpl.figure.prototype.close_ws = function (fig, msg) {\n    fig.send_message('closing', msg);\n    // fig.ws.close()\n};\n\nmpl.figure.prototype.push_to_output = function (_remove_interactive) {\n    // Turn the data on the canvas into data in the output cell.\n    var width = this.canvas.width / this.ratio;\n    var dataURL = this.canvas.toDataURL();\n    this.cell_info[1]['text/html'] =\n        '<img src=\"' + dataURL + '\" width=\"' + width + '\">';\n};\n\nmpl.figure.prototype.updated_canvas_event = function () {\n    // Tell IPython that the notebook contents must change.\n    IPython.notebook.set_dirty(true);\n    this.send_message('ack', {});\n    var fig = this;\n    // Wait a second, then push the new image to the DOM so\n    // that it is saved nicely (might be nice to debounce this).\n    setTimeout(function () {\n        fig.push_to_output();\n    }, 1000);\n};\n\nmpl.figure.prototype._init_toolbar = function () {\n    var fig = this;\n\n    var toolbar = document.createElement('div');\n    toolbar.classList = 'btn-toolbar';\n    this.root.appendChild(toolbar);\n\n    function on_click_closure(name) {\n        return function (_event) {\n            return fig.toolbar_button_onclick(name);\n        };\n    }\n\n    function on_mouseover_closure(tooltip) {\n        return function (event) {\n            if (!event.currentTarget.disabled) {\n                return fig.toolbar_button_onmouseover(tooltip);\n            }\n        };\n    }\n\n    fig.buttons = {};\n    var buttonGroup = document.createElement('div');\n    buttonGroup.classList = 'btn-group';\n    var button;\n    for (var toolbar_ind in mpl.toolbar_items) {\n        var name = mpl.toolbar_items[toolbar_ind][0];\n        var tooltip = mpl.toolbar_items[toolbar_ind][1];\n        var image = mpl.toolbar_items[toolbar_ind][2];\n        var method_name = mpl.toolbar_items[toolbar_ind][3];\n\n        if (!name) {\n            /* Instead of a spacer, we start a new button group. */\n            if (buttonGroup.hasChildNodes()) {\n                toolbar.appendChild(buttonGroup);\n            }\n            buttonGroup = document.createElement('div');\n            buttonGroup.classList = 'btn-group';\n            continue;\n        }\n\n        button = fig.buttons[name] = document.createElement('button');\n        button.classList = 'btn btn-default';\n        button.href = '#';\n        button.title = name;\n        button.innerHTML = '<i class=\"fa ' + image + ' fa-lg\"></i>';\n        button.addEventListener('click', on_click_closure(method_name));\n        button.addEventListener('mouseover', on_mouseover_closure(tooltip));\n        buttonGroup.appendChild(button);\n    }\n\n    if (buttonGroup.hasChildNodes()) {\n        toolbar.appendChild(buttonGroup);\n    }\n\n    // Add the status bar.\n    var status_bar = document.createElement('span');\n    status_bar.classList = 'mpl-message pull-right';\n    toolbar.appendChild(status_bar);\n    this.message = status_bar;\n\n    // Add the close button to the window.\n    var buttongrp = document.createElement('div');\n    buttongrp.classList = 'btn-group inline pull-right';\n    button = document.createElement('button');\n    button.classList = 'btn btn-mini btn-primary';\n    button.href = '#';\n    button.title = 'Stop Interaction';\n    button.innerHTML = '<i class=\"fa fa-power-off icon-remove icon-large\"></i>';\n    button.addEventListener('click', function (_evt) {\n        fig.handle_close(fig, {});\n    });\n    button.addEventListener(\n        'mouseover',\n        on_mouseover_closure('Stop Interaction')\n    );\n    buttongrp.appendChild(button);\n    var titlebar = this.root.querySelector('.ui-dialog-titlebar');\n    titlebar.insertBefore(buttongrp, titlebar.firstChild);\n};\n\nmpl.figure.prototype._remove_fig_handler = function (event) {\n    var fig = event.data.fig;\n    if (event.target !== this) {\n        // Ignore bubbled events from children.\n        return;\n    }\n    fig.close_ws(fig, {});\n};\n\nmpl.figure.prototype._root_extra_style = function (el) {\n    el.style.boxSizing = 'content-box'; // override notebook setting of border-box.\n};\n\nmpl.figure.prototype._canvas_extra_style = function (el) {\n    // this is important to make the div 'focusable\n    el.setAttribute('tabindex', 0);\n    // reach out to IPython and tell the keyboard manager to turn it's self\n    // off when our div gets focus\n\n    // location in version 3\n    if (IPython.notebook.keyboard_manager) {\n        IPython.notebook.keyboard_manager.register_events(el);\n    } else {\n        // location in version 2\n        IPython.keyboard_manager.register_events(el);\n    }\n};\n\nmpl.figure.prototype._key_event_extra = function (event, _name) {\n    // Check for shift+enter\n    if (event.shiftKey && event.which === 13) {\n        this.canvas_div.blur();\n        // select the cell after this one\n        var index = IPython.notebook.find_cell_index(this.cell_info[0]);\n        IPython.notebook.select(index + 1);\n    }\n};\n\nmpl.figure.prototype.handle_save = function (fig, _msg) {\n    fig.ondownload(fig, null);\n};\n\nmpl.find_output_cell = function (html_output) {\n    // Return the cell and output element which can be found *uniquely* in the notebook.\n    // Note - this is a bit hacky, but it is done because the \"notebook_saving.Notebook\"\n    // IPython event is triggered only after the cells have been serialised, which for\n    // our purposes (turning an active figure into a static one), is too late.\n    var cells = IPython.notebook.get_cells();\n    var ncells = cells.length;\n    for (var i = 0; i < ncells; i++) {\n        var cell = cells[i];\n        if (cell.cell_type === 'code') {\n            for (var j = 0; j < cell.output_area.outputs.length; j++) {\n                var data = cell.output_area.outputs[j];\n                if (data.data) {\n                    // IPython >= 3 moved mimebundle to data attribute of output\n                    data = data.data;\n                }\n                if (data['text/html'] === html_output) {\n                    return [cell, data, j];\n                }\n            }\n        }\n    }\n};\n\n// Register the function which deals with the matplotlib target/channel.\n// The kernel may be null if the page has been refreshed.\nif (IPython.notebook.kernel !== null) {\n    IPython.notebook.kernel.comm_manager.register_target(\n        'matplotlib',\n        mpl.mpl_figure_comm\n    );\n}\n",
            "text/plain": [
              "<IPython.core.display.Javascript object>"
            ]
          },
          "metadata": {},
          "output_type": "display_data"
        },
        {
          "data": {
            "text/html": [
              "<div id='56f5a007-2cca-4046-a099-f59f3d216429'></div>"
            ],
            "text/plain": [
              "<IPython.core.display.HTML object>"
            ]
          },
          "metadata": {},
          "output_type": "display_data"
        }
      ],
      "source": [
        "import matplotlib.pyplot as plt\n",
        "import seaborn as sns\n",
        "from sklearn import metrics\n",
        "from sklearn.metrics import confusion_matrix\n",
        "y_true= y_test\n",
        "y_pred=clf.predict(X_test)\n",
        "cm= confusion_matrix(y_true, y_pred)\n",
        "\n",
        "f, ax =plt.subplots(figsize = (5,5))\n",
        "\n",
        "sns.heatmap(cm,annot = True, linewidths= 0.5, linecolor=\"red\", fmt=\".0f\", ax=ax)\n",
        "plt.xlabel(\"y_pred\")\n",
        "plt.ylabel(\"y_true\")\n",
        "plt.show()"
      ]
    },
    {
      "cell_type": "code",
      "execution_count": null,
      "metadata": {
        "colab": {
          "base_uri": "https://localhost:8080/",
          "height": 86
        },
        "id": "XkqGQss94j0X",
        "outputId": "49545cbc-5031-43f5-8215-7d332d525b54"
      },
      "outputs": [
        {
          "name": "stdout",
          "output_type": "stream",
          "text": [
            "Accuracy: 0.7662337662337663\n",
            "Precision: 0.5\n",
            "Recall: 0.3888888888888889\n",
            "F1-Score: 0.43750000000000006\n"
          ]
        }
      ],
      "source": [
        "tp = cm[0, 0]\n",
        "tn = cm[1, 1]\n",
        "fp = cm[1, 0]\n",
        "fn = cm[0, 1]\n",
        "\n",
        "accuracy = (tp + tn) / (tp + tn + fp + fn)\n",
        "precision = tp / (tp + fp)\n",
        "recall = tp / (tp + fn)\n",
        "f1_score = 2 * (precision * recall) / (precision + recall)\n",
        "\n",
        "print(\"Accuracy:\", accuracy)\n",
        "print(\"Precision:\", precision)\n",
        "print(\"Recall:\", recall)\n",
        "print(\"F1-Score:\", f1_score)"
      ]
    },
    {
      "cell_type": "markdown",
      "metadata": {
        "id": "YG-hS6wbqFbz"
      },
      "source": [
        "#MLP"
      ]
    },
    {
      "cell_type": "code",
      "execution_count": null,
      "metadata": {
        "id": "oLbfdE-OqMyU"
      },
      "outputs": [],
      "source": [
        "import pandas as pd\n",
        "import numpy as np\n",
        "# from sklearn.preprocessing import PolynomialFeatures\n",
        "from sklearn import decomposition\n",
        "import os\n",
        "import scipy.stats as sc\n",
        "from sklearn.model_selection import train_test_split\n",
        "from sklearn.preprocessing import MinMaxScaler\n",
        "from sklearn.svm import SVC\n",
        "from sklearn.neural_network import MLPClassifier"
      ]
    },
    {
      "cell_type": "code",
      "execution_count": null,
      "metadata": {
        "id": "tmgPYhcsqgji"
      },
      "outputs": [],
      "source": [
        "Transformed_Co='https://raw.githubusercontent.com/mittrayash/Parkinson-s-Disease-Detection-using-Gait-Analysis/master/Transformed%20Data/Transformed_Co'\n",
        "Transformed_Pt='https://raw.githubusercontent.com/mittrayash/Parkinson-s-Disease-Detection-using-Gait-Analysis/master/Transformed%20Data/Transformed_Pt'\n",
        "\n",
        "df_co = pd.read_csv(Transformed_Co, index_col = 0)\n",
        "df_pt = pd.read_csv(Transformed_Pt , index_col = 0)"
      ]
    },
    {
      "cell_type": "code",
      "execution_count": null,
      "metadata": {
        "id": "y14Ow4JAqjhr"
      },
      "outputs": [],
      "source": [
        "df_co_pca= df_co\n",
        "df_pt_pca= df_pt\n",
        "df_co_len = df_co_pca.shape[0]\n",
        "df_pt_len = df_pt_pca.shape[0]\n",
        "df_co_pca = pd.DataFrame(df_co_pca)\n",
        "df_pt_pca = pd.DataFrame(df_pt_pca)\n",
        "X = pd.concat([df_co_pca, df_pt_pca])"
      ]
    },
    {
      "cell_type": "code",
      "execution_count": null,
      "metadata": {
        "colab": {
          "base_uri": "https://localhost:8080/"
        },
        "id": "eiVIslfBqjfb",
        "outputId": "5f7ba84a-1a54-4fa0-caf5-b55cb36a9a33"
      },
      "outputs": [
        {
          "data": {
            "text/plain": [
              "(92,)"
            ]
          },
          "execution_count": 5,
          "metadata": {},
          "output_type": "execute_result"
        }
      ],
      "source": [
        "y1 = pd.Series([0]*df_co_len)\n",
        "y1.shape"
      ]
    },
    {
      "cell_type": "code",
      "execution_count": null,
      "metadata": {
        "colab": {
          "base_uri": "https://localhost:8080/"
        },
        "id": "QbogMAN2qjc6",
        "outputId": "4495856d-a3e1-42d7-d1d9-4ba17b015bee"
      },
      "outputs": [
        {
          "data": {
            "text/plain": [
              "(214,)"
            ]
          },
          "execution_count": 6,
          "metadata": {},
          "output_type": "execute_result"
        }
      ],
      "source": [
        "y2 = pd.Series([1]*df_pt_len, index = range(df_co_len-1,(df_co_len + df_pt_len)-1))\n",
        "y2.shape"
      ]
    },
    {
      "cell_type": "code",
      "execution_count": null,
      "metadata": {
        "colab": {
          "base_uri": "https://localhost:8080/"
        },
        "id": "bZdNYZ3bqjaa",
        "outputId": "a15d2a42-7b50-4f28-ace2-68c1eaf8724e"
      },
      "outputs": [
        {
          "data": {
            "text/plain": [
              "(306,)"
            ]
          },
          "execution_count": 7,
          "metadata": {},
          "output_type": "execute_result"
        }
      ],
      "source": [
        "y = pd.concat([y1,y2])\n",
        "y.shape"
      ]
    },
    {
      "cell_type": "code",
      "execution_count": null,
      "metadata": {
        "colab": {
          "base_uri": "https://localhost:8080/"
        },
        "id": "8fiWacg4qjXX",
        "outputId": "a2964fb8-54fe-42da-fb3b-30c0aca7cf12"
      },
      "outputs": [],
      "source": [
        "c_val = 0\n",
        "score_val = 0\n",
        "min_range = 0\n",
        "max_range = 100\n",
        "state = 0\n",
        "gamma = 0\n",
        "\n",
        "\n",
        "for rand_state in range(min_range, max_range):\n",
        "    X_train, X_test, y_train1, y_test1 = train_test_split(X, y, random_state = rand_state)\n",
        "    y_train = pd.DataFrame(y_train1)\n",
        "    y_test = pd.DataFrame(y_test1)\n",
        "\n",
        "    scaler = MinMaxScaler().fit(X_train)\n",
        "    X_train = scaler.transform(X_train)\n",
        "    X_test = scaler.transform(X_test)\n",
        "\n",
        "    clf = MLPClassifier(max_iter=500, activation='relu').fit(X_train, y_train)\n",
        "    score = clf.score(X_test, np.ravel(y_test))\n",
        "\n"
      ]
    },
    {
      "cell_type": "code",
      "execution_count": null,
      "metadata": {
        "colab": {
          "base_uri": "https://localhost:8080/",
          "height": 465
        },
        "id": "IJPaQ2t-qjUU",
        "outputId": "4b7423af-4025-4447-c6e0-6ea0a90a3ea6"
      },
      "outputs": [
        {
          "data": {
            "image/png": "[encoded data removed]",
            "text/plain": [
              "<Figure size 500x500 with 2 Axes>"
            ]
          },
          "metadata": {},
          "output_type": "display_data"
        }
      ],
      "source": [
        "import matplotlib.pyplot as plt\n",
        "import seaborn as sns\n",
        "from sklearn import metrics\n",
        "from sklearn.metrics import confusion_matrix\n",
        "y_true= y_test\n",
        "y_pred=clf.predict(X_test)\n",
        "cm= confusion_matrix(y_true, y_pred)\n",
        "\n",
        "f, ax =plt.subplots(figsize = (5,5))\n",
        "\n",
        "sns.heatmap(cm,annot = True, linewidths= 0.5, linecolor=\"red\", fmt=\".0f\", ax=ax)\n",
        "plt.xlabel(\"y_pred\")\n",
        "plt.ylabel(\"y_true\")\n",
        "plt.show()"
      ]
    },
    {
      "cell_type": "code",
      "execution_count": null,
      "metadata": {
        "colab": {
          "base_uri": "https://localhost:8080/"
        },
        "id": "K2OzJCN7qjRb",
        "outputId": "a75119e2-1126-46b8-ab57-4bbb0f43ca7d"
      },
      "outputs": [
        {
          "name": "stdout",
          "output_type": "stream",
          "text": [
            "Accuracy: 0.8051948051948052\n",
            "Precision: 0.7777777777777778\n",
            "Recall: 0.56\n",
            "F1-Score: 0.6511627906976745\n"
          ]
        }
      ],
      "source": [
        "tp = cm[0, 0]\n",
        "tn = cm[1, 1]\n",
        "fp = cm[1, 0]\n",
        "fn = cm[0, 1]\n",
        "\n",
        "accuracy = (tp + tn) / (tp + tn + fp + fn)\n",
        "precision = tp / (tp + fp)\n",
        "recall = tp / (tp + fn)\n",
        "f1_score = 2 * (precision * recall) / (precision + recall)\n",
        "\n",
        "print(\"Accuracy:\", accuracy)\n",
        "print(\"Precision:\", precision)\n",
        "print(\"Recall:\", recall)\n",
        "print(\"F1-Score:\", f1_score)"
      ]
    },
    {
      "cell_type": "code",
      "execution_count": null,
      "metadata": {
        "id": "oUnsFaL4qjOl"
      },
      "outputs": [],
      "source": []
    },
    {
      "cell_type": "code",
      "execution_count": null,
      "metadata": {
        "id": "GafcpfzaqjKD"
      },
      "outputs": [],
      "source": []
    },
    {
      "cell_type": "code",
      "execution_count": null,
      "metadata": {
        "id": "FBjoqt9KqjCt"
      },
      "outputs": [],
      "source": []
    }
  ],
  "metadata": {
    "colab": {
      "collapsed_sections": [
        "_sG5dffFfc6l",
        "SOt98jjsaRsM",
        "ouW4KJUt-CjX",
        "KhbOmunESeTB",
        "SZebuFjXQ9_Z"
      ],
      "provenance": []
    },
    "kernelspec": {
      "display_name": "Python 3",
      "name": "python3"
    },
    "language_info": {
      "name": "python"
    }
  },
  "nbformat": 4,
  "nbformat_minor": 0
}
